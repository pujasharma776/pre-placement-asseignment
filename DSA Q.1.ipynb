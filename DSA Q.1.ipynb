{
 "cells": [
  {
   "cell_type": "markdown",
   "id": "2b8cc909",
   "metadata": {},
   "source": [
    "# DSA Q.1"
   ]
  },
  {
   "cell_type": "markdown",
   "id": "1fcceebe",
   "metadata": {},
   "source": [
    "## Move Zeroes\n",
    "1.Given an integer array nums, move all 0's to the end of it while maintaining the relative order of the non-zero elements.\n",
    "\n",
    "Note that you must do this in-place without making a copy of the array.\n",
    "\n",
    "Example 1:\n",
    "Input: nums = [0,1,0,3,12]\n",
    "Output: [1,3,12,0,0]\n",
    "\n",
    "Example 2:\n",
    "Input: nums = [0]\n",
    "Output: [0]\n",
    "\n",
    "Constraints:\n",
    "a. 1 <= nums.length <= 10^4\n",
    "b. -2^31 <= nums[i] <= 2^31 - 1\n"
   ]
  },
  {
   "cell_type": "markdown",
   "id": "48e1bc43",
   "metadata": {},
   "source": [
    " Ans:-Here's the step-by-step algorithm:\n",
    "        \n",
    "    1.Initialize two pointers, left and right, both pointing to the start of the array.\n",
    "    2. Iterate through the array using the right pointer.\n",
    "    3.If the element at the right pointer is non-zero, swap it with the element at the left pointer and increment both pointers.\n",
    "    4.If the element at the right pointer is zero, only increment the right pointer.\n",
    "    5.Repeat steps 3 and 4 until the right pointer reaches the end of the array.\n",
    "    6.After the iteration, all non-zero elements will be moved to the front of the array, and the left pointer will be pointing to the correct position for the first zero.\n",
    "    7.Iterate from the left pointer to the end of the array and set all elements to zero.\n",
    "\n"
   ]
  },
  {
   "cell_type": "code",
   "execution_count": 2,
   "id": "33516b53",
   "metadata": {},
   "outputs": [],
   "source": [
    "def moveZeroes(nums):\n",
    "    left = right = 0\n",
    "\n",
    "    while right < len(nums):\n",
    "        if nums[right] != 0:\n",
    "            nums[left], nums[right] = nums[right], nums[left]\n",
    "            left += 1\n",
    "        right += 1\n",
    "\n",
    "    for i in range(left, len(nums)):\n",
    "        nums[i] = 0\n",
    "\n",
    "    return nums\n"
   ]
  },
  {
   "cell_type": "markdown",
   "id": "e3399b3f",
   "metadata": {},
   "source": [
    "Example 1:"
   ]
  },
  {
   "cell_type": "code",
   "execution_count": 5,
   "id": "3a7442fb",
   "metadata": {},
   "outputs": [
    {
     "name": "stdout",
     "output_type": "stream",
     "text": [
      "[1, 3, 12, 0, 0]\n"
     ]
    }
   ],
   "source": [
    "nums = [0, 1, 0, 3, 12]\n",
    "print(moveZeroes(nums))\n"
   ]
  },
  {
   "cell_type": "markdown",
   "id": "10cd1735",
   "metadata": {},
   "source": [
    "Example 2:"
   ]
  },
  {
   "cell_type": "code",
   "execution_count": 6,
   "id": "4fa07eb9",
   "metadata": {},
   "outputs": [
    {
     "name": "stdout",
     "output_type": "stream",
     "text": [
      "[0]\n"
     ]
    }
   ],
   "source": [
    "nums = [0]\n",
    "print(moveZeroes(nums))\n"
   ]
  },
  {
   "cell_type": "code",
   "execution_count": null,
   "id": "7e011ef5",
   "metadata": {},
   "outputs": [],
   "source": []
  }
 ],
 "metadata": {
  "kernelspec": {
   "display_name": "Python 3 (ipykernel)",
   "language": "python",
   "name": "python3"
  },
  "language_info": {
   "codemirror_mode": {
    "name": "ipython",
    "version": 3
   },
   "file_extension": ".py",
   "mimetype": "text/x-python",
   "name": "python",
   "nbconvert_exporter": "python",
   "pygments_lexer": "ipython3",
   "version": "3.10.7"
  }
 },
 "nbformat": 4,
 "nbformat_minor": 5
}
