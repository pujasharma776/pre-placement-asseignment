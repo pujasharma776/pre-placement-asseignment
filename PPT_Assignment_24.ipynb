{
 "cells": [
  {
   "cell_type": "markdown",
   "id": "39b51f09",
   "metadata": {},
   "source": [
    "# PPT_Assignment_24"
   ]
  },
  {
   "cell_type": "markdown",
   "id": "63913d36",
   "metadata": {},
   "source": [
    "## <aside>\n",
    "💡 1. **Roman to Integer**\n",
    "\n",
    "Roman numerals are represented by seven different symbols: `I`, `V`, `X`, `L`, `C`, `D` and `M`.\n",
    "\n",
    "```\n",
    "SymbolValue\n",
    "I             1\n",
    "V             5\n",
    "X             10\n",
    "L             50\n",
    "C             100\n",
    "D             500\n",
    "M             1000\n",
    "```\n",
    "\n",
    "For example, `2` is written as `II` in Roman numeral, just two ones added together. `12` is written as `XII`, which is simply `X + II`. The number `27` is written as `XXVII`, which is `XX + V + II`.\n",
    "\n",
    "Roman numerals are usually written largest to smallest from left to right. However, the numeral for four is not `IIII`. Instead, the number four is written as `IV`. Because the one is before the five we subtract it making four. The same principle applies to the number nine, which is written as `IX`. There are six instances where subtraction is used:\n",
    "\n",
    "- `I` can be placed before `V` (5) and `X` (10) to make 4 and 9.\n",
    "- `X` can be placed before `L` (50) and `C` (100) to make 40 and 90.\n",
    "- `C` can be placed before `D` (500) and `M` (1000) to make 400 and 900.\n",
    "\n",
    "Given a roman numeral, convert it to an integer.\n",
    "\n",
    "**Example 1:**\n",
    "\n",
    "```\n",
    "Input: s = \"III\"\n",
    "Output: 3\n",
    "Explanation: III = 3.\n",
    "```\n",
    "\n",
    "**Example 2:**\n",
    "\n",
    "```\n",
    "Input: s = \"LVIII\"\n",
    "Output: 58\n",
    "Explanation: L = 50, V= 5, III = 3.\n",
    "```\n",
    "\n",
    "**Constraints:**\n",
    "\n",
    "- `1 <= s.length <= 15`\n",
    "- `s` contains only the characters `('I', 'V', 'X', 'L', 'C', 'D', 'M')`.\n",
    "- It is **guaranteed** that `s` is a valid roman numeral in the range `[1, 3999]`.\n",
    "****\n",
    "</aside>"
   ]
  },
  {
   "cell_type": "raw",
   "id": "b9735ca0",
   "metadata": {},
   "source": [
    "Ans:-Here's the step-by-step approach:\n",
    "1.Create a dictionary, roman_values, to store the integer values for each Roman numeral symbol.\n",
    "2.Initialize the total sum, num, to 0.\n",
    "3.Iterate through the characters, ch, in the input string, s, from left to right:\n",
    " .If ch is the last character or its value is greater than or equal to the value of the next character, add the corresponding value of ch to the total sum.\n",
    ".Otherwise, subtract the value of ch from the total sum since it represents a subtraction case. Add the value of the next .character to the total sum, and increment the index of the loop by 1 to skip the next character.\n",
    ".Return the total sum as the result."
   ]
  },
  {
   "cell_type": "code",
   "execution_count": 1,
   "id": "596fc91c",
   "metadata": {},
   "outputs": [],
   "source": [
    "def romanToInt(s):\n",
    "    roman_values = {\n",
    "        'I': 1,\n",
    "        'V': 5,\n",
    "        'X': 10,\n",
    "        'L': 50,\n",
    "        'C': 100,\n",
    "        'D': 500,\n",
    "        'M': 1000\n",
    "    }\n",
    "\n",
    "    num = 0\n",
    "    n = len(s)\n",
    "\n",
    "    for i in range(n):\n",
    "        if i == n - 1 or roman_values[s[i]] >= roman_values[s[i+1]]:\n",
    "            num += roman_values[s[i]]\n",
    "        else:\n",
    "            num -= roman_values[s[i]]\n",
    "            num += roman_values[s[i+1]]\n",
    "            i += 1\n",
    "\n",
    "    return num\n"
   ]
  },
  {
   "cell_type": "code",
   "execution_count": 2,
   "id": "ea81c645",
   "metadata": {},
   "outputs": [
    {
     "name": "stdout",
     "output_type": "stream",
     "text": [
      "3\n",
      "58\n"
     ]
    }
   ],
   "source": [
    "# Example 1\n",
    "s1 = \"III\"\n",
    "print(romanToInt(s1))\n",
    "# Output: 3\n",
    "\n",
    "# Example 2\n",
    "s2 = \"LVIII\"\n",
    "print(romanToInt(s2))\n",
    "# Output: 58\n"
   ]
  },
  {
   "cell_type": "markdown",
   "id": "4cfcbaa2",
   "metadata": {},
   "source": [
    "## <aside>\n",
    "💡 2. **Longest Substring Without Repeating Characters**\n",
    "\n",
    "Given a string `s`, find the length of the **longest substring** without repeating characters.\n",
    "\n",
    "**Example 1:**\n",
    "\n",
    "```\n",
    "Input: s = \"abcabcbb\"\n",
    "Output: 3\n",
    "Explanation: The answer is \"abc\", with the length of 3.\n",
    "```\n",
    "\n",
    "**Example 2:**\n",
    "\n",
    "```\n",
    "Input: s = \"bbbbb\"\n",
    "Output: 1\n",
    "Explanation: The answer is \"b\", with the length of 1.\n",
    "```\n",
    "\n",
    "**Example 3:**\n",
    "\n",
    "```\n",
    "Input: s = \"pwwkew\"\n",
    "Output: 3\n",
    "Explanation: The answer is \"wke\", with the length of 3.\n",
    "Notice that the answer must be a substring, \"pwke\" is a subsequence and not a substring.\n",
    "```\n",
    "\n",
    "**Constraints:**\n",
    "\n",
    "- `0 <= s.length <= 50000`\n",
    "- `s` consists of English letters, digits, symbols and spaces.\n",
    "</aside>"
   ]
  },
  {
   "cell_type": "raw",
   "id": "7b43fdf5",
   "metadata": {},
   "source": [
    "Ansd:-Here's the step-by-step approach:\n",
    "\n",
    "1.Initialize two pointers, start and end, both pointing to the start of the string, and initialize a variable max_length to store the maximum length of the substring.\n",
    "2.Create an empty set, seen, to keep track of the characters seen so far.\n",
    "3.Iterate through the characters, ch, in the string, moving the end pointer forward:\n",
    ".If ch is not in the seen set, add it to the set and calculate the length of the current substring as end - start + 1. Update max_length if necessary.\n",
    ".If ch is already in the seen set, remove the character at the start pointer from the seen set and move the start pointer forward until the repeated character is no longer in the set.\n",
    "4.Return max_length as the result."
   ]
  },
  {
   "cell_type": "code",
   "execution_count": 3,
   "id": "3248ce2c",
   "metadata": {},
   "outputs": [],
   "source": [
    "def lengthOfLongestSubstring(s):\n",
    "    n = len(s)\n",
    "    seen = set()\n",
    "    start = 0\n",
    "    end = 0\n",
    "    max_length = 0\n",
    "\n",
    "    while end < n:\n",
    "        if s[end] not in seen:\n",
    "            seen.add(s[end])\n",
    "            max_length = max(max_length, end - start + 1)\n",
    "            end += 1\n",
    "        else:\n",
    "            seen.remove(s[start])\n",
    "            start += 1\n",
    "\n",
    "    return max_length\n"
   ]
  },
  {
   "cell_type": "code",
   "execution_count": 4,
   "id": "1f32e981",
   "metadata": {},
   "outputs": [
    {
     "name": "stdout",
     "output_type": "stream",
     "text": [
      "3\n",
      "1\n",
      "3\n"
     ]
    }
   ],
   "source": [
    "# Example 1\n",
    "s1 = \"abcabcbb\"\n",
    "print(lengthOfLongestSubstring(s1))\n",
    "# Output: 3\n",
    "\n",
    "# Example 2\n",
    "s2 = \"bbbbb\"\n",
    "print(lengthOfLongestSubstring(s2))\n",
    "# Output: 1\n",
    "\n",
    "# Example 3\n",
    "s3 = \"pwwkew\"\n",
    "print(lengthOfLongestSubstring(s3))\n",
    "# Output: 3\n"
   ]
  },
  {
   "cell_type": "markdown",
   "id": "54867ce2",
   "metadata": {},
   "source": [
    "## <aside>\n",
    "💡 3. **Majority Element**\n",
    "\n",
    "Given an array `nums` of size `n`, return *the majority element*.\n",
    "\n",
    "The majority element is the element that appears more than `⌊n / 2⌋` times. You may assume that the majority element always exists in the array.\n",
    "\n",
    "**Example 1:**\n",
    "\n",
    "```\n",
    "Input: nums = [3,2,3]\n",
    "Output: 3\n",
    "```\n",
    "\n",
    "**Example 2:**\n",
    "\n",
    "```\n",
    "Input: nums = [2,2,1,1,1,2,2]\n",
    "Output: 2\n",
    "```\n",
    "\n",
    "**Constraints:**\n",
    "\n",
    "- `n == nums.length`\n",
    "- `1 <= n <= 5 * 10^4`\n",
    "- `-10^9 <= nums[i] <= 10^9`\n",
    "</aside>"
   ]
  },
  {
   "cell_type": "raw",
   "id": "e385ac9b",
   "metadata": {},
   "source": [
    "Ans:-Here's the step-by-step approach:\n",
    "\n",
    "1.Initialize a variable count to keep track of the count of the majority element, and initialize a variable candidate to store the current candidate for the majority element.\n",
    "2.Iterate through the elements, num, in the array:\n",
    ".If count is 0, set the current element num as the new candidate and increment count.\n",
    ".If num is equal to the candidate, increment count.\n",
    ".If num is different from the candidate, decrement count.\n",
    "3.At the end of the iteration, the candidate variable will hold the majority element.\n"
   ]
  },
  {
   "cell_type": "code",
   "execution_count": 5,
   "id": "14d3b04f",
   "metadata": {},
   "outputs": [],
   "source": [
    "def majorityElement(nums):\n",
    "    count = 0\n",
    "    candidate = None\n",
    "\n",
    "    for num in nums:\n",
    "        if count == 0:\n",
    "            candidate = num\n",
    "        count += 1 if num == candidate else -1\n",
    "\n",
    "    return candidate\n"
   ]
  },
  {
   "cell_type": "code",
   "execution_count": 6,
   "id": "92f09be7",
   "metadata": {},
   "outputs": [
    {
     "name": "stdout",
     "output_type": "stream",
     "text": [
      "3\n",
      "2\n"
     ]
    }
   ],
   "source": [
    "# Example 1\n",
    "nums1 = [3, 2, 3]\n",
    "print(majorityElement(nums1))\n",
    "# Output: 3\n",
    "\n",
    "# Example 2\n",
    "nums2 = [2, 2, 1, 1, 1, 2, 2]\n",
    "print(majorityElement(nums2))\n",
    "# Output: 2\n"
   ]
  },
  {
   "cell_type": "markdown",
   "id": "0b26efda",
   "metadata": {},
   "source": [
    "## <aside>\n",
    "💡 4. **Group Anagram**\n",
    "\n",
    "Given an array of strings `strs`, group **the anagrams** together. You can return the answer in **any order**.\n",
    "\n",
    "An **Anagram** is a word or phrase formed by rearranging the letters of a different word or phrase, typically using all the original letters exactly once.\n",
    "\n",
    "**Example 1:**\n",
    "\n",
    "```\n",
    "Input: strs = [\"eat\",\"tea\",\"tan\",\"ate\",\"nat\",\"bat\"]\n",
    "Output: [[\"bat\"],[\"nat\",\"tan\"],[\"ate\",\"eat\",\"tea\"]]\n",
    "```\n",
    "\n",
    "**Example 2:**\n",
    "\n",
    "```\n",
    "Input: strs = [\"\"]\n",
    "Output: [[\"\"]]\n",
    "```\n",
    "\n",
    "**Example 3:**\n",
    "\n",
    "```\n",
    "Input: strs = [\"a\"]\n",
    "Output: [[\"a\"]]\n",
    "```\n",
    "\n",
    "**Constraints:**\n",
    "\n",
    "- `1 <= strs.length <= 10000`\n",
    "- `0 <= strs[i].length <= 100`\n",
    "- `strs[i]` consists of lowercase English letters.\n",
    "</aside>"
   ]
  },
  {
   "cell_type": "raw",
   "id": "62105e04",
   "metadata": {},
   "source": [
    "Ans:-Here's the step-by-step approach:\n",
    "\n",
    "1.Initialize an empty hashmap to store the groups of anagrams.\n",
    "2.Iterate through each string, s, in the input array, strs:\n",
    ".Sort the characters of s to create a sorted key.\n",
    ".If the sorted key exists in the hashmap, append s to the corresponding list.\n",
    ".If the sorted key does not exist in the hashmap, create a new list with s as the first element and add it to the hashmap with the sorted key as the key.\n",
    "3.Return the values of the hashmap as the grouped anagrams."
   ]
  },
  {
   "cell_type": "code",
   "execution_count": 7,
   "id": "7fb75097",
   "metadata": {},
   "outputs": [],
   "source": [
    "from collections import defaultdict\n",
    "\n",
    "def groupAnagrams(strs):\n",
    "    groups = defaultdict(list)\n",
    "\n",
    "    for s in strs:\n",
    "        key = ''.join(sorted(s))\n",
    "        groups[key].append(s)\n",
    "\n",
    "    return list(groups.values())\n"
   ]
  },
  {
   "cell_type": "code",
   "execution_count": 8,
   "id": "ffa35f71",
   "metadata": {},
   "outputs": [
    {
     "name": "stdout",
     "output_type": "stream",
     "text": [
      "[['eat', 'tea', 'ate'], ['tan', 'nat'], ['bat']]\n"
     ]
    }
   ],
   "source": [
    "strs = [\"eat\", \"tea\", \"tan\", \"ate\", \"nat\", \"bat\"]\n",
    "print(groupAnagrams(strs))\n",
    "# Output: [[\"eat\", \"tea\", \"ate\"], [\"tan\", \"nat\"], [\"bat\"]]\n"
   ]
  },
  {
   "cell_type": "markdown",
   "id": "1a24e5a8",
   "metadata": {},
   "source": [
    "## <aside>\n",
    "💡 5. **Ugly Numbers**\n",
    "\n",
    "An **ugly number** is a positive integer whose prime factors are limited to `2`, `3`, and `5`.\n",
    "\n",
    "Given an integer `n`, return *the* `nth` ***ugly number***.\n",
    "\n",
    "**Example 1:**\n",
    "\n",
    "```\n",
    "Input: n = 10\n",
    "Output: 12\n",
    "Explanation: [1, 2, 3, 4, 5, 6, 8, 9, 10, 12] is the sequence of the first 10 ugly numbers.\n",
    "```\n",
    "\n",
    "**Example 2:**\n",
    "\n",
    "```\n",
    "Input: n = 1\n",
    "Output: 1\n",
    "Explanation: 1 has no prime factors, therefore all of its prime factors are limited to 2, 3, and 5.\n",
    "```\n",
    "\n",
    "**Constraints:**\n",
    "\n",
    "- `1 <= n <= 1690`\n",
    "</aside>"
   ]
  },
  {
   "cell_type": "code",
   "execution_count": 9,
   "id": "f7b2387a",
   "metadata": {},
   "outputs": [],
   "source": [
    "def nthUglyNumber(n):\n",
    "    ugly = [1]\n",
    "    p2 = p3 = p5 = 0\n",
    "\n",
    "    for _ in range(n - 1):\n",
    "        next_ugly = min(2 * ugly[p2], 3 * ugly[p3], 5 * ugly[p5])\n",
    "        ugly.append(next_ugly)\n",
    "\n",
    "        if next_ugly == 2 * ugly[p2]:\n",
    "            p2 += 1\n",
    "        if next_ugly == 3 * ugly[p3]:\n",
    "            p3 += 1\n",
    "        if next_ugly == 5 * ugly[p5]:\n",
    "            p5 += 1\n",
    "\n",
    "    return ugly[-1]\n"
   ]
  },
  {
   "cell_type": "code",
   "execution_count": 10,
   "id": "0f3e0c99",
   "metadata": {},
   "outputs": [
    {
     "name": "stdout",
     "output_type": "stream",
     "text": [
      "12\n",
      "1\n"
     ]
    }
   ],
   "source": [
    "print(nthUglyNumber(10))\n",
    "# Output: 12\n",
    "\n",
    "print(nthUglyNumber(1))\n",
    "# Output: 1\n"
   ]
  },
  {
   "cell_type": "markdown",
   "id": "61f887f5",
   "metadata": {},
   "source": [
    "## <aside>\n",
    "💡 6. **Top K Frequent Words**\n",
    "\n",
    "Given an array of strings `words` and an integer `k`, return *the* `k` *most frequent strings*.\n",
    "\n",
    "Return the answer **sorted** by **the frequency** from highest to lowest. Sort the words with the same frequency by their **lexicographical order**.\n",
    "\n",
    "**Example 1:**\n",
    "\n",
    "```\n",
    "Input: words = [\"i\",\"love\",\"leetcode\",\"i\",\"love\",\"coding\"], k = 2\n",
    "Output: [\"i\",\"love\"]\n",
    "Explanation: \"i\" and \"love\" are the two most frequent words.\n",
    "Note that \"i\" comes before \"love\" due to a lower alphabetical order.\n",
    "```\n",
    "\n",
    "**Example 2:**\n",
    "\n",
    "```\n",
    "Input: words = [\"the\",\"day\",\"is\",\"sunny\",\"the\",\"the\",\"the\",\"sunny\",\"is\",\"is\"], k = 4\n",
    "Output: [\"the\",\"is\",\"sunny\",\"day\"]\n",
    "Explanation: \"the\", \"is\", \"sunny\" and \"day\" are the four most frequent words, with the number of occurrence being 4, 3, 2 and 1 respectively.\n",
    "```\n",
    "\n",
    "**Constraints:**\n",
    "\n",
    "- `1 <= words.length <= 500`\n",
    "- `1 <= words[i].length <= 10`\n",
    "- `words[i]` consists of lowercase English letters.\n",
    "- `k` is in the range `[1, The number of **unique** words[i]]`\n",
    "</aside>"
   ]
  },
  {
   "cell_type": "code",
   "execution_count": 11,
   "id": "8ac9ec48",
   "metadata": {},
   "outputs": [],
   "source": [
    "def topKFrequent(words, k):\n",
    "    word_freq = {}\n",
    "    for word in words:\n",
    "        word_freq[word] = word_freq.get(word, 0) + 1\n",
    "\n",
    "    unique_words = sorted(word_freq.keys())\n",
    "    sorted_words = sorted(unique_words, key=lambda x: (-word_freq[x], x))\n",
    "\n",
    "    return sorted_words[:k]\n"
   ]
  },
  {
   "cell_type": "code",
   "execution_count": 12,
   "id": "89feddb1",
   "metadata": {},
   "outputs": [
    {
     "name": "stdout",
     "output_type": "stream",
     "text": [
      "['i', 'love']\n",
      "['the', 'is', 'sunny', 'day']\n"
     ]
    }
   ],
   "source": [
    "words1 = [\"i\", \"love\", \"leetcode\", \"i\", \"love\", \"coding\"]\n",
    "k1 = 2\n",
    "print(topKFrequent(words1, k1))\n",
    "# Output: [\"i\", \"love\"]\n",
    "\n",
    "words2 = [\"the\", \"day\", \"is\", \"sunny\", \"the\", \"the\", \"the\", \"sunny\", \"is\", \"is\"]\n",
    "k2 = 4\n",
    "print(topKFrequent(words2, k2))\n",
    "# Output: [\"the\", \"is\", \"sunny\", \"day\"]\n"
   ]
  },
  {
   "cell_type": "markdown",
   "id": "947043de",
   "metadata": {},
   "source": [
    "## <aside>\n",
    "💡 7. **Sliding Window Maximum**\n",
    "\n",
    "You are given an array of integers `nums`, there is a sliding window of size `k` which is moving from the very left of the array to the very right. You can only see the `k` numbers in the window. Each time the sliding window moves right by one position.\n",
    "\n",
    "Return *the max sliding window*.\n",
    "\n",
    "**Example 1:**\n",
    "\n",
    "```\n",
    "Input: nums = [1,3,-1,-3,5,3,6,7], k = 3\n",
    "Output: [3,3,5,5,6,7]\n",
    "Explanation:\n",
    "Window position                Max\n",
    "---------------               -----\n",
    "[1  3  -1] -3  5  3  6 7         3\n",
    " 1 [3  -1  -3] 5  3  6 7         3\n",
    " 1  3 [-1  -3  5] 3  6 7         5\n",
    " 1  3  -1 [-3  5  3] 6 7         5\n",
    " 1  3  -1  -3 [5  3  6]7         6\n",
    " 1  3  -1  -3  5 [3  6  7]       7\n",
    "```\n",
    "\n",
    "**Example 2:**\n",
    "\n",
    "```\n",
    "Input: nums = [1], k = 1\n",
    "Output: [1]\n",
    "```\n",
    "\n",
    "**Constraints:**\n",
    "\n",
    "- `1 <= nums.length <= 100000`\n",
    "- -`10000 <= nums[i] <= 10000`\n",
    "- `1 <= k <= nums.length`\n",
    "</aside>"
   ]
  },
  {
   "cell_type": "code",
   "execution_count": 13,
   "id": "a83b5d47",
   "metadata": {},
   "outputs": [],
   "source": [
    "from collections import deque\n",
    "\n",
    "def maxSlidingWindow(nums, k):\n",
    "    result = []\n",
    "    window = deque()\n",
    "\n",
    "    for i in range(len(nums)):\n",
    "        # Remove elements outside the current window\n",
    "        if window and window[0] <= i - k:\n",
    "            window.popleft()\n",
    "\n",
    "        # Remove elements smaller than the current element\n",
    "        while window and nums[window[-1]] < nums[i]:\n",
    "            window.pop()\n",
    "\n",
    "        window.append(i)\n",
    "\n",
    "        # Add the maximum element to the result\n",
    "        if i >= k - 1:\n",
    "            result.append(nums[window[0]])\n",
    "\n",
    "    return result\n"
   ]
  },
  {
   "cell_type": "code",
   "execution_count": 14,
   "id": "0500cc4c",
   "metadata": {},
   "outputs": [
    {
     "name": "stdout",
     "output_type": "stream",
     "text": [
      "[3, 3, 5, 5, 6, 7]\n"
     ]
    }
   ],
   "source": [
    "nums = [1, 3, -1, -3, 5, 3, 6, 7]\n",
    "k = 3\n",
    "print(maxSlidingWindow(nums, k))\n",
    "\n"
   ]
  },
  {
   "cell_type": "code",
   "execution_count": null,
   "id": "ea36549f",
   "metadata": {},
   "outputs": [],
   "source": []
  }
 ],
 "metadata": {
  "kernelspec": {
   "display_name": "Python 3 (ipykernel)",
   "language": "python",
   "name": "python3"
  },
  "language_info": {
   "codemirror_mode": {
    "name": "ipython",
    "version": 3
   },
   "file_extension": ".py",
   "mimetype": "text/x-python",
   "name": "python",
   "nbconvert_exporter": "python",
   "pygments_lexer": "ipython3",
   "version": "3.10.7"
  }
 },
 "nbformat": 4,
 "nbformat_minor": 5
}
