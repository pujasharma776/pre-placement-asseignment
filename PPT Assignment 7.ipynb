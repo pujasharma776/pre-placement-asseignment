{
 "cells": [
  {
   "cell_type": "markdown",
   "id": "7aa34043",
   "metadata": {},
   "source": [
    "# PPT Assignment 7"
   ]
  },
  {
   "cell_type": "markdown",
   "id": "8e752bb3",
   "metadata": {},
   "source": [
    "## <aside>\n",
    "💡 **Question 1**\n",
    "\n",
    "Given two strings s and t, *determine if they are isomorphic*.\n",
    "\n",
    "Two strings s and t are isomorphic if the characters in s can be replaced to get t.\n",
    "\n",
    "All occurrences of a character must be replaced with another character while preserving the order of characters. No two characters may map to the same character, but a character may map to itself.\n",
    "\n",
    "**Example 1:**\n",
    "\n",
    "**Input:** s = \"egg\", t = \"add\"\n",
    "\n",
    "**Output:** true\n",
    "\n",
    "</aside>"
   ]
  },
  {
   "cell_type": "raw",
   "id": "077a785b",
   "metadata": {},
   "source": [
    "Here's a step-by-step algorithm :\n",
    "\n",
    "1.Check if the lengths of s and t are equal. If not, return false since the strings cannot be isomorphic.\n",
    "\n",
    "2.Create two dictionaries or hash maps to store the mapping of characters from s to t and vice versa. Let's call them s_to_t and t_to_s, respectively.\n",
    "\n",
    "3.Iterate through each character s_char in s and the corresponding character t_char in `t:\n",
    "\n",
    ".If s_char exists as a key in s_to_t, check if the corresponding value is equal to t_char. If not, return false since s_char cannot be mapped to both t_char and some other character in t.\n",
    "\n",
    ".If t_char exists as a key in t_to_s, check if the corresponding value is equal to s_char. If not, return false since t_char cannot be mapped to both s_char and some other character in s.\n",
    "\n",
    ".If neither s_char nor t_char exists as keys in their respective dictionaries, add the mappings s_char -> t_char to s_to_t and t_char -> s_char to t_to_s.\n",
    "\n",
    "4.If the loop completes without returning false, it means all characters in s can be replaced to obtain t while preserving the order. Return true."
   ]
  },
  {
   "cell_type": "code",
   "execution_count": 1,
   "id": "198e562d",
   "metadata": {},
   "outputs": [],
   "source": [
    "def isomorphic_strings(s, t):\n",
    "    if len(s) != len(t):\n",
    "        return False\n",
    "\n",
    "    s_to_t = {}\n",
    "    t_to_s = {}\n",
    "\n",
    "    for s_char, t_char in zip(s, t):\n",
    "        if s_char in s_to_t:\n",
    "            if s_to_t[s_char] != t_char:\n",
    "                return False\n",
    "        else:\n",
    "            s_to_t[s_char] = t_char\n",
    "\n",
    "        if t_char in t_to_s:\n",
    "            if t_to_s[t_char] != s_char:\n",
    "                return False\n",
    "        else:\n",
    "            t_to_s[t_char] = s_char\n",
    "\n",
    "    return True\n"
   ]
  },
  {
   "cell_type": "markdown",
   "id": "a9b421dd",
   "metadata": {},
   "source": [
    " Example Provided"
   ]
  },
  {
   "cell_type": "code",
   "execution_count": 2,
   "id": "671039d4",
   "metadata": {},
   "outputs": [
    {
     "name": "stdout",
     "output_type": "stream",
     "text": [
      "True\n"
     ]
    }
   ],
   "source": [
    "s = \"egg\"\n",
    "t = \"add\"\n",
    "print(isomorphic_strings(s, t))  \n"
   ]
  },
  {
   "cell_type": "markdown",
   "id": "08a04de7",
   "metadata": {},
   "source": [
    "## <aside>\n",
    "💡 **Question 2**\n",
    "\n",
    "Given a string num which represents an integer, return true *if* num *is a **strobogrammatic number***.\n",
    "\n",
    "A **strobogrammatic number** is a number that looks the same when rotated 180 degrees (looked at upside down).\n",
    "\n",
    "**Example 1:**\n",
    "\n",
    "**Input:** num = \"69\"\n",
    "\n",
    "**Output:**\n",
    "\n",
    "true\n",
    "\n",
    "</aside>"
   ]
  },
  {
   "cell_type": "raw",
   "id": "5bbc5de0",
   "metadata": {},
   "source": [
    " Here's a step-by-step algorithm\n",
    "    \n",
    " 1.Create a dictionary or a hash map to store the mappings of strobogrammatic digits. Let's call it mapping.\n",
    "\n",
    ".The digits \"0\", \"1\", and \"8\" remain the same after rotation.\n",
    ".The digits \"6\" and \"9\" are interchangeable, as they look the same when rotated.\n",
    ".Initialize mapping as follows: mapping = {\"0\": \"0\", \"1\": \"1\", \"6\": \"9\", \"8\": \"8\", \"9\": \"6\"}.\n",
    "\n",
    "2.Initialize two pointers, left and right, pointing to the start and end of the string num, respectively.\n",
    "\n",
    "3.While left is less than or equal to right:\n",
    "\n",
    ".Check if num[left] exists as a key in mapping and if the corresponding value is equal to num[right]. If not, return False since the string is not symmetric.\n",
    "\n",
    ".Move left one step forward (increment) and right one step backward (decrement).\n",
    "\n",
    "4.If the loop completes without returning False, it means the string is symmetric and thus a strobogrammatic number. Return True.   "
   ]
  },
  {
   "cell_type": "code",
   "execution_count": 3,
   "id": "4408ee74",
   "metadata": {},
   "outputs": [],
   "source": [
    "def is_strobogrammatic(num):\n",
    "    mapping = {\"0\": \"0\", \"1\": \"1\", \"6\": \"9\", \"8\": \"8\", \"9\": \"6\"}\n",
    "\n",
    "    left, right = 0, len(num) - 1\n",
    "    while left <= right:\n",
    "        if num[left] not in mapping or mapping[num[left]] != num[right]:\n",
    "            return False\n",
    "        left += 1\n",
    "        right -= 1\n",
    "\n",
    "    return True\n"
   ]
  },
  {
   "cell_type": "markdown",
   "id": "18e26966",
   "metadata": {},
   "source": [
    "Example Usage:-"
   ]
  },
  {
   "cell_type": "code",
   "execution_count": 4,
   "id": "da5976b9",
   "metadata": {},
   "outputs": [
    {
     "name": "stdout",
     "output_type": "stream",
     "text": [
      "True\n"
     ]
    }
   ],
   "source": [
    "num = \"69\"\n",
    "print(is_strobogrammatic(num))  \n"
   ]
  },
  {
   "cell_type": "markdown",
   "id": "51bf8807",
   "metadata": {},
   "source": [
    "## <aside>\n",
    "💡 **Question 3**\n",
    "\n",
    "Given two non-negative integers, num1 and num2 represented as string, return *the sum of* num1 *and* num2 *as a string*.\n",
    "\n",
    "You must solve the problem without using any built-in library for handling large integers (such as BigInteger). You must also not convert the inputs to integers directly.\n",
    "\n",
    "**Example 1:**\n",
    "\n",
    "**Input:** num1 = \"11\", num2 = \"123\"\n",
    "\n",
    "**Output:**\n",
    "\n",
    "\"134\"\n",
    "\n",
    "</aside>"
   ]
  },
  {
   "cell_type": "raw",
   "id": "9fcbe8c4",
   "metadata": {},
   "source": [
    " two non-negative integers strings, num1 and num2, \n",
    "    \n",
    "    Algorithm:-\n",
    " 1.Initialize two pointers, i and j, to the end of num1 and num2, respectively.\n",
    "\n",
    "2.Initialize a variable carry to 0 to keep track of the carry during addition.\n",
    "\n",
    "3.Initialize an empty string result to store the sum of the numbers.\n",
    "4.If the carry is non-zero after the loop ends, append it to the left side of the result string.\n",
    "5.Return the result string."
   ]
  },
  {
   "cell_type": "code",
   "execution_count": 9,
   "id": "e25e8ce1",
   "metadata": {},
   "outputs": [
    {
     "name": "stdout",
     "output_type": "stream",
     "text": [
      "134\n"
     ]
    }
   ],
   "source": [
    "def addStrings(num1, num2):\n",
    "    i = len(num1) - 1\n",
    "    j = len(num2) - 1\n",
    "    carry = 0\n",
    "    result = \"\"\n",
    "\n",
    "    while i >= 0 or j >= 0:\n",
    "        digit1 = int(num1[i]) if i >= 0 else 0\n",
    "        digit2 = int(num2[j]) if j >= 0 else 0\n",
    "\n",
    "        digit_sum = digit1 + digit2 + carry\n",
    "        carry = digit_sum // 10\n",
    "        result = str(digit_sum % 10) + result\n",
    "\n",
    "        i -= 1\n",
    "        j -= 1\n",
    "\n",
    "    if carry != 0:\n",
    "        result = str(carry) + result\n",
    "\n",
    "    return result\n",
    "\n",
    " Example usage:-   \n",
    "num1 = \"11\"\n",
    "num2 = \"123\"\n",
    "print(addStrings(num1, num2))  \n"
   ]
  },
  {
   "cell_type": "markdown",
   "id": "589fdd12",
   "metadata": {},
   "source": [
    "## <aside>\n",
    "💡 **Question 4**\n",
    "\n",
    "Given a string s, reverse the order of characters in each word within a sentence while still preserving whitespace and initial word order.\n",
    "\n",
    "**Example 1:**\n",
    "\n",
    "**Input:** s = \"Let's take LeetCode contest\"\n",
    "\n",
    "**Output:** \"s'teL ekat edoCteeL tsetnoc\"\n",
    "\n",
    "</aside>"
   ]
  },
  {
   "cell_type": "raw",
   "id": "c308fcc5",
   "metadata": {},
   "source": [
    "Ans:-1.Split the input string into individual words. You can split the string using whitespace as the delimiter.\n",
    "2.Reverse the order of characters in each word.\n",
    "3.Join the reversed words back into a single string, separating them with whitespace."
   ]
  },
  {
   "cell_type": "code",
   "execution_count": 1,
   "id": "8c976f35",
   "metadata": {},
   "outputs": [
    {
     "name": "stdout",
     "output_type": "stream",
     "text": [
      "s'teL ekat edoCteeL tsetnoc\n"
     ]
    }
   ],
   "source": [
    "def reverse_words(s):\n",
    "    # Split the string into individual words\n",
    "    words = s.split()\n",
    "\n",
    "    # Reverse the order of characters in each word\n",
    "    reversed_words = [word[::-1] for word in words]\n",
    "\n",
    "    # Join the reversed words back into a single string\n",
    "    reversed_string = ' '.join(reversed_words)\n",
    "\n",
    "    return reversed_string\n",
    "\n",
    "# Example usage\n",
    "input_string = \"Let's take LeetCode contest\"\n",
    "output_string = reverse_words(input_string)\n",
    "print(output_string)\n"
   ]
  },
  {
   "cell_type": "markdown",
   "id": "54feb3ff",
   "metadata": {},
   "source": [
    "## <aside>\n",
    "💡 **Question 5**\n",
    "\n",
    "Given a string s and an integer k, reverse the first k characters for every 2k characters counting from the start of the string.\n",
    "\n",
    "If there are fewer than k characters left, reverse all of them. If there are less than 2k but greater than or equal to k characters, then reverse the first k characters and leave the other as original.\n",
    "\n",
    "**Example 1:**\n",
    "\n",
    "**Input:** s = \"abcdefg\", k = 2\n",
    "\n",
    "**Output:**\n",
    "\n",
    "\"bacdfeg\"\n",
    "\n",
    "</aside>"
   ]
  },
  {
   "cell_type": "raw",
   "id": "3e422e53",
   "metadata": {},
   "source": [
    "Ans:-1.Convert the input string into a list of characters to make it mutable.\n",
    "2.Iterate over the characters in the string, incrementing the index by 2k in each iteration.\n",
    "3.For each group of 2k characters, reverse the first k characters in-place using slicing.\n",
    "4.Convert the modified list back into a string."
   ]
  },
  {
   "cell_type": "code",
   "execution_count": 2,
   "id": "50ba00db",
   "metadata": {},
   "outputs": [
    {
     "name": "stdout",
     "output_type": "stream",
     "text": [
      "bacdfeg\n"
     ]
    }
   ],
   "source": [
    "def reverse_str(s, k):\n",
    "    # Convert the string to a list of characters\n",
    "    chars = list(s)\n",
    "    \n",
    "    # Iterate over the characters, incrementing the index by 2k\n",
    "    for i in range(0, len(chars), 2 * k):\n",
    "        # Reverse the first k characters in the group\n",
    "        chars[i:i+k] = chars[i:i+k][::-1]\n",
    "    \n",
    "    # Convert the list back into a string\n",
    "    reversed_str = ''.join(chars)\n",
    "    \n",
    "    return reversed_str\n",
    "\n",
    "# Example usage\n",
    "input_str = \"abcdefg\"\n",
    "k = 2\n",
    "output_str = reverse_str(input_str, k)\n",
    "print(output_str)\n"
   ]
  },
  {
   "cell_type": "markdown",
   "id": "b14f83b9",
   "metadata": {},
   "source": [
    "## <aside>\n",
    "💡 **Question 6**\n",
    "\n",
    "Given two strings s and goal, return true *if and only if* s *can become* goal *after some number of **shifts** on* s.\n",
    "\n",
    "A **shift** on s consists of moving the leftmost character of s to the rightmost position.\n",
    "\n",
    "- For example, if s = \"abcde\", then it will be \"bcdea\" after one shift.\n",
    "\n",
    "**Example 1:**\n",
    "\n",
    "**Input:** s = \"abcde\", goal = \"cdeab\"\n",
    "\n",
    "**Output:**\n",
    "\n",
    "true\n",
    "\n",
    "</aside>"
   ]
  },
  {
   "cell_type": "code",
   "execution_count": 3,
   "id": "a8abed02",
   "metadata": {},
   "outputs": [
    {
     "name": "stdout",
     "output_type": "stream",
     "text": [
      "True\n"
     ]
    }
   ],
   "source": [
    "def can_shift(s, goal):\n",
    "    if len(s) != len(goal):\n",
    "        return False\n",
    "\n",
    "    s_concat = s + s\n",
    "    if goal in s_concat:\n",
    "        return True\n",
    "    else:\n",
    "        return False\n",
    "\n",
    "# Example usage\n",
    "s = \"abcde\"\n",
    "goal = \"cdeab\"\n",
    "result = can_shift(s, goal)\n",
    "print(result)\n"
   ]
  },
  {
   "cell_type": "markdown",
   "id": "86487cbd",
   "metadata": {},
   "source": [
    "## <aside>\n",
    "💡 **Question 7**\n",
    "\n",
    "Given two strings s and t, return true *if they are equal when both are typed into empty text editors*. '#' means a backspace character.\n",
    "\n",
    "Note that after backspacing an empty text, the text will continue empty.\n",
    "\n",
    "**Example 1:**\n",
    "\n",
    "**Input:** s = \"ab#c\", t = \"ad#c\"\n",
    "\n",
    "**Output:** true\n",
    "\n",
    "**Explanation:**\n",
    "\n",
    "Both s and t become \"ac\".\n",
    "\n",
    "</aside>"
   ]
  },
  {
   "cell_type": "raw",
   "id": "a5047935",
   "metadata": {},
   "source": [
    "Ans:-Approach:\n",
    "        \n",
    "     1.Implement a helper function build_string that takes a string as input and returns the final string after processing backspaces.   \n",
    "        .Initialize an empty stack.\n",
    "        .Iterate through each character in the input string.\n",
    "        .If the current character is not '#', push it onto the stack.\n",
    "        .If the current character is '#':\n",
    "        .Check if the stack is empty. If it is not, pop the topmost character from the stack.\n",
    "        .After iterating through all the characters, convert the stack into a string and return it.\n",
    "    \n",
    "    2.Call the build_string function on both s and t to obtain the processed strings.\n",
    "\n",
    "    3.Compare the processed strings. If they are equal, return True; otherwise, return False.\n",
    "  "
   ]
  },
  {
   "cell_type": "code",
   "execution_count": 4,
   "id": "12f269b4",
   "metadata": {},
   "outputs": [
    {
     "name": "stdout",
     "output_type": "stream",
     "text": [
      "True\n"
     ]
    }
   ],
   "source": [
    "def build_string(s):\n",
    "    stack = []\n",
    "    for char in s:\n",
    "        if char != '#':\n",
    "            stack.append(char)\n",
    "        elif stack:\n",
    "            stack.pop()\n",
    "    return ''.join(stack)\n",
    "\n",
    "\n",
    "def backspace_compare(s, t):\n",
    "    processed_s = build_string(s)\n",
    "    processed_t = build_string(t)\n",
    "    return processed_s == processed_t\n",
    "\n",
    "\n",
    "# Example usage\n",
    "s = \"ab#c\"\n",
    "t = \"ad#c\"\n",
    "result = backspace_compare(s, t)\n",
    "print(result)\n"
   ]
  },
  {
   "cell_type": "code",
   "execution_count": null,
   "id": "8b2da79e",
   "metadata": {},
   "outputs": [],
   "source": []
  }
 ],
 "metadata": {
  "kernelspec": {
   "display_name": "Python 3 (ipykernel)",
   "language": "python",
   "name": "python3"
  },
  "language_info": {
   "codemirror_mode": {
    "name": "ipython",
    "version": 3
   },
   "file_extension": ".py",
   "mimetype": "text/x-python",
   "name": "python",
   "nbconvert_exporter": "python",
   "pygments_lexer": "ipython3",
   "version": "3.10.7"
  }
 },
 "nbformat": 4,
 "nbformat_minor": 5
}
