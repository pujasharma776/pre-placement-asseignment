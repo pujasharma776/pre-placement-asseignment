{
 "cells": [
  {
   "cell_type": "markdown",
   "id": "9cf71b3d",
   "metadata": {},
   "source": [
    "# Assignment 1"
   ]
  },
  {
   "cell_type": "markdown",
   "id": "75198e95",
   "metadata": {},
   "source": [
    "## <aside>\n",
    "💡 **Q1.** Given an array of integers nums and an integer target, return indices of the two numbers such that they add up to target.\n",
    "\n",
    "You may assume that each input would have exactly one solution, and you may not use the same element twice.\n",
    "\n",
    "You can return the answer in any order.\n",
    "\n",
    "**Example:**\n",
    "Input: nums = [2,7,11,15], target = 9\n",
    "Output0 [0,1]\n",
    "\n",
    "**Explanation:** Because nums[0] + nums[1] == 9, we return [0, 1][\n",
    "\n",
    "</aside>"
   ]
  },
  {
   "cell_type": "code",
   "execution_count": 1,
   "id": "0c1ddf5a",
   "metadata": {},
   "outputs": [
    {
     "name": "stdout",
     "output_type": "stream",
     "text": [
      "[0, 1]\n"
     ]
    }
   ],
   "source": [
    "def twoSum(nums, target):\n",
    "    # Iterate over each pair of numbers\n",
    "    for i in range(len(nums)):\n",
    "        for j in range(i + 1, len(nums)):\n",
    "            # Check if the sum of the pair equals the target\n",
    "            if nums[i] + nums[j] == target:\n",
    "                return [i, j]\n",
    "    \n",
    "    # No solution found\n",
    "    return []\n",
    "\n",
    "# Example usage\n",
    "nums = [2, 7, 11, 15]\n",
    "target = 9\n",
    "result = twoSum(nums, target)\n",
    "print(result)  # Output: [0, 1]"
   ]
  },
  {
   "cell_type": "markdown",
   "id": "e57e0716",
   "metadata": {},
   "source": [
    "## <aside>\n",
    "💡 **Q2.** Given an integer array nums and an integer val, remove all occurrences of val in nums in-place. The order of the elements may be changed. Then return the number of elements in nums which are not equal to val.\n",
    "\n",
    "Consider the number of elements in nums which are not equal to val be k, to get accepted, you need to do the following things:\n",
    "\n",
    "- Change the array nums such that the first k elements of nums contain the elements which are not equal to val. The remaining elements of nums are not important as well as the size of nums.\n",
    "- Return k.\n",
    "\n",
    "**Example :**\n",
    "Input: nums = [3,2,2,3], val = 3\n",
    "Output: 2, nums = [2,2,_*,_*]\n",
    "\n",
    "**Explanation:** Your function should return k = 2, with the first two elements of nums being 2. It does not matter what you leave beyond the returned k (hence they are underscores)[\n",
    "\n",
    "</aside>"
   ]
  },
  {
   "cell_type": "code",
   "execution_count": 2,
   "id": "cdf1a13c",
   "metadata": {},
   "outputs": [
    {
     "name": "stdout",
     "output_type": "stream",
     "text": [
      "2\n",
      "[2, 2, 2, 3]\n"
     ]
    }
   ],
   "source": [
    "def removeElement(nums, val):\n",
    "    # Initialize the pointer for the position to place the next non-target element\n",
    "    next_pos = 0\n",
    "    \n",
    "    # Iterate over the array\n",
    "    for num in nums:\n",
    "        # If the current element is not equal to the target value, move it to the next position\n",
    "        if num != val:\n",
    "            nums[next_pos] = num\n",
    "            next_pos += 1\n",
    "    \n",
    "    # Return the number of elements that are not equal to the target value\n",
    "    return next_pos\n",
    "\n",
    "# Example usage\n",
    "nums = [3, 2, 2, 3]\n",
    "val = 3\n",
    "\n",
    "k = removeElement(nums, val)\n",
    "print(k)  # Output: 2\n",
    "print(nums)  # Output: [2, 2, _, _]\n"
   ]
  },
  {
   "cell_type": "markdown",
   "id": "f337b8ba",
   "metadata": {},
   "source": [
    "## <aside>\n",
    "💡 **Q3.** Given a sorted array of distinct integers and a target value, return the index if the target is found. If not, return the index where it would be if it were inserted in order.\n",
    "\n",
    "You must write an algorithm with O(log n) runtime complexity.\n",
    "\n",
    "**Example 1:**\n",
    "Input: nums = [1,3,5,6], target = 5\n",
    "\n",
    "Output: 2\n",
    "\n",
    "</aside>"
   ]
  },
  {
   "cell_type": "code",
   "execution_count": 3,
   "id": "30774b0d",
   "metadata": {},
   "outputs": [
    {
     "name": "stdout",
     "output_type": "stream",
     "text": [
      "2\n"
     ]
    }
   ],
   "source": [
    "def searchInsert(nums, target):\n",
    "    left = 0\n",
    "    right = len(nums) - 1\n",
    "    \n",
    "    while left <= right:\n",
    "        mid = (left + right) // 2\n",
    "        \n",
    "        if nums[mid] == target:\n",
    "            return mid\n",
    "        \n",
    "        if nums[mid] < target:\n",
    "            left = mid + 1\n",
    "        else:\n",
    "            right = mid - 1\n",
    "    \n",
    "    # If the target is not found, the left pointer represents the index where it should be inserted\n",
    "    return left\n",
    "\n",
    "# Example usage\n",
    "nums = [1, 3, 5, 6]\n",
    "target = 5\n",
    "\n",
    "index = searchInsert(nums, target)\n",
    "print(index)  # Output: 2\n"
   ]
  },
  {
   "cell_type": "markdown",
   "id": "6d512c33",
   "metadata": {},
   "source": [
    "## <aside>\n",
    "💡 **Q4.** You are given a large integer represented as an integer array digits, where each digits[i] is the ith digit of the integer. The digits are ordered from most significant to least significant in left-to-right order. The large integer does not contain any leading 0's.\n",
    "\n",
    "Increment the large integer by one and return the resulting array of digits.\n",
    "\n",
    "**Example 1:**\n",
    "Input: digits = [1,2,3]\n",
    "Output: [1,2,4]\n",
    "\n",
    "**Explanation:** The array represents the integer 123.\n",
    "\n",
    "Incrementing by one gives 123 + 1 = 124.\n",
    "Thus, the result should be [1,2,4].\n",
    "\n",
    "</aside>"
   ]
  },
  {
   "cell_type": "code",
   "execution_count": 4,
   "id": "ef3c9ed3",
   "metadata": {},
   "outputs": [
    {
     "name": "stdout",
     "output_type": "stream",
     "text": [
      "[1, 2, 4]\n"
     ]
    }
   ],
   "source": [
    "def plusOne(digits):\n",
    "    n = len(digits)\n",
    "    \n",
    "    # Start from the least significant digit\n",
    "    for i in range(n - 1, -1, -1):\n",
    "        # Increment the digit by one\n",
    "        digits[i] += 1\n",
    "        \n",
    "        # If the resulting digit is less than 10, return the updated array\n",
    "        if digits[i] < 10:\n",
    "            return digits\n",
    "        \n",
    "        # If the resulting digit is 10, set it to 0 and continue with the next digit\n",
    "        digits[i] = 0\n",
    "    \n",
    "    # If the most significant digit was 9 and got incremented to 10, add an additional digit\n",
    "    return [1] + digits\n",
    "\n",
    "# Example usage\n",
    "digits = [1, 2, 3]\n",
    "\n",
    "result = plusOne(digits)\n",
    "print(result)  # Output: [1, 2, 4]\n"
   ]
  },
  {
   "cell_type": "markdown",
   "id": "13d5570d",
   "metadata": {},
   "source": [
    "## <aside>\n",
    "💡 **Q5.** You are given two integer arrays nums1 and nums2, sorted in non-decreasing order, and two integers m and n, representing the number of elements in nums1 and nums2 respectively.\n",
    "\n",
    "Merge nums1 and nums2 into a single array sorted in non-decreasing order.\n",
    "\n",
    "The final sorted array should not be returned by the function, but instead be stored inside the array nums1. To accommodate this, nums1 has a length of m + n, where the first m elements denote the elements that should be merged, and the last n elements are set to 0 and should be ignored. nums2 has a length of n.\n",
    "\n",
    "**Example 1:**\n",
    "Input: nums1 = [1,2,3,0,0,0], m = 3, nums2 = [2,5,6], n = 3\n",
    "Output: [1,2,2,3,5,6]\n",
    "\n",
    "**Explanation:** The arrays we are merging are [1,2,3] and [2,5,6].\n",
    "The result of the merge is [1,2,2,3,5,6] with the underlined elements coming from nums1.\n",
    "\n",
    "</aside>"
   ]
  },
  {
   "cell_type": "code",
   "execution_count": 5,
   "id": "5a202e15",
   "metadata": {},
   "outputs": [
    {
     "name": "stdout",
     "output_type": "stream",
     "text": [
      "[1, 2, 2, 3, 5, 6]\n"
     ]
    }
   ],
   "source": [
    "def merge(nums1, m, nums2, n):\n",
    "    i = m - 1  # Pointer for nums1\n",
    "    j = n - 1  # Pointer for nums2\n",
    "    k = m + n - 1  # Pointer for the merged array\n",
    "    \n",
    "    # Merge the arrays from the end\n",
    "    while i >= 0 and j >= 0:\n",
    "        if nums1[i] > nums2[j]:\n",
    "            nums1[k] = nums1[i]\n",
    "            i -= 1\n",
    "        else:\n",
    "            nums1[k] = nums2[j]\n",
    "            j -= 1\n",
    "        k -= 1\n",
    "    \n",
    "    # Copy any remaining elements from nums2 to nums1\n",
    "    while j >= 0:\n",
    "        nums1[k] = nums2[j]\n",
    "        j -= 1\n",
    "        k -= 1\n",
    "# Example usage\n",
    "nums1 = [1, 2, 3, 0, 0, 0]\n",
    "m = 3\n",
    "nums2 = [2, 5, 6]\n",
    "n = 3\n",
    "\n",
    "merge(nums1, m, nums2, n)\n",
    "print(nums1)  # Output: [1, 2, 2, 3, 5, 6]\n"
   ]
  },
  {
   "cell_type": "markdown",
   "id": "4d3b567d",
   "metadata": {},
   "source": [
    "## <aside>\n",
    "💡 **Q6.** Given an integer array nums, return true if any value appears at least twice in the array, and return false if every element is distinct.\n",
    "\n",
    "**Example 1:**\n",
    "Input: nums = [1,2,3,1]\n",
    "\n",
    "Output: true\n",
    "\n",
    "</aside>"
   ]
  },
  {
   "cell_type": "code",
   "execution_count": 6,
   "id": "edf14415",
   "metadata": {},
   "outputs": [
    {
     "name": "stdout",
     "output_type": "stream",
     "text": [
      "True\n"
     ]
    }
   ],
   "source": [
    "def containsDuplicate(nums):\n",
    "    num_set = set()\n",
    "    \n",
    "    for num in nums:\n",
    "        if num in num_set:\n",
    "            return True\n",
    "        num_set.add(num)\n",
    "    \n",
    "    return False\n",
    "# Example usage\n",
    "nums = [1, 2, 3, 1]\n",
    "\n",
    "result = containsDuplicate(nums)\n",
    "print(result)  # Output: True\n"
   ]
  },
  {
   "cell_type": "markdown",
   "id": "65da10bf",
   "metadata": {},
   "source": [
    "## <aside>\n",
    "💡 **Q7.** Given an integer array nums, move all 0's to the end of it while maintaining the relative order of the nonzero elements.\n",
    "\n",
    "Note that you must do this in-place without making a copy of the array.\n",
    "\n",
    "**Example 1:**\n",
    "Input: nums = [0,1,0,3,12]\n",
    "Output: [1,3,12,0,0]\n",
    "\n",
    "</aside>"
   ]
  },
  {
   "cell_type": "code",
   "execution_count": 7,
   "id": "390fd122",
   "metadata": {},
   "outputs": [
    {
     "name": "stdout",
     "output_type": "stream",
     "text": [
      "[1, 3, 12, 0, 0]\n"
     ]
    }
   ],
   "source": [
    "def moveZeroes(nums):\n",
    "    # Pointer for the position to insert the next nonzero element\n",
    "    insert_pos = 0\n",
    "    \n",
    "    # Iterate through the array\n",
    "    for num in nums:\n",
    "        if num != 0:\n",
    "            # If the current element is nonzero, move it to the insert position\n",
    "            nums[insert_pos] = num\n",
    "            insert_pos += 1\n",
    "    \n",
    "    # Fill the remaining positions with zeros\n",
    "    while insert_pos < len(nums):\n",
    "        nums[insert_pos] = 0\n",
    "        insert_pos += 1\n",
    "\n",
    "# Example usage\n",
    "nums = [0, 1, 0, 3, 12]\n",
    "\n",
    "moveZeroes(nums)\n",
    "print(nums)  # Output: [1, 3, 12, 0, 0]\n"
   ]
  },
  {
   "cell_type": "markdown",
   "id": "074540be",
   "metadata": {},
   "source": [
    "## <aside>\n",
    "💡 **Q8.** You have a set of integers s, which originally contains all the numbers from 1 to n. Unfortunately, due to some error, one of the numbers in s got duplicated to another number in the set, which results in repetition of one number and loss of another number.\n",
    "\n",
    "You are given an integer array nums representing the data status of this set after the error.\n",
    "\n",
    "Find the number that occurs twice and the number that is missing and return them in the form of an array.\n",
    "\n",
    "**Example 1:**\n",
    "Input: nums = [1,2,2,4]\n",
    "Output: [2,3]\n",
    "\n",
    "</aside>"
   ]
  },
  {
   "cell_type": "code",
   "execution_count": 8,
   "id": "f590b1b7",
   "metadata": {},
   "outputs": [
    {
     "name": "stdout",
     "output_type": "stream",
     "text": [
      "[2, 3]\n"
     ]
    }
   ],
   "source": [
    "def findErrorNums(nums):\n",
    "    num_set = set()\n",
    "    duplicate = -1\n",
    "    \n",
    "    # Find the duplicate number\n",
    "    for num in nums:\n",
    "        if num in num_set:\n",
    "            duplicate = num\n",
    "        num_set.add(num)\n",
    "    \n",
    "    # Find the missing number\n",
    "    n = len(nums)\n",
    "    missing = sum(range(1, n + 1)) - sum(nums) + duplicate\n",
    "    \n",
    "    return [duplicate, missing]\n",
    "\n",
    "# Example usage\n",
    "nums = [1, 2, 2, 4]\n",
    "\n",
    "result = findErrorNums(nums)\n",
    "print(result)  # Output: [2, 3]\n"
   ]
  },
  {
   "cell_type": "code",
   "execution_count": null,
   "id": "f84226ec",
   "metadata": {},
   "outputs": [],
   "source": []
  },
  {
   "cell_type": "code",
   "execution_count": null,
   "id": "18331581",
   "metadata": {},
   "outputs": [],
   "source": []
  }
 ],
 "metadata": {
  "kernelspec": {
   "display_name": "Python 3 (ipykernel)",
   "language": "python",
   "name": "python3"
  },
  "language_info": {
   "codemirror_mode": {
    "name": "ipython",
    "version": 3
   },
   "file_extension": ".py",
   "mimetype": "text/x-python",
   "name": "python",
   "nbconvert_exporter": "python",
   "pygments_lexer": "ipython3",
   "version": "3.10.7"
  }
 },
 "nbformat": 4,
 "nbformat_minor": 5
}
