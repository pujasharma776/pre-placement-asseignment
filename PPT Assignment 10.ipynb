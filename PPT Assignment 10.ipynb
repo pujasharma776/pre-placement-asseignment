{
 "cells": [
  {
   "cell_type": "markdown",
   "id": "df1ba936",
   "metadata": {},
   "source": [
    "# PPT Assignment 10"
   ]
  },
  {
   "cell_type": "markdown",
   "id": "960d600f",
   "metadata": {},
   "source": [
    "## <aside>\n",
    "💡 **Question 1**\n",
    "\n",
    "Given an integer `n`, return *`true` if it is a power of three. Otherwise, return `false`*.\n",
    "\n",
    "An integer `n` is a power of three, if there exists an integer `x` such that `n == 3x`.\n",
    "\n",
    "**Example 1:**\n",
    "\n",
    "</aside>"
   ]
  },
  {
   "cell_type": "raw",
   "id": "427bbdcb",
   "metadata": {},
   "source": [
    "Input: n = 27\n",
    "Output: true\n",
    "Explanation: 27 = 33"
   ]
  },
  {
   "cell_type": "raw",
   "id": "346d0508",
   "metadata": {},
   "source": [
    " if an integer n is a power of three, we can take the logarithm of n to the base 3 and check if the result is an integer. If it is, then n is a power of three.\n",
    "    Here's an approach:\n",
    "    1.Check if n is less than or equal to 0. If it is, return False since zero and negative numbers are not powers of three.\n",
    "    2.Calculate the logarithm of n to the base 3 using the math.log() function.\n",
    "\n",
    "3.Check if the logarithm result is an integer. We can do this by comparing it with its integer value obtained using the int() function. If the two values are equal, then n is a power of three.\n",
    "\n",
    "4.Return the result of the comparison."
   ]
  },
  {
   "cell_type": "code",
   "execution_count": 3,
   "id": "201baa7d",
   "metadata": {},
   "outputs": [],
   "source": [
    "import math\n",
    "\n",
    "def isPowerOfThree(n):\n",
    "    if n <= 0:\n",
    "        return False\n",
    "\n",
    "    logarithm = math.log(n, 3)\n",
    "    return int(logarithm) == logarithm\n",
    "\n",
    "\n"
   ]
  },
  {
   "cell_type": "raw",
   "id": "46c80bfa",
   "metadata": {},
   "source": [
    "Using the given example, isPowerOfThree(27) will return True as the output, indicating that 27 is a power of three."
   ]
  },
  {
   "cell_type": "markdown",
   "id": "011f1253",
   "metadata": {},
   "source": [
    "#### Example 2:"
   ]
  },
  {
   "cell_type": "raw",
   "id": "a62f6df1",
   "metadata": {},
   "source": [
    "Input: n = 0\n",
    "Output: false\n",
    "Explanation: There is no x where 3x = 0.\n"
   ]
  },
  {
   "cell_type": "code",
   "execution_count": 5,
   "id": "ecfe9230",
   "metadata": {},
   "outputs": [],
   "source": [
    "import math\n",
    "\n",
    "def isPowerOfThree(n):\n",
    "    if n <= 0:\n",
    "        return False\n",
    "\n",
    "    logarithm = math.log(n, 3)\n",
    "    return abs(logarithm - round(logarithm)) < 1e-10\n"
   ]
  },
  {
   "cell_type": "code",
   "execution_count": 6,
   "id": "d732a6df",
   "metadata": {},
   "outputs": [
    {
     "data": {
      "text/plain": [
       "False"
      ]
     },
     "execution_count": 6,
     "metadata": {},
     "output_type": "execute_result"
    }
   ],
   "source": [
    "isPowerOfThree(0)"
   ]
  },
  {
   "cell_type": "markdown",
   "id": "308e0094",
   "metadata": {},
   "source": [
    "#### Example 3:"
   ]
  },
  {
   "cell_type": "raw",
   "id": "7c020418",
   "metadata": {},
   "source": [
    "Input: n = -1\n",
    "Output: false\n",
    "Explanation: There is no x where 3x = (-1)."
   ]
  },
  {
   "cell_type": "code",
   "execution_count": 8,
   "id": "01355bc2",
   "metadata": {},
   "outputs": [],
   "source": [
    "import math\n",
    "\n",
    "def isPowerOfThree(n):\n",
    "    if n <= 0:\n",
    "        return False\n",
    "\n",
    "    logarithm = math.log(abs(n), 3)\n",
    "    return abs(logarithm - round(logarithm)) < 1e-10\n"
   ]
  },
  {
   "cell_type": "code",
   "execution_count": 9,
   "id": "5d7ed8f1",
   "metadata": {},
   "outputs": [
    {
     "data": {
      "text/plain": [
       "False"
      ]
     },
     "execution_count": 9,
     "metadata": {},
     "output_type": "execute_result"
    }
   ],
   "source": [
    "isPowerOfThree(-1)"
   ]
  },
  {
   "cell_type": "markdown",
   "id": "c7133ec7",
   "metadata": {},
   "source": [
    "## <aside>\n",
    "💡 **Question 4**\n",
    "\n",
    "Given a string calculate length of the string using recursion.\n",
    "\n",
    "**Examples:**\n",
    "\n",
    "</aside>"
   ]
  },
  {
   "cell_type": "raw",
   "id": "78c08f2f",
   "metadata": {},
   "source": [
    "Input : str = \"abcd\"\n",
    "Output :4\n",
    "\n",
    "Input : str = \"GEEKSFORGEEKS\"\n",
    "Output :13"
   ]
  },
  {
   "cell_type": "raw",
   "id": "0d6b3dd0",
   "metadata": {},
   "source": [
    "Ans:-approach:\n",
    "    1.If the string is empty, return 0 as its length.\n",
    "\n",
    "  2.Otherwise, remove the first character from the string and recursively calculate the length of the remaining substring.\n",
    "\n",
    "3.Add 1 to the length of the remaining substring to account for the removed character.\n",
    "\n",
    "4.Return the calculated length.    "
   ]
  },
  {
   "cell_type": "code",
   "execution_count": 10,
   "id": "afeabbde",
   "metadata": {},
   "outputs": [],
   "source": [
    "def calculateLength(s):\n",
    "    if s == \"\":\n",
    "        return 0\n",
    "    else:\n",
    "        return 1 + calculateLength(s[1:])\n"
   ]
  },
  {
   "cell_type": "code",
   "execution_count": 12,
   "id": "f442e5cf",
   "metadata": {},
   "outputs": [
    {
     "data": {
      "text/plain": [
       "4"
      ]
     },
     "execution_count": 12,
     "metadata": {},
     "output_type": "execute_result"
    }
   ],
   "source": [
    "calculateLength(\"abcd\")"
   ]
  },
  {
   "cell_type": "code",
   "execution_count": 13,
   "id": "9690a4f1",
   "metadata": {},
   "outputs": [
    {
     "data": {
      "text/plain": [
       "13"
      ]
     },
     "execution_count": 13,
     "metadata": {},
     "output_type": "execute_result"
    }
   ],
   "source": [
    "calculateLength(\"GEEKSFORGEEKS\")"
   ]
  },
  {
   "cell_type": "markdown",
   "id": "e1e01926",
   "metadata": {},
   "source": [
    "## <aside>\n",
    "💡 **Question 8**\n",
    "\n",
    "Given a string, count total number of consonants in it. A consonant is an English alphabet character that is not vowel (a, e, i, o and u). Examples of constants are b, c, d, f, and g.\n",
    "\n",
    "**Examples :**\n",
    "\n",
    "</aside>"
   ]
  },
  {
   "cell_type": "raw",
   "id": "2a62d42f",
   "metadata": {},
   "source": [
    "Input : abc de\n",
    "Output : 3\n",
    "There are three consonants b, c and d.\n",
    "\n",
    "Input : geeksforgeeks portal\n",
    "Output : 12"
   ]
  },
  {
   "cell_type": "raw",
   "id": "d04a0b15",
   "metadata": {},
   "source": [
    " Ans:-Here's an approach:-\n",
    "1.Initialize a variable count to 0 to keep track of the number of consonants.\n",
    "\n",
    "2.Convert the input string to lowercase to simplify the checking process.\n",
    "\n",
    "3.Iterate through each character in the string.\n",
    "\n",
    "4.Check if the character is an alphabet and is not a vowel (a, e, i, o, or u). If both conditions are met, increment the count variable.\n",
    "\n",
    "5.Finally, return the count variable, which represents the total number of consonants in the string."
   ]
  },
  {
   "cell_type": "code",
   "execution_count": 14,
   "id": "88137aa0",
   "metadata": {},
   "outputs": [],
   "source": [
    "def countConsonants(s):\n",
    "    vowels = \"aeiou\"\n",
    "    count = 0\n",
    "    s = s.lower()\n",
    "\n",
    "    for char in s:\n",
    "        if char.isalpha() and char not in vowels:\n",
    "            count += 1\n",
    "\n",
    "    return count\n"
   ]
  },
  {
   "cell_type": "code",
   "execution_count": 15,
   "id": "546ecbbd",
   "metadata": {},
   "outputs": [
    {
     "data": {
      "text/plain": [
       "3"
      ]
     },
     "execution_count": 15,
     "metadata": {},
     "output_type": "execute_result"
    }
   ],
   "source": [
    "countConsonants(\"abc de\")"
   ]
  },
  {
   "cell_type": "code",
   "execution_count": 16,
   "id": "dd7bc68c",
   "metadata": {},
   "outputs": [
    {
     "data": {
      "text/plain": [
       "12"
      ]
     },
     "execution_count": 16,
     "metadata": {},
     "output_type": "execute_result"
    }
   ],
   "source": [
    "countConsonants(\"geeksforgeeks portal\") "
   ]
  },
  {
   "cell_type": "code",
   "execution_count": null,
   "id": "05aff646",
   "metadata": {},
   "outputs": [],
   "source": []
  }
 ],
 "metadata": {
  "kernelspec": {
   "display_name": "Python 3 (ipykernel)",
   "language": "python",
   "name": "python3"
  },
  "language_info": {
   "codemirror_mode": {
    "name": "ipython",
    "version": 3
   },
   "file_extension": ".py",
   "mimetype": "text/x-python",
   "name": "python",
   "nbconvert_exporter": "python",
   "pygments_lexer": "ipython3",
   "version": "3.10.7"
  }
 },
 "nbformat": 4,
 "nbformat_minor": 5
}
