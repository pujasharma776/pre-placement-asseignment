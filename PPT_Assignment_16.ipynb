{
 "cells": [
  {
   "cell_type": "markdown",
   "id": "5f90cf68",
   "metadata": {},
   "source": [
    "# PPT_Assignment_16"
   ]
  },
  {
   "cell_type": "markdown",
   "id": "7d809c20",
   "metadata": {},
   "source": [
    "## <aside>\n",
    "💡 **Question 1**\n",
    "\n",
    "Given an array, for each element find the value of the nearest element to the right which is having a frequency greater than that of the current element. If there does not exist an answer for a position, then make the value ‘-1’.\n",
    "\n",
    "**Examples:**\n",
    "\n",
    "</aside>"
   ]
  },
  {
   "cell_type": "raw",
   "id": "d3c94a92",
   "metadata": {},
   "source": [
    "Input: a[] = [1, 1, 2, 3, 4, 2, 1]\n",
    "Output : [-1, -1, 1, 2, 2, 1, -1]\n",
    "\n",
    "Explanation:\n",
    "Given array a[] = [1, 1, 2, 3, 4, 2, 1]\n",
    "Frequency of each element is: 3, 3, 2, 1, 1, 2, 3\n",
    "\n",
    "Lets calls Next Greater Frequency element as NGF\n",
    "1. For element a[0] = 1 which has a frequency = 3,\n",
    "   As it has frequency of 3 and no other next element\n",
    "   has frequency more than 3 so  '-1'\n",
    "2. For element a[1] = 1 it will be -1 same logic\n",
    "   like a[0]\n",
    "3. For element a[2] = 2 which has frequency = 2,\n",
    "   NGF element is 1 at position = 6  with frequency\n",
    "   of 3 > 2\n",
    "4. For element a[3] = 3 which has frequency = 1,\n",
    "   NGF element is 2 at position = 5 with frequency\n",
    "   of 2 > 1\n",
    "5. For element a[4] = 4 which has frequency = 1,\n",
    "   NGF element is 2 at position = 5 with frequency\n",
    "   of 2 > 1\n",
    "6. For element a[5] = 2 which has frequency = 2,\n",
    "   NGF element is 1 at position = 6 with frequency\n",
    "   of 3 > 2\n",
    "7. For element a[6] = 1 there is no element to its\n",
    "   right, hence -1"
   ]
  },
  {
   "cell_type": "code",
   "execution_count": 3,
   "id": "764b9f43",
   "metadata": {},
   "outputs": [],
   "source": [
    "def nearest_greater_frequency(arr):\n",
    "    frequency = {}\n",
    "    stack = []\n",
    "    result = [-1] * len(arr)\n",
    "\n",
    "    # Calculate the frequency of each element\n",
    "    for num in arr:\n",
    "        frequency[num] = frequency.get(num, 0) + 1\n",
    "\n",
    "    # Iterate through the array from right to left\n",
    "    for i in range(len(arr) - 1, -1, -1):\n",
    "        while stack and frequency[arr[i]] >= frequency[arr[stack[-1]]]:\n",
    "            stack.pop()\n",
    "\n",
    "        if stack:\n",
    "            result[i] = arr[stack[-1]]\n",
    "\n",
    "        stack.append(i)\n",
    "\n",
    "    return result\n",
    "\n"
   ]
  },
  {
   "cell_type": "markdown",
   "id": "51cef640",
   "metadata": {},
   "source": [
    "## <aside>\n",
    "💡 **Question 2**\n",
    "\n",
    "Given a stack of integers, sort it in ascending order using another temporary stack.\n",
    "\n",
    "**Examples:**\n",
    "\n",
    "</aside>"
   ]
  },
  {
   "cell_type": "raw",
   "id": "6caeb304",
   "metadata": {},
   "source": [
    "Input : [34, 3, 31, 98, 92, 23]\n",
    "Output : [3, 23, 31, 34, 92, 98]\n",
    "\n",
    "Input : [3, 5, 1, 4, 2, 8]\n",
    "Output : [1, 2, 3, 4, 5, 8]"
   ]
  },
  {
   "cell_type": "code",
   "execution_count": 13,
   "id": "ab6d0f08",
   "metadata": {},
   "outputs": [],
   "source": [
    "def sort_stack(stack):\n",
    "    temp_stack = []\n",
    "\n",
    "    while stack:\n",
    "        temp = stack.pop()\n",
    "\n",
    "        while temp_stack and temp_stack[-1] > temp:\n",
    "            stack.append(temp_stack.pop())\n",
    "\n",
    "        temp_stack.append(temp)\n",
    "\n",
    "    while temp_stack:\n",
    "        stack.append(temp_stack.pop())\n",
    "\n",
    "    return stack\n"
   ]
  },
  {
   "cell_type": "raw",
   "id": "54211ee1",
   "metadata": {},
   "source": [
    "Using the input stack [34, 3, 31, 98, 92, 23], the function sort_stack will return the output [3, 23, 31, 34, 92, 98], as expected.\n",
    "\n",
    "Using the input stack [3, 5, 1, 4, 2, 8], the function sort_stack will return the output [1, 2, 3, 4, 5, 8], as expected."
   ]
  },
  {
   "cell_type": "markdown",
   "id": "39fe68c0",
   "metadata": {},
   "source": [
    "## <aside>\n",
    "💡 **Question 3**\n",
    "\n",
    "Given a stack with **push()**, **pop()**, and **empty()** operations, The task is to delete the **middle** element ****of it without using any additional data structure.\n",
    "\n",
    "</aside>"
   ]
  },
  {
   "cell_type": "raw",
   "id": "6be4fa4c",
   "metadata": {},
   "source": [
    "Input  : Stack[] = [1, 2, 3, 4, 5]\n",
    "\n",
    "Output : Stack[] = [1, 2, 4, 5]\n",
    "\n",
    "Input  : Stack[] = [1, 2, 3, 4, 5, 6]\n",
    "\n",
    "Output : Stack[] = [1, 2, 4, 5, 6]"
   ]
  },
  {
   "cell_type": "code",
   "execution_count": 16,
   "id": "b45f4838",
   "metadata": {},
   "outputs": [],
   "source": [
    "def delete_middle(stack):\n",
    "    size = 0\n",
    "    temp_stack = []\n",
    "\n",
    "    while stack:\n",
    "        size += 1\n",
    "        temp_stack.append(stack.pop())\n",
    "\n",
    "    middle_index = (size // 2) + 1\n",
    "\n",
    "    for _ in range(middle_index - 1):\n",
    "        stack.append(temp_stack.pop())\n",
    "\n",
    "    temp_stack.pop()\n",
    "\n",
    "    while temp_stack:\n",
    "        stack.append(temp_stack.pop())\n",
    "\n",
    "    return stack\n"
   ]
  },
  {
   "cell_type": "markdown",
   "id": "cab323d5",
   "metadata": {},
   "source": [
    "Using the input stack [1, 2, 3, 4, 5], the function delete_middle will return the output [1, 2, 4, 5], as expected.\n",
    "\n",
    "Using the input stack [1, 2, 3, 4, 5, 6], the function delete_middle will return the output [1, 2, 4, 5, 6], as expected."
   ]
  },
  {
   "cell_type": "markdown",
   "id": "a6c15324",
   "metadata": {},
   "source": [
    "## <aside>\n",
    "💡 **Question 4**\n",
    "\n",
    "Given a Queue consisting of first **n** natural numbers (in random order). The task is to check whether the given Queue elements can be arranged in increasing order in another Queue using a stack. The operation allowed are:\n",
    "\n",
    "1. Push and pop elements from the stack\n",
    "2. Pop (Or Dequeue) from the given Queue.\n",
    "3. Push (Or Enqueue) in the another Queue.\n",
    "\n",
    "**Examples :**\n",
    "\n",
    "Input : Queue[] = { 5, 1, 2, 3, 4 } \n",
    "\n",
    "Output : Yes \n",
    "\n",
    "Pop the first element of the given Queue \n",
    "\n",
    "i.e 5. Push 5 into the stack. \n",
    "\n",
    "Now, pop all the elements of the given Queue and push them to second Queue. \n",
    "\n",
    "Now, pop element 5 in the stack and push it to the second Queue.   \n",
    "\n",
    "Input : Queue[] = { 5, 1, 2, 6, 3, 4 } \n",
    "\n",
    "Output : No \n",
    "\n",
    "Push 5 to stack. \n",
    "\n",
    "Pop 1, 2 from given Queue and push it to another Queue. \n",
    "\n",
    "Pop 6 from given Queue and push to stack. \n",
    "\n",
    "Pop 3, 4 from given Queue and push to second Queue. \n",
    "\n",
    "Now, from using any of above operation, we cannot push 5 into the second Queue because it is below the 6 in the stack.\n",
    "\n",
    "</aside>"
   ]
  },
  {
   "cell_type": "code",
   "execution_count": 18,
   "id": "f7499233",
   "metadata": {},
   "outputs": [],
   "source": [
    "from queue import Queue\n",
    "\n",
    "def check_queue(arr):\n",
    "    given_queue = Queue()\n",
    "    second_queue = Queue()\n",
    "    stack = []\n",
    "    expected_element = 1\n",
    "\n",
    "    # Enqueue the elements into the given queue\n",
    "    for num in arr:\n",
    "        given_queue.put(num)\n",
    "\n",
    "    while not given_queue.empty():\n",
    "        front_element = given_queue.queue[0]\n",
    "\n",
    "        if front_element == expected_element:\n",
    "            given_queue.get()\n",
    "            expected_element += 1\n",
    "        elif not stack or stack[-1] > front_element:\n",
    "            stack.append(front_element)\n",
    "            given_queue.get()\n",
    "        else:\n",
    "            return \"No\"\n",
    "\n",
    "    while stack:\n",
    "        popped_element = stack.pop()\n",
    "        second_queue.put(popped_element)\n",
    "\n",
    "        if popped_element == expected_element:\n",
    "            expected_element += 1\n",
    "        else:\n",
    "            return \"No\"\n",
    "\n",
    "    if second_queue.qsize() == len(arr) and expected_element == len(arr) + 1:\n",
    "        return \"Yes\"\n",
    "    else:\n",
    "        return \"No\"\n"
   ]
  },
  {
   "cell_type": "markdown",
   "id": "21b6ad72",
   "metadata": {},
   "source": [
    "Using the input queue [5, 1, 2, 3, 4], the function check_queue will return \"Yes\", as expected.\n",
    "\n",
    "Using the input queue [5, 1, 2, 6, 3, 4], the function check_queue will return \"No\", as expected."
   ]
  },
  {
   "cell_type": "markdown",
   "id": "ff5601a8",
   "metadata": {},
   "source": [
    "## <aside>\n",
    "💡 **Question 5**\n",
    "\n",
    "Given a number , write a program to reverse this number using stack.\n",
    "\n",
    "**Examples:**\n",
    "\n",
    "</aside>"
   ]
  },
  {
   "cell_type": "raw",
   "id": "114834bf",
   "metadata": {},
   "source": [
    "Input : 365\n",
    "Output : 563\n",
    "\n",
    "Input : 6899\n",
    "Output : 9986"
   ]
  },
  {
   "cell_type": "code",
   "execution_count": 19,
   "id": "da1304e2",
   "metadata": {},
   "outputs": [],
   "source": [
    "def reverse_number(num):\n",
    "    stack = []\n",
    "    num_str = str(num)\n",
    "\n",
    "    for digit in num_str:\n",
    "        stack.append(digit)\n",
    "\n",
    "    reversed_num_str = \"\"\n",
    "    while stack:\n",
    "        reversed_num_str += stack.pop()\n",
    "\n",
    "    reversed_num = int(reversed_num_str)\n",
    "    return reversed_num\n"
   ]
  },
  {
   "cell_type": "markdown",
   "id": "f07d41a1",
   "metadata": {},
   "source": [
    "Using the input number 365, the function reverse_number will return the output 563, as expected.\n",
    "\n",
    "Using the input number 6899, the function reverse_number will return the output 9986, as expected."
   ]
  },
  {
   "cell_type": "markdown",
   "id": "004de9db",
   "metadata": {},
   "source": [
    "## <aside>\n",
    "💡 **Question 6**\n",
    "\n",
    "Given an integer k and a **[queue](https://www.geeksforgeeks.org/queue-data-structure/)** of integers, The task is to reverse the order of the first **k** elements of the queue, leaving the other elements in the same relative order.\n",
    "\n",
    "Only following standard operations are allowed on queue.\n",
    "\n",
    "- **enqueue(x) :** Add an item x to rear of queue\n",
    "- **dequeue() :** Remove an item from front of queue\n",
    "- **size() :** Returns number of elements in queue.\n",
    "- **front() :** Finds front item.\n",
    "</aside>"
   ]
  },
  {
   "cell_type": "code",
   "execution_count": 20,
   "id": "80d62b2d",
   "metadata": {},
   "outputs": [],
   "source": [
    "from queue import Queue\n",
    "\n",
    "def reverse_k_elements(queue, k):\n",
    "    stack = []\n",
    "    temp_queue = Queue()\n",
    "\n",
    "    # Dequeue the first k elements and push them onto the stack\n",
    "    for _ in range(k):\n",
    "        stack.append(queue.get())\n",
    "\n",
    "    # Enqueue the remaining elements into the temporary queue\n",
    "    while not queue.empty():\n",
    "        temp_queue.put(queue.get())\n",
    "\n",
    "    # Enqueue the elements from the stack back into the original queue\n",
    "    while stack:\n",
    "        queue.put(stack.pop())\n",
    "\n",
    "    # Enqueue the elements from the temporary queue back into the original queue\n",
    "    while not temp_queue.empty():\n",
    "        queue.put(temp_queue.get())\n",
    "\n",
    "    return queue\n"
   ]
  },
  {
   "cell_type": "markdown",
   "id": "9949f38a",
   "metadata": {},
   "source": [
    "Using the input queue [1, 2, 3, 4, 5] and k = 3, the function reverse_k_elements will return the output queue [3, 2, 1, 4, 5], as expected.\n",
    "\n",
    "Using the input queue [10, 20, 30, 40, 50, 60] and k = 4, the function reverse_k_elements will return the output queue [40, 30, 20, 10, 50, 60], as expected."
   ]
  },
  {
   "cell_type": "markdown",
   "id": "637cb514",
   "metadata": {},
   "source": [
    "## <aside>\n",
    "💡 **Question 7**\n",
    "\n",
    "Given a sequence of n strings, the task is to check if any two similar words come together and then destroy each other then print the number of words left in the sequence after this pairwise destruction.\n",
    "\n",
    "**Examples:**\n",
    "\n",
    "Input : ab aa aa bcd ab\n",
    "\n",
    "Output : 3\n",
    "\n",
    "*As aa, aa destroys each other so,*\n",
    "\n",
    "*ab bcd ab is the new sequence.*\n",
    "\n",
    "Input :  tom jerry jerry tom\n",
    "\n",
    "Output : 0\n",
    "\n",
    "*As first both jerry will destroy each other.*\n",
    "\n",
    "*Then sequence will be tom, tom they will also destroy*\n",
    "\n",
    "*each other. So, the final sequence doesn’t contain any*\n",
    "\n",
    "*word.*\n",
    "\n",
    "</aside>"
   ]
  },
  {
   "cell_type": "raw",
   "id": "9cf3a355",
   "metadata": {},
   "source": [
    "Ans:- Here's the approach:\n",
    "1.Initialize an empty stack to store the words.\n",
    "2.Split the input sequence of words into a list of individual words.\n",
    "3.Iterate through each word in the list:\n",
    ".If the stack is not empty and the current word is the same as the top word of the stack, it means they are similar words that should be destroyed. Pop the top word from the stack and skip the current word.\n",
    ".Otherwise, push the current word onto the stack.\n",
    "4.After iterating through all the words, the remaining words in the stack are the words that have not been destroyed.\n",
    "5.Return the size of the stack, which represents the number of words left in the sequence."
   ]
  },
  {
   "cell_type": "code",
   "execution_count": 21,
   "id": "ce159e43",
   "metadata": {},
   "outputs": [],
   "source": [
    "def count_remaining_words(sequence):\n",
    "    stack = []\n",
    "    words = sequence.split()\n",
    "\n",
    "    for word in words:\n",
    "        if stack and word == stack[-1]:\n",
    "            stack.pop()\n",
    "        else:\n",
    "            stack.append(word)\n",
    "\n",
    "    return len(stack)\n"
   ]
  },
  {
   "cell_type": "markdown",
   "id": "a31cacf0",
   "metadata": {},
   "source": [
    "Using the input sequence \"ab aa aa bcd ab\", the function count_remaining_words will return 3, as expected.\n",
    "\n",
    "Using the input sequence \"tom jerry jerry tom\", the function count_remaining_words will return 0, as expected."
   ]
  },
  {
   "cell_type": "markdown",
   "id": "62729696",
   "metadata": {},
   "source": [
    "## <aside>\n",
    "💡 **Question 8**\n",
    "\n",
    "Given an array of integers, the task is to find the maximum absolute difference between the nearest left and the right smaller element of every element in the array.\n",
    "\n",
    "**Note:** If there is no smaller element on right side or left side of any element then we take zero as the smaller element. For example for the leftmost element, the nearest smaller element on the left side is considered as 0. Similarly, for rightmost elements, the smaller element on the right side is considered as 0.\n",
    "\n",
    "**Examples:**\n",
    "\n",
    "</aside>"
   ]
  },
  {
   "cell_type": "raw",
   "id": "a9c816d5",
   "metadata": {},
   "source": [
    "Input : arr[] = {2, 1, 8}\n",
    "Output : 1\n",
    "Left smaller  LS[] {0, 0, 1}\n",
    "Right smaller RS[] {1, 0, 0}\n",
    "Maximum Diff of abs(LS[i] - RS[i]) = 1\n",
    "\n",
    "Input  : arr[] = {2, 4, 8, 7, 7, 9, 3}\n",
    "Output : 4\n",
    "Left smaller   LS[] = {0, 2, 4, 4, 4, 7, 2}\n",
    "Right smaller  RS[] = {0, 3, 7, 3, 3, 3, 0}\n",
    "Maximum Diff of abs(LS[i] - RS[i]) = 7 - 3 = 4\n",
    "\n",
    "Input : arr[] = {5, 1, 9, 2, 5, 1, 7}\n",
    "Output : 1"
   ]
  },
  {
   "cell_type": "code",
   "execution_count": 22,
   "id": "f43a296b",
   "metadata": {},
   "outputs": [],
   "source": [
    "def max_absolute_difference(arr):\n",
    "    n = len(arr)\n",
    "    LS = [0] * n\n",
    "    RS = [0] * n\n",
    "    stack = []\n",
    "\n",
    "    for i in range(n):\n",
    "        while stack and stack[-1] >= arr[i]:\n",
    "            element = stack.pop()\n",
    "            RS[element] = arr[i]\n",
    "\n",
    "        if not stack:\n",
    "            LS[i] = 0\n",
    "        else:\n",
    "            LS[i] = stack[-1]\n",
    "\n",
    "        stack.append(i)\n",
    "\n",
    "    stack = []\n",
    "\n",
    "    for i in range(n - 1, -1, -1):\n",
    "        while stack and stack[-1] >= arr[i]:\n",
    "            element = stack.pop()\n",
    "            LS[element] = arr[i]\n",
    "\n",
    "        if not stack:\n",
    "            RS[i] = 0\n",
    "        else:\n",
    "            RS[i] = stack[-1]\n",
    "\n",
    "        stack.append(i)\n",
    "\n",
    "    max_diff = 0\n",
    "\n",
    "    for i in range(n):\n",
    "        max_diff = max(max_diff, abs(LS[i] - RS[i]))\n",
    "\n",
    "    return max_diff\n"
   ]
  },
  {
   "cell_type": "markdown",
   "id": "1df95788",
   "metadata": {},
   "source": [
    "Using the input array [2, 1, 8], the function max_absolute_difference will return 1, as expected.\n",
    "\n",
    "Using the input array [2, 4, 8, 7, 7, 9, 3], the function max_absolute_difference will return 4, as expected.\n",
    "\n",
    "Using the input array [5, 1, 9, 2, 5, 1, 7], the function max_absolute_difference will return 1, as expected."
   ]
  },
  {
   "cell_type": "code",
   "execution_count": null,
   "id": "436a1db0",
   "metadata": {},
   "outputs": [],
   "source": []
  }
 ],
 "metadata": {
  "kernelspec": {
   "display_name": "Python 3 (ipykernel)",
   "language": "python",
   "name": "python3"
  },
  "language_info": {
   "codemirror_mode": {
    "name": "ipython",
    "version": 3
   },
   "file_extension": ".py",
   "mimetype": "text/x-python",
   "name": "python",
   "nbconvert_exporter": "python",
   "pygments_lexer": "ipython3",
   "version": "3.10.7"
  }
 },
 "nbformat": 4,
 "nbformat_minor": 5
}
