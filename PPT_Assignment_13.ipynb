{
 "cells": [
  {
   "cell_type": "markdown",
   "id": "ae27e866",
   "metadata": {},
   "source": [
    "# PPT_Assignment_13 "
   ]
  },
  {
   "cell_type": "markdown",
   "id": "625c4740",
   "metadata": {},
   "source": [
    "## <aside>\n",
    "💡 **Question 1**\n",
    "\n",
    "Given two linked list of the same size, the task is to create a new linked list using those linked lists. The condition is that the greater node among both linked list will be added to the new linked list.\n",
    "\n",
    "**Examples:**\n",
    "\n",
    "</aside>"
   ]
  },
  {
   "cell_type": "raw",
   "id": "7af227a1",
   "metadata": {},
   "source": [
    "Input: list1 = 5->2->3->8\n",
    "list2 = 1->7->4->5\n",
    "Output: New list = 5->7->4->8\n",
    "\n",
    "Input:list1 = 2->8->9->3\n",
    "list2 = 5->3->6->4\n",
    "Output: New list = 5->8->9->4"
   ]
  },
  {
   "cell_type": "code",
   "execution_count": 1,
   "id": "ff74dfe6",
   "metadata": {},
   "outputs": [
    {
     "name": "stdout",
     "output_type": "stream",
     "text": [
      "5 2 3 8 1 7 4 5 "
     ]
    }
   ],
   "source": [
    "class Node:\n",
    "    def __init__(self, data):\n",
    "        self.data = data\n",
    "        self.next = None\n",
    "\n",
    "def create_new_list(list1, list2):\n",
    "    ptr1 = list1\n",
    "    ptr2 = list2\n",
    "    newList = None\n",
    "    tail = None\n",
    "\n",
    "    while ptr1 is not None and ptr2 is not None:\n",
    "        if ptr1.data > ptr2.data:\n",
    "            if newList is None:\n",
    "                newList = Node(ptr1.data)\n",
    "                tail = newList\n",
    "            else:\n",
    "                tail.next = Node(ptr1.data)\n",
    "                tail = tail.next\n",
    "            ptr1 = ptr1.next\n",
    "        else:\n",
    "            if newList is None:\n",
    "                newList = Node(ptr2.data)\n",
    "                tail = newList\n",
    "            else:\n",
    "                tail.next = Node(ptr2.data)\n",
    "                tail = tail.next\n",
    "            ptr2 = ptr2.next\n",
    "\n",
    "    while ptr1 is not None:\n",
    "        tail.next = Node(ptr1.data)\n",
    "        tail = tail.next\n",
    "        ptr1 = ptr1.next\n",
    "\n",
    "    while ptr2 is not None:\n",
    "        tail.next = Node(ptr2.data)\n",
    "        tail = tail.next\n",
    "        ptr2 = ptr2.next\n",
    "\n",
    "    return newList\n",
    "\n",
    "# Example usage:\n",
    "# Create the first linked list: 5 -> 2 -> 3 -> 8\n",
    "list1 = Node(5)\n",
    "list1.next = Node(2)\n",
    "list1.next.next = Node(3)\n",
    "list1.next.next.next = Node(8)\n",
    "\n",
    "# Create the second linked list: 1 -> 7 -> 4 -> 5\n",
    "list2 = Node(1)\n",
    "list2.next = Node(7)\n",
    "list2.next.next = Node(4)\n",
    "list2.next.next.next = Node(5)\n",
    "\n",
    "# Create the new linked list\n",
    "newList = create_new_list(list1, list2)\n",
    "\n",
    "# Print the new linked list: 5 -> 7 -> 4 -> 8\n",
    "while newList is not None:\n",
    "    print(newList.data, end=\" \")\n",
    "    newList = newList.next\n"
   ]
  },
  {
   "cell_type": "markdown",
   "id": "ab7ff52f",
   "metadata": {},
   "source": [
    "## <aside>\n",
    "💡 **Question 2**\n",
    "\n",
    "Write a function that takes a list sorted in non-decreasing order and deletes any duplicate nodes from the list. The list should only be traversed once.\n",
    "\n",
    "For example if the linked list is 11->11->11->21->43->43->60 then removeDuplicates() should convert the list to 11->21->43->60.\n",
    "\n",
    "**Example 1:**\n",
    "\n",
    "</aside>"
   ]
  },
  {
   "cell_type": "raw",
   "id": "341ac003",
   "metadata": {},
   "source": [
    "Input:\n",
    "LinkedList: \n",
    "11->11->11->21->43->43->60\n",
    "Output:\n",
    "11->21->43->60"
   ]
  },
  {
   "cell_type": "markdown",
   "id": "bb3bd151",
   "metadata": {},
   "source": [
    "#### Example 2:"
   ]
  },
  {
   "cell_type": "raw",
   "id": "08294b12",
   "metadata": {},
   "source": [
    "Input:\n",
    "LinkedList: \n",
    "10->12->12->25->25->25->34\n",
    "Output:\n",
    "10->12->25->34"
   ]
  },
  {
   "cell_type": "code",
   "execution_count": 3,
   "id": "419f5fd8",
   "metadata": {},
   "outputs": [
    {
     "name": "stdout",
     "output_type": "stream",
     "text": [
      "11 21 43 60 "
     ]
    }
   ],
   "source": [
    "class Node:\n",
    "    def __init__(self, data):\n",
    "        self.data = data\n",
    "        self.next = None\n",
    "\n",
    "def remove_duplicates(head):\n",
    "    current = head\n",
    "\n",
    "    while current is not None and current.next is not None:\n",
    "        if current.data == current.next.data:\n",
    "            current.next = current.next.next\n",
    "        else:\n",
    "            current = current.next\n",
    "\n",
    "    return head\n",
    "\n",
    "# Example usage:\n",
    "# Create the linked list: 11 -> 11 -> 11 -> 21 -> 43 -> 43 -> 60\n",
    "head = Node(11)\n",
    "head.next = Node(11)\n",
    "head.next.next = Node(11)\n",
    "head.next.next.next = Node(21)\n",
    "head.next.next.next.next = Node(43)\n",
    "head.next.next.next.next.next = Node(43)\n",
    "head.next.next.next.next.next.next = Node(60)\n",
    "\n",
    "# Remove duplicate nodes from the linked list\n",
    "new_head = remove_duplicates(head)\n",
    "\n",
    "# Print the modified linked list: 11 -> 21 -> 43 -> 60\n",
    "while new_head is not None:\n",
    "    print(new_head.data, end=\" \")\n",
    "    new_head = new_head.next\n"
   ]
  },
  {
   "cell_type": "code",
   "execution_count": 4,
   "id": "f4d09b3d",
   "metadata": {},
   "outputs": [
    {
     "name": "stdout",
     "output_type": "stream",
     "text": [
      "10 12 25 34 "
     ]
    }
   ],
   "source": [
    "class Node:\n",
    "    def __init__(self, data):\n",
    "        self.data = data\n",
    "        self.next = None\n",
    "\n",
    "def remove_duplicates(head):\n",
    "    if head is None:\n",
    "        return head\n",
    "\n",
    "    current = head\n",
    "\n",
    "    while current.next is not None:\n",
    "        if current.data == current.next.data:\n",
    "            current.next = current.next.next\n",
    "        else:\n",
    "            current = current.next\n",
    "\n",
    "    return head\n",
    "\n",
    "# Example usage:\n",
    "# Create the linked list: 10 -> 12 -> 12 -> 25 -> 25 -> 25 -> 34\n",
    "head = Node(10)\n",
    "head.next = Node(12)\n",
    "head.next.next = Node(12)\n",
    "head.next.next.next = Node(25)\n",
    "head.next.next.next.next = Node(25)\n",
    "head.next.next.next.next.next = Node(25)\n",
    "head.next.next.next.next.next.next = Node(34)\n",
    "\n",
    "# Remove duplicate nodes from the linked list\n",
    "new_head = remove_duplicates(head)\n",
    "\n",
    "# Print the modified linked list: 10 -> 12 -> 25 -> 34\n",
    "while new_head is not None:\n",
    "    print(new_head.data, end=\" \")\n",
    "    new_head = new_head.next\n"
   ]
  },
  {
   "cell_type": "markdown",
   "id": "3de28895",
   "metadata": {},
   "source": [
    "## <aside>\n",
    "💡 **Question 4**\n",
    "\n",
    "Given a linked list, write a function to reverse every alternate k nodes (where k is an input to the function) in an efficient way. Give the complexity of your algorithm.\n",
    "\n",
    "**Example:**\n",
    "\n",
    "</aside>"
   ]
  },
  {
   "cell_type": "raw",
   "id": "6d1925df",
   "metadata": {},
   "source": [
    "Inputs:   1->2->3->4->5->6->7->8->9->NULL and k = 3\n",
    "Output:   3->2->1->4->5->6->9->8->7->NULL."
   ]
  },
  {
   "cell_type": "raw",
   "id": "105392d4",
   "metadata": {},
   "source": [
    "Ans:-1.Initialize three pointers: prev, current, and next to keep track of the nodes during the reversal process.\n",
    "2.Traverse the linked list while keeping a count of the nodes visited.\n",
    "3.When the count is equal to k, start the reversal process:\n",
    ".Reverse the k nodes by adjusting the next pointers.\n",
    ".Update the prev pointer to the new head of the reversed sublist.\n",
    ".Update the current pointer to the next node after the reversed sublist.\n",
    ".Update the next pointer to the node following the current node.\n",
    "4.Connect the reversed sublist to the previous sublist:\n",
    "    .If prev is not None, connect prev to the current node.\n",
    "    .If prev is None, it means the reversal is done at the beginning of the linked list, so update the head of the linked list to the current node.\n",
    "    Skip the next k nodes (alternate k nodes) by moving the current pointer to the node following the skipped nodes.\n",
    "5.Repeat steps 3-5 until the end of the linked list is reached.\n",
    "6.Return the modified linked list."
   ]
  },
  {
   "cell_type": "code",
   "execution_count": 5,
   "id": "ecd96751",
   "metadata": {},
   "outputs": [
    {
     "name": "stdout",
     "output_type": "stream",
     "text": [
      "3 2 1 4 5 6 9 8 7 "
     ]
    }
   ],
   "source": [
    "class Node:\n",
    "    def __init__(self, data):\n",
    "        self.data = data\n",
    "        self.next = None\n",
    "\n",
    "def reverse_alternate_k_nodes(head, k):\n",
    "    if k <= 1 or head is None:\n",
    "        return head\n",
    "\n",
    "    prev = None\n",
    "    current = head\n",
    "    next_node = None\n",
    "    count = 0\n",
    "\n",
    "    # Reverse k nodes\n",
    "    while current is not None and count < k:\n",
    "        next_node = current.next\n",
    "        current.next = prev\n",
    "        prev = current\n",
    "        current = next_node\n",
    "        count += 1\n",
    "\n",
    "    # Connect reversed sublist to previous sublist\n",
    "    if head is not None:\n",
    "        head.next = current\n",
    "\n",
    "    # Skip the next k nodes (alternate k nodes)\n",
    "    count = 0\n",
    "    while count < k - 1 and current is not None:\n",
    "        current = current.next\n",
    "        count += 1\n",
    "\n",
    "    # Recursive call for the remaining linked list\n",
    "    if current is not None:\n",
    "        current.next = reverse_alternate_k_nodes(current.next, k)\n",
    "\n",
    "    # Return the modified linked list\n",
    "    return prev\n",
    "\n",
    "# Example usage:\n",
    "# Create the linked list: 1 -> 2 -> 3 -> 4 -> 5 -> 6 -> 7 -> 8 -> 9 -> None\n",
    "head = Node(1)\n",
    "head.next = Node(2)\n",
    "head.next.next = Node(3)\n",
    "head.next.next.next = Node(4)\n",
    "head.next.next.next.next = Node(5)\n",
    "head.next.next.next.next.next = Node(6)\n",
    "head.next.next.next.next.next.next = Node(7)\n",
    "head.next.next.next.next.next.next.next = Node(8)\n",
    "head.next.next.next.next.next.next.next.next = Node(9)\n",
    "\n",
    "# Reverse every alternate 3 nodes in the linked list\n",
    "k = 3\n",
    "new_head = reverse_alternate_k_nodes(head, k)\n",
    "\n",
    "# Print the modified linked list: 3 -> 2 -> 1 -> 4 -> 5 -> 6 -> 9 -> 8 -> 7 -> None\n",
    "while new_head is not None:\n",
    "    print(new_head.data, end=\" \")\n",
    "    new_head = new_head.next\n"
   ]
  },
  {
   "cell_type": "markdown",
   "id": "5a36e8ec",
   "metadata": {},
   "source": [
    "## <aside>\n",
    "💡 **Question 5**\n",
    "\n",
    "Given a linked list and a key to be deleted. Delete last occurrence of key from linked. The list may have duplicates.\n",
    "\n",
    "</aside>\n",
    "Examples:"
   ]
  },
  {
   "cell_type": "raw",
   "id": "e542cac9",
   "metadata": {},
   "source": [
    "Input:   1->2->3->5->2->10, key = 2\n",
    "Output:  1->2->3->5->10"
   ]
  },
  {
   "cell_type": "raw",
   "id": "ddacdf9d",
   "metadata": {},
   "source": [
    "Ans:-1.Initialize three pointers: prev, toDelete, and lastKeyPos to keep track of the nodes during traversal.\n",
    "2.Traverse the linked list:\n",
    "    .If the current node's data matches the key, update the toDelete pointer to the current node and update the lastKeyPos pointer to the position of the last occurrence.\n",
    "    .Move the prev pointer to the next node and continue to the next iteration.\n",
    "3.After the traversal, if toDelete is still None, it means the key is not present in the linked list. Return the original linked list.\n",
    "4.If the toDelete node is the head of the linked list, update the head to the next node.\n",
    "5.Otherwise, update the next pointer of the previous node (prev) to skip the toDelete node.\n",
    "6.If toDelete is the last node in the linked list, update the next pointer of the previous node (lastKeyPos) to None, indicating the end of the list.\n",
    "7.Return the modified linked list."
   ]
  },
  {
   "cell_type": "code",
   "execution_count": 6,
   "id": "f001e57e",
   "metadata": {},
   "outputs": [
    {
     "name": "stdout",
     "output_type": "stream",
     "text": [
      "1 2 3 5 10 "
     ]
    }
   ],
   "source": [
    "class Node:\n",
    "    def __init__(self, data):\n",
    "        self.data = data\n",
    "        self.next = None\n",
    "\n",
    "def delete_last_occurrence(head, key):\n",
    "    if head is None:\n",
    "        return None\n",
    "\n",
    "    prev = None\n",
    "    toDelete = None\n",
    "    lastKeyPos = None\n",
    "    current = head\n",
    "\n",
    "    while current is not None:\n",
    "        if current.data == key:\n",
    "            toDelete = current\n",
    "            lastKeyPos = prev\n",
    "\n",
    "        prev = current\n",
    "        current = current.next\n",
    "\n",
    "    if toDelete is None:\n",
    "        return head\n",
    "\n",
    "    if toDelete is head:\n",
    "        head = head.next\n",
    "    else:\n",
    "        lastKeyPos.next = toDelete.next\n",
    "\n",
    "    if toDelete.next is None:\n",
    "        lastKeyPos.next = None\n",
    "\n",
    "    return head\n",
    "\n",
    "# Example usage:\n",
    "# Create the linked list: 1 -> 2 -> 3 -> 5 -> 2 -> 10\n",
    "head = Node(1)\n",
    "head.next = Node(2)\n",
    "head.next.next = Node(3)\n",
    "head.next.next.next = Node(5)\n",
    "head.next.next.next.next = Node(2)\n",
    "head.next.next.next.next.next = Node(10)\n",
    "\n",
    "# Delete the last occurrence of key 2\n",
    "key = 2\n",
    "new_head = delete_last_occurrence(head, key)\n",
    "\n",
    "# Print the modified linked list: 1 -> 2 -> 3 -> 5 -> 10\n",
    "while new_head is not None:\n",
    "    print(new_head.data, end=\" \")\n",
    "    new_head = new_head.next\n"
   ]
  },
  {
   "cell_type": "markdown",
   "id": "e494d089",
   "metadata": {},
   "source": [
    "## <aside>\n",
    "💡 **Question 6**\n",
    "\n",
    "Given two sorted linked lists consisting of **N** and **M** nodes respectively. The task is to merge both of the lists (in place) and return the head of the merged list.\n",
    "\n",
    "**Examples:**\n",
    "\n",
    "Input: a: 5->10->15, b: 2->3->20\n",
    "\n",
    "Output: 2->3->5->10->15->20\n",
    "\n",
    "Input: a: 1->1, b: 2->4\n",
    "\n",
    "Output: 1->1->2->4\n",
    "\n",
    "</aside>"
   ]
  },
  {
   "cell_type": "raw",
   "id": "126979a1",
   "metadata": {},
   "source": [
    "Ans:- Here's the step-by-step algorithm:\n",
    "    1.Create a dummy node as the head of the merged list. Set dummy.next to None.\n",
    "2.Initialize two pointers, currentA and currentB, to the heads of the input linked lists.\n",
    "3.Set a pointer, current, to the dummy node.\n",
    "4.Iterate while both currentA and currentB are not None:\n",
    ".Compare the values of currentA and currentB.\n",
    ".If the value of currentA is less than or equal to currentB, append currentA to the merged list and move currentA to the next node.\n",
    ".Otherwise, append currentB to the merged list and move currentB to the next node.\n",
    ".Move current to the next node.\n",
    "5.If there are remaining nodes in currentA, append them to the merged list.\n",
    "6.If there are remaining nodes in currentB, append them to the merged list.\n",
    "7.Return dummy.next as the head of the merged list."
   ]
  },
  {
   "cell_type": "code",
   "execution_count": 7,
   "id": "1a8755d5",
   "metadata": {},
   "outputs": [
    {
     "name": "stdout",
     "output_type": "stream",
     "text": [
      "2 3 5 10 15 20 "
     ]
    }
   ],
   "source": [
    "class Node:\n",
    "    def __init__(self, data):\n",
    "        self.data = data\n",
    "        self.next = None\n",
    "\n",
    "def merge_sorted_lists(a, b):\n",
    "    dummy = Node(None)\n",
    "    current = dummy\n",
    "    currentA = a\n",
    "    currentB = b\n",
    "\n",
    "    while currentA is not None and currentB is not None:\n",
    "        if currentA.data <= currentB.data:\n",
    "            current.next = currentA\n",
    "            currentA = currentA.next\n",
    "        else:\n",
    "            current.next = currentB\n",
    "            currentB = currentB.next\n",
    "\n",
    "        current = current.next\n",
    "\n",
    "    if currentA is not None:\n",
    "        current.next = currentA\n",
    "\n",
    "    if currentB is not None:\n",
    "        current.next = currentB\n",
    "\n",
    "    return dummy.next\n",
    "\n",
    "# Example usage:\n",
    "# Create the first sorted linked list: 5 -> 10 -> 15\n",
    "a = Node(5)\n",
    "a.next = Node(10)\n",
    "a.next.next = Node(15)\n",
    "\n",
    "# Create the second sorted linked list: 2 -> 3 -> 20\n",
    "b = Node(2)\n",
    "b.next = Node(3)\n",
    "b.next.next = Node(20)\n",
    "\n",
    "# Merge the two sorted linked lists\n",
    "merged_head = merge_sorted_lists(a, b)\n",
    "\n",
    "# Print the merged list: 2 -> 3 -> 5 -> 10 -> 15 -> 20\n",
    "current = merged_head\n",
    "while current is not None:\n",
    "    print(current.data, end=\" \")\n",
    "    current = current.next\n"
   ]
  },
  {
   "cell_type": "markdown",
   "id": "c64ec8ea",
   "metadata": {},
   "source": [
    "## <aside>\n",
    "💡 **Question 7**\n",
    "\n",
    "Given a **Doubly Linked List**, the task is to reverse the given Doubly Linked List.\n",
    "\n",
    "**Example:**\n",
    "\n",
    "</aside>"
   ]
  },
  {
   "cell_type": "raw",
   "id": "5fb04bfc",
   "metadata": {},
   "source": [
    "Original Linked list 10 8 4 2\n",
    "Reversed Linked list 2 4 8 10"
   ]
  },
  {
   "cell_type": "raw",
   "id": "3888bddb",
   "metadata": {},
   "source": [
    "Ans:-To reverse a doubly linked list, you can follow these steps:\n",
    "\n",
    "1.Initialize three pointers: current to the head of the doubly linked list, prev to None, and next to None.\n",
    "2.Traverse the doubly linked list:\n",
    ".Set next to the next node of current.\n",
    ".Update the next pointer of current to the previous node (prev).\n",
    ".Update the prev pointer of current to the next node (next).\n",
    ".Move prev to current.\n",
    ".Move current to next.\n",
    "3.After the traversal, the original head of the doubly linked list will be the last node (prev).\n",
    "4.Return the last node as the new head of the reversed doubly linked list.\n"
   ]
  },
  {
   "cell_type": "code",
   "execution_count": 8,
   "id": "489efca7",
   "metadata": {},
   "outputs": [
    {
     "name": "stdout",
     "output_type": "stream",
     "text": [
      "2 4 8 10 "
     ]
    }
   ],
   "source": [
    "class Node:\n",
    "    def __init__(self, data):\n",
    "        self.data = data\n",
    "        self.prev = None\n",
    "        self.next = None\n",
    "\n",
    "def reverse_doubly_linked_list(head):\n",
    "    current = head\n",
    "    prev = None\n",
    "\n",
    "    while current is not None:\n",
    "        next_node = current.next\n",
    "        current.next = prev\n",
    "        current.prev = next_node\n",
    "        prev = current\n",
    "        current = next_node\n",
    "\n",
    "    return prev\n",
    "\n",
    "# Example usage:\n",
    "# Create the original doubly linked list: 10 <-> 8 <-> 4 <-> 2\n",
    "head = Node(10)\n",
    "node1 = Node(8)\n",
    "node2 = Node(4)\n",
    "node3 = Node(2)\n",
    "head.next = node1\n",
    "node1.prev = head\n",
    "node1.next = node2\n",
    "node2.prev = node1\n",
    "node2.next = node3\n",
    "node3.prev = node2\n",
    "\n",
    "# Reverse the doubly linked list\n",
    "reversed_head = reverse_doubly_linked_list(head)\n",
    "\n",
    "# Print the reversed doubly linked list: 2 <-> 4 <-> 8 <-> 10\n",
    "current = reversed_head\n",
    "while current is not None:\n",
    "    print(current.data, end=\" \")\n",
    "    current = current.next\n"
   ]
  },
  {
   "cell_type": "markdown",
   "id": "8d824c34",
   "metadata": {},
   "source": [
    "## <aside>\n",
    "💡 **Question 8**\n",
    "\n",
    "Given a doubly linked list and a position. The task is to delete a node from given position in a doubly linked list.\n",
    "\n",
    "**Example 1:**\n",
    "\n",
    "</aside>"
   ]
  },
  {
   "cell_type": "raw",
   "id": "be030298",
   "metadata": {},
   "source": [
    "Input:\n",
    "LinkedList = 1 <--> 3 <--> 4\n",
    "x = 3\n",
    "Output:1 3\n",
    "Explanation:After deleting the node at\n",
    "position 3 (position starts from 1),\n",
    "the linked list will be now as 1->3.\n"
   ]
  },
  {
   "cell_type": "markdown",
   "id": "43079751",
   "metadata": {},
   "source": [
    "##### Example 2:"
   ]
  },
  {
   "cell_type": "raw",
   "id": "fe299b03",
   "metadata": {},
   "source": [
    "Input:\n",
    "LinkedList = 1 <--> 5 <--> 2 <--> 9\n",
    "x = 1\n",
    "Output:5 2 9"
   ]
  },
  {
   "cell_type": "code",
   "execution_count": 9,
   "id": "5741029f",
   "metadata": {},
   "outputs": [
    {
     "name": "stdout",
     "output_type": "stream",
     "text": [
      "1 3 "
     ]
    }
   ],
   "source": [
    "class Node:\n",
    "    def __init__(self, data):\n",
    "        self.data = data\n",
    "        self.prev = None\n",
    "        self.next = None\n",
    "\n",
    "def delete_node_at_position(head, position):\n",
    "    if head is None:\n",
    "        return None\n",
    "\n",
    "    if position == 1:\n",
    "        new_head = head.next\n",
    "        if new_head is not None:\n",
    "            new_head.prev = None\n",
    "        return new_head\n",
    "\n",
    "    current = head\n",
    "    prev = None\n",
    "    count = 1\n",
    "\n",
    "    while current is not None and count < position:\n",
    "        prev = current\n",
    "        current = current.next\n",
    "        count += 1\n",
    "\n",
    "    if current is None:\n",
    "        return head\n",
    "\n",
    "    prev.next = current.next\n",
    "\n",
    "    if current.next is not None:\n",
    "        current.next.prev = prev\n",
    "\n",
    "    return head\n",
    "\n",
    "# Example usage:\n",
    "# Create the original doubly linked list: 1 <-> 3 <-> 4\n",
    "head = Node(1)\n",
    "node1 = Node(3)\n",
    "node2 = Node(4)\n",
    "head.next = node1\n",
    "node1.prev = head\n",
    "node1.next = node2\n",
    "node2.prev = node1\n",
    "\n",
    "# Delete the node at position 3\n",
    "position = 3\n",
    "new_head = delete_node_at_position(head, position)\n",
    "\n",
    "# Print the modified doubly linked list: 1 <-> 3\n",
    "current = new_head\n",
    "while current is not None:\n",
    "    print(current.data, end=\" \")\n",
    "    current = current.next\n"
   ]
  },
  {
   "cell_type": "code",
   "execution_count": 10,
   "id": "1f51013f",
   "metadata": {},
   "outputs": [
    {
     "name": "stdout",
     "output_type": "stream",
     "text": [
      "5 2 9 "
     ]
    }
   ],
   "source": [
    "class Node:\n",
    "    def __init__(self, data):\n",
    "        self.data = data\n",
    "        self.prev = None\n",
    "        self.next = None\n",
    "\n",
    "def delete_node_at_position(head, position):\n",
    "    if head is None:\n",
    "        return None\n",
    "\n",
    "    if position == 1:\n",
    "        new_head = head.next\n",
    "        if new_head is not None:\n",
    "            new_head.prev = None\n",
    "        return new_head\n",
    "\n",
    "    current = head\n",
    "    prev = None\n",
    "    count = 1\n",
    "\n",
    "    while current is not None and count < position:\n",
    "        prev = current\n",
    "        current = current.next\n",
    "        count += 1\n",
    "\n",
    "    if current is None:\n",
    "        return head\n",
    "\n",
    "    prev.next = current.next\n",
    "\n",
    "    if current.next is not None:\n",
    "        current.next.prev = prev\n",
    "\n",
    "    return head\n",
    "\n",
    "# Example usage:\n",
    "# Create the original doubly linked list: 1 <-> 5 <-> 2 <-> 9\n",
    "head = Node(1)\n",
    "node1 = Node(5)\n",
    "node2 = Node(2)\n",
    "node3 = Node(9)\n",
    "head.next = node1\n",
    "node1.prev = head\n",
    "node1.next = node2\n",
    "node2.prev = node1\n",
    "node2.next = node3\n",
    "node3.prev = node2\n",
    "\n",
    "# Delete the node at position 1\n",
    "position = 1\n",
    "new_head = delete_node_at_position(head, position)\n",
    "\n",
    "# Print the modified doubly linked list: 5 <-> 2 <-> 9\n",
    "current = new_head\n",
    "while current is not None:\n",
    "    print(current.data, end=\" \")\n",
    "    current = current.next\n"
   ]
  },
  {
   "cell_type": "code",
   "execution_count": null,
   "id": "6e297408",
   "metadata": {},
   "outputs": [],
   "source": []
  }
 ],
 "metadata": {
  "kernelspec": {
   "display_name": "Python 3 (ipykernel)",
   "language": "python",
   "name": "python3"
  },
  "language_info": {
   "codemirror_mode": {
    "name": "ipython",
    "version": 3
   },
   "file_extension": ".py",
   "mimetype": "text/x-python",
   "name": "python",
   "nbconvert_exporter": "python",
   "pygments_lexer": "ipython3",
   "version": "3.10.7"
  }
 },
 "nbformat": 4,
 "nbformat_minor": 5
}
