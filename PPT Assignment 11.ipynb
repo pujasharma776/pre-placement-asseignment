{
 "cells": [
  {
   "cell_type": "markdown",
   "id": "b4b0e806",
   "metadata": {},
   "source": [
    "# PPT Assignment 11"
   ]
  },
  {
   "cell_type": "markdown",
   "id": "7f4c2c5f",
   "metadata": {},
   "source": [
    "## <aside>\n",
    "💡 **Question 1**\n",
    "\n",
    "Given a non-negative integer `x`, return *the square root of* `x` *rounded down to the nearest integer*. The returned integer should be **non-negative** as well.\n",
    "\n",
    "You **must not use** any built-in exponent function or operator.\n",
    "\n",
    "- For example, do not use `pow(x, 0.5)` in c++ or `x ** 0.5` in python.\n",
    "</aside>"
   ]
  },
  {
   "cell_type": "markdown",
   "id": "b200921f",
   "metadata": {},
   "source": [
    "###### EXAMPLE 1"
   ]
  },
  {
   "cell_type": "raw",
   "id": "5e6bf1cb",
   "metadata": {},
   "source": [
    "Input: x = 4\n",
    "Output: 2\n",
    "Explanation: The square root of 4 is 2, so we return 2.\n"
   ]
  },
  {
   "cell_type": "markdown",
   "id": "02eaa3c0",
   "metadata": {},
   "source": [
    "###### EXAMPLE 2"
   ]
  },
  {
   "cell_type": "raw",
   "id": "f13a4a57",
   "metadata": {},
   "source": [
    "Input: x = 8\n",
    "Output: 2\n",
    "Explanation: The square root of 8 is 2.82842..., and since we round it down to the nearest integer, 2 is returned."
   ]
  },
  {
   "cell_type": "raw",
   "id": "2759bb92",
   "metadata": {},
   "source": [
    "Ans-;-Approach:-\n",
    "    1.If x is 0 or 1, return x as the square root.\n",
    "2.Initialize two variables, left and right, where left is 0 and right is x.\n",
    "3.While left is less than or equal to right, perform the following steps:\n",
    ".Calculate the middle element as mid using the formula mid = (left + right) / 2.\n",
    ".Calculate the square of mid as square = mid * mid.\n",
    ".If square is equal to x, return mid as the square root.\n",
    ".If square is less than x, update left = mid + 1.\n",
    ".If square is greater than x, update right = mid - 1.\n",
    "4.If the loop terminates without finding the exact square root, return right as the square root (rounded down to the nearest integer)."
   ]
  },
  {
   "cell_type": "code",
   "execution_count": 4,
   "id": "30dc30a5",
   "metadata": {},
   "outputs": [],
   "source": [
    "def mySqrt(x):\n",
    "    if x == 0 or x == 1:\n",
    "        return x\n",
    "    \n",
    "    left = 0\n",
    "    right = x\n",
    "    \n",
    "    while left <= right:\n",
    "        mid = (left + right) // 2\n",
    "        square = mid * mid\n",
    "        \n",
    "        if square == x:\n",
    "            return mid\n",
    "        elif square < x:\n",
    "            left = mid + 1\n",
    "        else:\n",
    "            right = mid - 1\n",
    "    \n",
    "    return right\n",
    "\n",
    "    \n"
   ]
  },
  {
   "cell_type": "markdown",
   "id": "dec51a63",
   "metadata": {},
   "source": [
    "provided example:"
   ]
  },
  {
   "cell_type": "code",
   "execution_count": 3,
   "id": "0f6a1e23",
   "metadata": {},
   "outputs": [
    {
     "name": "stdout",
     "output_type": "stream",
     "text": [
      "2\n"
     ]
    }
   ],
   "source": [
    "x = 4\n",
    "result = mySqrt(x)\n",
    "print(result)  \n"
   ]
  },
  {
   "cell_type": "code",
   "execution_count": 9,
   "id": "bd7b594e",
   "metadata": {},
   "outputs": [],
   "source": [
    "def mySqrt(x):\n",
    "    if x == 0 or x == 1:\n",
    "        return x\n",
    "    \n",
    "    left = 0\n",
    "    right = x\n",
    "    \n",
    "    while left <= right:\n",
    "        mid = (left + right) // 2\n",
    "        \n",
    "        if mid == x // mid:\n",
    "            return mid\n",
    "        elif mid > x // mid:\n",
    "            right = mid - 1\n",
    "        else:\n",
    "            left = mid + 1\n",
    "    \n",
    "    return right\n",
    "\n",
    "\n"
   ]
  },
  {
   "cell_type": "code",
   "execution_count": 12,
   "id": "99a94437",
   "metadata": {},
   "outputs": [
    {
     "name": "stdout",
     "output_type": "stream",
     "text": [
      "2\n"
     ]
    }
   ],
   "source": [
    "x = 8\n",
    "result = mySqrt(x)\n",
    "print(result)  \n"
   ]
  },
  {
   "cell_type": "markdown",
   "id": "4518e5e1",
   "metadata": {},
   "source": [
    "## <aside>\n",
    "💡 **Question 3**\n",
    "\n",
    "****\n",
    "\n",
    "Given an array `nums` containing `n` distinct numbers in the range `[0, n]`, return *the only number in the range that is missing from the array.*\n",
    "\n",
    "**Example 1:**\n",
    "\n",
    "</aside>"
   ]
  },
  {
   "cell_type": "raw",
   "id": "979ed4de",
   "metadata": {},
   "source": [
    "Input: nums = [3,0,1]\n",
    "Output: 2\n",
    "Explanation: n = 3 since there are 3 numbers, so all numbers are in the range [0,3]. 2 is the missing number in the range since it does not appear in nums.\n"
   ]
  },
  {
   "cell_type": "markdown",
   "id": "6201715c",
   "metadata": {},
   "source": [
    "###### Example 2:"
   ]
  },
  {
   "cell_type": "raw",
   "id": "bd01c7d0",
   "metadata": {},
   "source": [
    "Input: nums = [0,1]\n",
    "Output: 2\n",
    "Explanation: n = 2 since there are 2 numbers, so all numbers are in the range [0,2]. 2 is the missing number in the range since it does not appear in nums.\n"
   ]
  },
  {
   "cell_type": "raw",
   "id": "e6247fca",
   "metadata": {},
   "source": [
    "Ans:-approach:\n",
    "1.Calculate the expected sum of the numbers in the range [0, n] using the formula expected_sum = n * (n + 1) // 2.\n",
    "2.Iterate over each number num in nums and subtract it from the expected_sum.\n",
    "3.At the end of the iteration, the remaining value of expected_sum will be the missing number.\n",
    "4.Return the missing number.   "
   ]
  },
  {
   "cell_type": "code",
   "execution_count": 13,
   "id": "62474d07",
   "metadata": {},
   "outputs": [],
   "source": [
    "def missingNumber(nums):\n",
    "    n = len(nums)\n",
    "    expected_sum = n * (n + 1) // 2\n",
    "    \n",
    "    for num in nums:\n",
    "        expected_sum -= num\n",
    "    \n",
    "    return expected_sum\n"
   ]
  },
  {
   "cell_type": "markdown",
   "id": "f5af2c2e",
   "metadata": {},
   "source": [
    "provided example 1:"
   ]
  },
  {
   "cell_type": "code",
   "execution_count": 14,
   "id": "259d2cb6",
   "metadata": {},
   "outputs": [
    {
     "name": "stdout",
     "output_type": "stream",
     "text": [
      "2\n"
     ]
    }
   ],
   "source": [
    "nums = [3, 0, 1]\n",
    "result = missingNumber(nums)\n",
    "print(result)  \n"
   ]
  },
  {
   "cell_type": "markdown",
   "id": "98ef3019",
   "metadata": {},
   "source": [
    "provided example 2:"
   ]
  },
  {
   "cell_type": "code",
   "execution_count": 15,
   "id": "5a283306",
   "metadata": {},
   "outputs": [],
   "source": [
    "def missingNumber(nums):\n",
    "    n = len(nums)\n",
    "    expected_sum = n * (n + 1) // 2\n",
    "\n",
    "    for num in nums:\n",
    "        expected_sum -= num\n",
    "\n",
    "    return expected_sum\n"
   ]
  },
  {
   "cell_type": "code",
   "execution_count": 16,
   "id": "61e55c4e",
   "metadata": {},
   "outputs": [
    {
     "name": "stdout",
     "output_type": "stream",
     "text": [
      "2\n"
     ]
    }
   ],
   "source": [
    "nums = [0, 1]\n",
    "result = missingNumber(nums)\n",
    "print(result)  \n"
   ]
  },
  {
   "cell_type": "markdown",
   "id": "fc116564",
   "metadata": {},
   "source": [
    "## <aside>\n",
    "💡 **Question 5**\n",
    "\n",
    "Given two integer arrays `nums1` and `nums2`, return *an array of their intersection*. Each element in the result must be **unique** and you may return the result in **any order**.\n",
    "\n",
    "**Example 1:**\n",
    "\n",
    "```\n",
    "Input: nums1 = [1,2,2,1], nums2 = [2,2]\n",
    "Output: [2]\n",
    "\n",
    "```\n",
    "\n",
    "**Example 2:**\n",
    "\n",
    "```\n",
    "Input: nums1 = [4,9,5], nums2 = [9,4,9,8,4]\n",
    "Output: [9,4]\n",
    "Explanation: [4,9] is also accepted.\n",
    "```\n",
    "\n",
    "</aside>\n",
    "\n",
    "<aside>\n",
    "💡 **Question 6**\n",
    "\n",
    "</aside>"
   ]
  },
  {
   "cell_type": "raw",
   "id": "9374aa9d",
   "metadata": {},
   "source": [
    "Ans:- two integer arrays, nums1 and nums2\n",
    "1.Convert nums1 and nums2 into sets, set1 and set2, respectively.\n",
    "2.Initialize an empty set called intersection to store the common elements.\n",
    "3.Iterate over each element, num, in set1.\n",
    "4.If num is present in set2, add it to the intersection set.\n",
    "5.Convert the intersection set back to a list and return the result."
   ]
  },
  {
   "cell_type": "code",
   "execution_count": 17,
   "id": "942c6a47",
   "metadata": {},
   "outputs": [],
   "source": [
    "def intersection(nums1, nums2):\n",
    "    set1 = set(nums1)\n",
    "    set2 = set(nums2)\n",
    "    intersection = set()\n",
    "\n",
    "    for num in set1:\n",
    "        if num in set2:\n",
    "            intersection.add(num)\n",
    "\n",
    "    return list(intersection)\n"
   ]
  },
  {
   "cell_type": "markdown",
   "id": "a5c8144b",
   "metadata": {},
   "source": [
    "Example 1:"
   ]
  },
  {
   "cell_type": "code",
   "execution_count": 18,
   "id": "86825b36",
   "metadata": {},
   "outputs": [
    {
     "name": "stdout",
     "output_type": "stream",
     "text": [
      "[2]\n"
     ]
    }
   ],
   "source": [
    "nums1 = [1, 2, 2, 1]\n",
    "nums2 = [2, 2]\n",
    "result = intersection(nums1, nums2)\n",
    "print(result)  \n"
   ]
  },
  {
   "cell_type": "markdown",
   "id": "7feb53c1",
   "metadata": {},
   "source": [
    "Example 2:"
   ]
  },
  {
   "cell_type": "code",
   "execution_count": 19,
   "id": "24ec8918",
   "metadata": {},
   "outputs": [
    {
     "name": "stdout",
     "output_type": "stream",
     "text": [
      "[9, 4]\n"
     ]
    }
   ],
   "source": [
    "nums1 = [4, 9, 5]\n",
    "nums2 = [9, 4, 9, 8, 4]\n",
    "result = intersection(nums1, nums2)\n",
    "print(result)  \n"
   ]
  },
  {
   "cell_type": "markdown",
   "id": "ced0f177",
   "metadata": {},
   "source": [
    "## <aside>\n",
    "💡 **Question 8**\n",
    "\n",
    "Given two integer arrays `nums1` and `nums2`, return *an array of their intersection*. Each element in the result must appear as many times as it shows in both arrays and you may return the result in **any order**.\n",
    "\n",
    "**Example 1:**\n",
    "\n",
    "</aside>"
   ]
  },
  {
   "cell_type": "raw",
   "id": "478f4733",
   "metadata": {},
   "source": [
    "Input: nums1 = [1,2,2,1], nums2 = [2,2]\n",
    "Output: [2,2]\n"
   ]
  },
  {
   "cell_type": "markdown",
   "id": "84c55bed",
   "metadata": {},
   "source": [
    "###### Example 2:"
   ]
  },
  {
   "cell_type": "raw",
   "id": "5d2efc26",
   "metadata": {},
   "source": [
    "Input: nums1 = [4,9,5], nums2 = [9,4,9,8,4]\n",
    "Output: [4,9]\n",
    "Explanation: [9,4] is also accepted."
   ]
  },
  {
   "cell_type": "raw",
   "id": "a71d3cf1",
   "metadata": {},
   "source": [
    " Ans:- two integer arrays, nums1 and nums2\n",
    "    approach:-\n",
    "        1.Initialize an empty dictionary called freq1 to store the frequency of elements in nums1.\n",
    "2.Iterate over each element, num, in nums1.\n",
    "3.If num is already present in freq1, increment its frequency by 1. Otherwise, add it to freq1 with a frequency of 1.\n",
    "4.Initialize an empty list called intersection to store the common elements.\n",
    "5.Iterate over each element, num, in nums2.\n",
    "6.If num is present in freq1 and its frequency is greater than 0, add it to the intersection list and decrement its frequency in freq1 by 1.\n",
    "7.Return the intersection list."
   ]
  },
  {
   "cell_type": "code",
   "execution_count": 20,
   "id": "006ca54f",
   "metadata": {},
   "outputs": [],
   "source": [
    "def intersection(nums1, nums2):\n",
    "    freq1 = {}\n",
    "    \n",
    "    for num in nums1:\n",
    "        freq1[num] = freq1.get(num, 0) + 1\n",
    "    \n",
    "    intersection = []\n",
    "    \n",
    "    for num in nums2:\n",
    "        if num in freq1 and freq1[num] > 0:\n",
    "            intersection.append(num)\n",
    "            freq1[num] -= 1\n",
    "    \n",
    "    return intersection\n"
   ]
  },
  {
   "cell_type": "markdown",
   "id": "37cb4b7a",
   "metadata": {},
   "source": [
    "Example 1:"
   ]
  },
  {
   "cell_type": "code",
   "execution_count": 21,
   "id": "d1fd451b",
   "metadata": {},
   "outputs": [
    {
     "name": "stdout",
     "output_type": "stream",
     "text": [
      "[2, 2]\n"
     ]
    }
   ],
   "source": [
    "nums1 = [1, 2, 2, 1]\n",
    "nums2 = [2, 2]\n",
    "result = intersection(nums1, nums2)\n",
    "print(result) \n"
   ]
  },
  {
   "cell_type": "markdown",
   "id": "3b40b51d",
   "metadata": {},
   "source": [
    "Example 2:"
   ]
  },
  {
   "cell_type": "code",
   "execution_count": 22,
   "id": "37529a3f",
   "metadata": {},
   "outputs": [
    {
     "name": "stdout",
     "output_type": "stream",
     "text": [
      "[9, 4]\n"
     ]
    }
   ],
   "source": [
    "nums1 = [4, 9, 5]\n",
    "nums2 = [9, 4, 9, 8, 4]\n",
    "result = intersection(nums1, nums2)\n",
    "print(result)  \n"
   ]
  },
  {
   "cell_type": "code",
   "execution_count": null,
   "id": "8a056c83",
   "metadata": {},
   "outputs": [],
   "source": []
  }
 ],
 "metadata": {
  "kernelspec": {
   "display_name": "Python 3 (ipykernel)",
   "language": "python",
   "name": "python3"
  },
  "language_info": {
   "codemirror_mode": {
    "name": "ipython",
    "version": 3
   },
   "file_extension": ".py",
   "mimetype": "text/x-python",
   "name": "python",
   "nbconvert_exporter": "python",
   "pygments_lexer": "ipython3",
   "version": "3.10.7"
  }
 },
 "nbformat": 4,
 "nbformat_minor": 5
}
