{
 "cells": [
  {
   "cell_type": "markdown",
   "id": "b877fc34",
   "metadata": {},
   "source": [
    "# PPT Assignment 8"
   ]
  },
  {
   "cell_type": "markdown",
   "id": "2f07e521",
   "metadata": {},
   "source": [
    "## <aside>\n",
    "💡 **Question 1**\n",
    "\n",
    "Given two strings s1 and s2, return *the lowest **ASCII** sum of deleted characters to make two strings equal*.\n",
    "\n",
    "**Example 1:**\n",
    "\n",
    "**Input:** s1 = \"sea\", s2 = \"eat\"\n",
    "\n",
    "**Output:** 231\n",
    "\n",
    "**Explanation:** Deleting \"s\" from \"sea\" adds the ASCII value of \"s\" (115) to the sum.\n",
    "\n",
    "Deleting \"t\" from \"eat\" adds 116 to the sum.\n",
    "\n",
    "At the end, both strings are equal, and 115 + 116 = 231 is the minimum sum possible to achieve this.\n",
    "\n",
    "</aside>"
   ]
  },
  {
   "cell_type": "raw",
   "id": "5ef14a2c",
   "metadata": {},
   "source": [
    " Here's an approach:\n",
    "    \n",
    "    1.Create a two-dimensional array, dp, with dimensions (m+1) x (n+1), where m and n are the lengths of s1 and s2, respectively. dp[i][j] will represent the lowest ASCII sum of deleted characters to make the substrings s1[i:] and s2[j:] equal.\n",
    "\n",
    "    2.Initialize the base cases: dp[m][n] = 0, dp[i][n] = sum of ASCII values of characters in s1[i:] for i from m-1 to 0, and dp[m][j] = sum of ASCII values of characters in s2[j:] for j from n-1 to 0.\n",
    "    3.Iterate over the characters in s1 and s2 in reverse order (from m-1 to 0 for s1 and from n-1 to 0 for s2) using two nested loops.   \n",
    "    4.For each pair of characters s1[i] and s2[j], if they are equal, set dp[i][j] = dp[i+1][j+1] (no characters need to be deleted).\n",
    "    5.If s1[i] and s2[j] are not equal, set dp[i][j] = min(dp[i+1][j] + ASCII value of s1[i], dp[i][j+1] + ASCII value of s2[j]).\n",
    "    6.Finally, return dp[0][0] as the lowest ASCII sum of deleted characters to make s1 and s2 equal.\n"
   ]
  },
  {
   "cell_type": "code",
   "execution_count": 7,
   "id": "c9689892",
   "metadata": {},
   "outputs": [],
   "source": [
    "def minimumDeleteSum(s1, s2):\n",
    "    m, n = len(s1), len(s2)\n",
    "    dp = [[0] * (n+1) for _ in range(m+1)]\n",
    "    \n",
    "    for i in range(m-1, -1, -1):\n",
    "        dp[i][n] = dp[i+1][n] + ord(s1[i])\n",
    "    \n",
    "    for j in range(n-1, -1, -1):\n",
    "        dp[m][j] = dp[m][j+1] + ord(s2[j])\n",
    "    \n",
    "    for i in range(m-1, -1, -1):\n",
    "        for j in range(n-1, -1, -1):\n",
    "            if s1[i] == s2[j]:\n",
    "                dp[i][j] = dp[i+1][j+1]\n",
    "            else:\n",
    "                dp[i][j] = min(dp[i+1][j] + ord(s1[i]), dp[i][j+1] + ord(s2[j]))\n",
    "    \n",
    "    return dp[0][0]\n"
   ]
  },
  {
   "cell_type": "markdown",
   "id": "3428039e",
   "metadata": {},
   "source": [
    "## <aside>\n",
    "💡 **Question 3**\n",
    "\n",
    "Given two strings word1 and word2, return *the minimum number of **steps** required to make* word1 *and* word2 *the same*.\n",
    "\n",
    "In one **step**, you can delete exactly one character in either string.\n",
    "\n",
    "**Example 1:**\n",
    "\n",
    "**Input:** word1 = \"sea\", word2 = \"eat\"\n",
    "\n",
    "**Output:** 2\n",
    "\n",
    "**Explanation:** You need one step to make \"sea\" to \"ea\" and another step to make \"eat\" to \"ea\".\n",
    "\n",
    "</aside>"
   ]
  },
  {
   "cell_type": "raw",
   "id": "b46047a9",
   "metadata": {},
   "source": [
    "Here's an approach:-\n",
    "1.Create a two-dimensional array, dp, with dimensions (m+1) x (n+1), where m and n are the lengths of word1 and word2, respectively. dp[i][j] will represent the minimum number of steps required to make the substrings word1[i:] and word2[j:] the same.\n",
    "2.Initialize the base cases: dp[m][n] = 0, dp[i][n] = m - i for i from m-1 to 0, and dp[m][j] = n - j for j from n-1 to 0.\n",
    "3.Iterate over the characters in word1 and word2 in reverse order (from m-1 to 0 for word1 and from n-1 to 0 for word2) using two nested loops.\n",
    "4.For each pair of characters word1[i] and word2[j], if they 5.are equal, set dp[i][j] = dp[i+1][j+1] (no characters need to be deleted).\n",
    "5.If word1[i] and word2[j] are not equal, set dp[i][j] = min(dp[i+1][j], dp[i][j+1]) + 1 (take the minimum of deleting word1[i] or deleting word2[j], and add 1 for the deletion).\n",
    "6.Finally, return dp[0][0] as the minimum number of steps required to make word1 and word2 the same.\n"
   ]
  },
  {
   "cell_type": "code",
   "execution_count": 9,
   "id": "1f5dd6c5",
   "metadata": {},
   "outputs": [],
   "source": [
    "def minDistance(word1, word2):\n",
    "    m, n = len(word1), len(word2)\n",
    "    dp = [[0] * (n+1) for _ in range(m+1)]\n",
    "    \n",
    "    for i in range(m-1, -1, -1):\n",
    "        dp[i][n] = m - i\n",
    "    \n",
    "    for j in range(n-1, -1, -1):\n",
    "        dp[m][j] = n - j\n",
    "    \n",
    "    for i in range(m-1, -1, -1):\n",
    "        for j in range(n-1, -1, -1):\n",
    "            if word1[i] == word2[j]:\n",
    "                dp[i][j] = dp[i+1][j+1]\n",
    "            else:\n",
    "                dp[i][j] = min(dp[i+1][j], dp[i][j+1]) + 1\n",
    "    \n",
    "    return dp[0][0]\n"
   ]
  },
  {
   "cell_type": "markdown",
   "id": "d3377e9c",
   "metadata": {},
   "source": [
    "Using the given example, minDistance(\"sea\", \"eat\") will return 2 as the output, which matches the expected result."
   ]
  },
  {
   "cell_type": "markdown",
   "id": "b18c8f17",
   "metadata": {},
   "source": [
    "## <aside>\n",
    "💡 **Question 6**\n",
    "\n",
    "Given two strings s and p, return *an array of all the start indices of* p*'s anagrams in* s. You may return the answer in **any order**.\n",
    "\n",
    "An **Anagram** is a word or phrase formed by rearranging the letters of a different word or phrase, typically using all the original letters exactly once.\n",
    "\n",
    "**Example 1:**\n",
    "\n",
    "**Input:** s = \"cbaebabacd\", p = \"abc\"\n",
    "\n",
    "**Output:** [0,6]\n",
    "\n",
    "**Explanation:**\n",
    "\n",
    "The substring with start index = 0 is \"cba\", which is an anagram of \"abc\".\n",
    "\n",
    "The substring with start index = 6 is \"bac\", which is an anagram of \"abc\".\n",
    "\n",
    "</aside>"
   ]
  },
  {
   "cell_type": "raw",
   "id": "9736f316",
   "metadata": {},
   "source": [
    "Ans:-\n",
    " Here's an approach :-\n",
    "1.Create two arrays, p_freq and s_freq, of size 26 (assuming lowercase English letters) to store the frequencies of characters in p and the current window of characters in s, respectively.\n",
    "2.Initialize the arrays p_freq and s_freq by counting the frequencies of characters in p and the first window of characters in s.\n",
    "3.Initialize an empty list, result, to store the start indices of p's anagrams in s.\n",
    "4.Iterate through s using a sliding window of size len(p). At each step, compare the frequencies of characters in the current window (s_freq) with the frequencies of characters in p_freq.\n",
    "5.If s_freq and p_freq are equal, append the starting index of the current window to result.\n",
    "6.Move the sliding window by incrementing the frequency of the character at the current window's start index and decrementing the frequency of the character at the current window's end index.\n",
    "7.Finally, return the result list containing the start indices of p's anagrams in s.\n",
    "\n",
    "\n",
    "\n"
   ]
  },
  {
   "cell_type": "code",
   "execution_count": 10,
   "id": "169b01e9",
   "metadata": {},
   "outputs": [],
   "source": [
    "def findAnagrams(s, p):\n",
    "    result = []\n",
    "    p_freq = [0] * 26\n",
    "    s_freq = [0] * 26\n",
    "    \n",
    "    # Count frequencies of characters in p\n",
    "    for char in p:\n",
    "        p_freq[ord(char) - ord('a')] += 1\n",
    "    \n",
    "    # Initialize the frequencies of the first window in s\n",
    "    for i in range(len(p)):\n",
    "        s_freq[ord(s[i]) - ord('a')] += 1\n",
    "    \n",
    "    # Slide the window and compare frequencies\n",
    "    for i in range(len(s) - len(p) + 1):\n",
    "        if s_freq == p_freq:\n",
    "            result.append(i)\n",
    "        \n",
    "        # Move the sliding window\n",
    "        s_freq[ord(s[i]) - ord('a')] -= 1\n",
    "        if i + len(p) < len(s):\n",
    "            s_freq[ord(s[i + len(p)]) - ord('a')] += 1\n",
    "    \n",
    "    return result\n"
   ]
  },
  {
   "cell_type": "code",
   "execution_count": 11,
   "id": "f7f3e7da",
   "metadata": {},
   "outputs": [
    {
     "data": {
      "text/plain": [
       "[0, 6]"
      ]
     },
     "execution_count": 11,
     "metadata": {},
     "output_type": "execute_result"
    }
   ],
   "source": [
    "findAnagrams(\"cbaebabacd\", \"abc\")"
   ]
  },
  {
   "cell_type": "code",
   "execution_count": null,
   "id": "0e19b13a",
   "metadata": {},
   "outputs": [],
   "source": []
  }
 ],
 "metadata": {
  "kernelspec": {
   "display_name": "Python 3 (ipykernel)",
   "language": "python",
   "name": "python3"
  },
  "language_info": {
   "codemirror_mode": {
    "name": "ipython",
    "version": 3
   },
   "file_extension": ".py",
   "mimetype": "text/x-python",
   "name": "python",
   "nbconvert_exporter": "python",
   "pygments_lexer": "ipython3",
   "version": "3.10.7"
  }
 },
 "nbformat": 4,
 "nbformat_minor": 5
}
