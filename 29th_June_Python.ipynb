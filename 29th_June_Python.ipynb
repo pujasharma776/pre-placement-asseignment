{
 "cells": [
  {
   "cell_type": "markdown",
   "id": "4c53503b",
   "metadata": {},
   "source": [
    "# \"29th_June_Python.ipynb\"."
   ]
  },
  {
   "cell_type": "markdown",
   "id": "7177863d",
   "metadata": {},
   "source": [
    "## 1. Write a Python program to check if a given string is an anagram."
   ]
  },
  {
   "cell_type": "markdown",
   "id": "3ed21eea",
   "metadata": {},
   "source": [
    "Ans:- Here's a Python program to check if a given string is an anagram:\n"
   ]
  },
  {
   "cell_type": "code",
   "execution_count": 1,
   "id": "de6b630c",
   "metadata": {},
   "outputs": [
    {
     "name": "stdout",
     "output_type": "stream",
     "text": [
      "The strings are anagrams.\n"
     ]
    }
   ],
   "source": [
    "def is_anagram(str1, str2):\n",
    "    # Convert both strings to lowercase and remove whitespace\n",
    "    str1 = str1.lower().replace(\" \", \"\")\n",
    "    str2 = str2.lower().replace(\" \", \"\")\n",
    "    \n",
    "    # Check if the lengths of the strings are equal\n",
    "    if len(str1) != len(str2):\n",
    "        return False\n",
    "    \n",
    "    # Sort the characters in both strings\n",
    "    sorted_str1 = sorted(str1)\n",
    "    sorted_str2 = sorted(str2)\n",
    "    \n",
    "    # Compare the sorted strings\n",
    "    if sorted_str1 == sorted_str2:\n",
    "        return True\n",
    "    else:\n",
    "        return False\n",
    "\n",
    "# Example usage\n",
    "string1 = \"listen\"\n",
    "string2 = \"silent\"\n",
    "if is_anagram(string1, string2):\n",
    "    print(\"The strings are anagrams.\")\n",
    "else:\n",
    "    print(\"The strings are not anagrams.\")\n"
   ]
  },
  {
   "cell_type": "markdown",
   "id": "d1ec4f09",
   "metadata": {},
   "source": [
    "## 2. Write a Python program to find the maximum and minimum values in a\n",
    "dictionary.\n"
   ]
  },
  {
   "cell_type": "markdown",
   "id": "8a451075",
   "metadata": {},
   "source": [
    "Ans:-Here's a Python program to find the maximum and minimum values in a dictionary:"
   ]
  },
  {
   "cell_type": "code",
   "execution_count": 2,
   "id": "d02a9c5a",
   "metadata": {},
   "outputs": [
    {
     "name": "stdout",
     "output_type": "stream",
     "text": [
      "The maximum value is 20 for key(s) ['c'].\n",
      "The minimum value is 5 for key(s) ['b'].\n"
     ]
    }
   ],
   "source": [
    "def find_max_min(dictionary):\n",
    "    if len(dictionary) == 0:\n",
    "        print(\"Dictionary is empty.\")\n",
    "        return None\n",
    "    \n",
    "    # Find the maximum value and corresponding key\n",
    "    max_value = max(dictionary.values())\n",
    "    max_key = [key for key, value in dictionary.items() if value == max_value]\n",
    "    \n",
    "    # Find the minimum value and corresponding key\n",
    "    min_value = min(dictionary.values())\n",
    "    min_key = [key for key, value in dictionary.items() if value == min_value]\n",
    "    \n",
    "    return max_key, max_value, min_key, min_value\n",
    "\n",
    "# Example usage\n",
    "my_dict = {'a': 10, 'b': 5, 'c': 20, 'd': 15}\n",
    "result = find_max_min(my_dict)\n",
    "\n",
    "if result:\n",
    "    max_key, max_value, min_key, min_value = result\n",
    "    print(f\"The maximum value is {max_value} for key(s) {max_key}.\")\n",
    "    print(f\"The minimum value is {min_value} for key(s) {min_key}.\")\n"
   ]
  },
  {
   "cell_type": "markdown",
   "id": "3d847448",
   "metadata": {},
   "source": [
    "## 3. Write a Python program to find the average of a list of numbers."
   ]
  },
  {
   "cell_type": "markdown",
   "id": "89a6b05f",
   "metadata": {},
   "source": [
    "Ans:-Here's a Python program to find the average of a list of numbers:"
   ]
  },
  {
   "cell_type": "code",
   "execution_count": 3,
   "id": "6846e4f0",
   "metadata": {},
   "outputs": [
    {
     "name": "stdout",
     "output_type": "stream",
     "text": [
      "The average of the list is 15.0.\n"
     ]
    }
   ],
   "source": [
    "def calculate_average(numbers):\n",
    "    if len(numbers) == 0:\n",
    "        print(\"List is empty.\")\n",
    "        return None\n",
    "    \n",
    "    total = sum(numbers)\n",
    "    average = total / len(numbers)\n",
    "    \n",
    "    return average\n",
    "\n",
    "# Example usage\n",
    "my_list = [5, 10, 15, 20, 25]\n",
    "result = calculate_average(my_list)\n",
    "\n",
    "if result:\n",
    "    print(f\"The average of the list is {result}.\")\n"
   ]
  },
  {
   "cell_type": "markdown",
   "id": "a15dfd91",
   "metadata": {},
   "source": [
    "The function performs the following steps:"
   ]
  },
  {
   "cell_type": "markdown",
   "id": "0cdcd78a",
   "metadata": {},
   "source": [
    "1. Checks if the list is empty. If it is, it prints a message and returns None.\n",
    "2.Uses the sum() function to calculate the total sum of all the numbers in the list and stores it in the variable total.\n",
    "3.Divides the total sum by the length of the list to calculate the average and stores it in the variable average.\n",
    "4.Returns the average value.\n"
   ]
  },
  {
   "cell_type": "markdown",
   "id": "cceca8f2",
   "metadata": {},
   "source": [
    "## 4. Write a Python program to remove all vowels from a string."
   ]
  },
  {
   "cell_type": "markdown",
   "id": "d8317cfd",
   "metadata": {},
   "source": [
    "Ans:-Here's a Python program to remove all vowels from a string:"
   ]
  },
  {
   "cell_type": "code",
   "execution_count": 4,
   "id": "cd5cc989",
   "metadata": {},
   "outputs": [
    {
     "name": "stdout",
     "output_type": "stream",
     "text": [
      "The string without vowels is: Hll, Wrld!\n"
     ]
    }
   ],
   "source": [
    "def remove_vowels(string):\n",
    "    vowels = 'aeiouAEIOU'\n",
    "    consonants = [char for char in string if char not in vowels]\n",
    "    result = ''.join(consonants)\n",
    "    return result\n",
    "\n",
    "# Example usage\n",
    "my_string = \"Hello, World!\"\n",
    "result = remove_vowels(my_string)\n",
    "print(f\"The string without vowels is: {result}\")\n"
   ]
  },
  {
   "cell_type": "markdown",
   "id": "247b24ff",
   "metadata": {},
   "source": [
    "In this program, the remove_vowels function takes a string as input and removes all the vowels from it. The function performs the following steps:"
   ]
  },
  {
   "cell_type": "raw",
   "id": "30446de6",
   "metadata": {},
   "source": [
    "1.Defines a string variable vowels that contains all the vowel characters, both lowercase and uppercase.\n",
    "2.Uses a list comprehension to iterate through each character in the string and filters out the vowels using the not in operator.\n",
    "3.Joins the resulting list of consonant characters using the join() method to form a new string.\n",
    "4.Returns the resulting string without vowels."
   ]
  },
  {
   "cell_type": "markdown",
   "id": "3af6d842",
   "metadata": {},
   "source": [
    "## 5. Write a Python function to calculate the factorial of a number using recursion."
   ]
  },
  {
   "cell_type": "markdown",
   "id": "0f9d5160",
   "metadata": {},
   "source": [
    "Ans:- Here's a Python function that calculates the factorial of a number using recursion:\n",
    "\n"
   ]
  },
  {
   "cell_type": "code",
   "execution_count": 5,
   "id": "bff42f52",
   "metadata": {},
   "outputs": [
    {
     "name": "stdout",
     "output_type": "stream",
     "text": [
      "The factorial of 5 is 120.\n"
     ]
    }
   ],
   "source": [
    "def factorial(n):\n",
    "    # Base case: factorial of 0 or 1 is 1\n",
    "    if n == 0 or n == 1:\n",
    "        return 1\n",
    "    \n",
    "    # Recursive case: factorial of n is n multiplied by factorial of (n-1)\n",
    "    return n * factorial(n - 1)\n",
    "\n",
    "# Example usage\n",
    "num = 5\n",
    "result = factorial(num)\n",
    "print(f\"The factorial of {num} is {result}.\")\n"
   ]
  },
  {
   "cell_type": "raw",
   "id": "2644b8a9",
   "metadata": {},
   "source": [
    "In this program, the remove_vowels function takes a string as input and removes all the vowels from it. The function performs the following steps:\n",
    "\n",
    "1.Defines a string variable vowels that contains all the vowel characters, both lowercase and uppercase.\n",
    "2.Uses a list comprehension to iterate through each character in the string and filters out the vowels using the not in operator.\n",
    "3.Joins the resulting list of consonant characters using the join() method to form a new string.\n",
    "4.Returns the resulting string without vowels."
   ]
  },
  {
   "cell_type": "markdown",
   "id": "c0813a64",
   "metadata": {},
   "source": [
    "## 6. Write a Python program to merge two unsorted lists into a single sorted list\n",
    "using the merge sort algorithm."
   ]
  },
  {
   "cell_type": "markdown",
   "id": "ddeda078",
   "metadata": {},
   "source": [
    "Ans:-Here's a Python program that merges two unsorted lists into a single sorted list using the merge sort algorithm:"
   ]
  },
  {
   "cell_type": "code",
   "execution_count": 7,
   "id": "6195d125",
   "metadata": {},
   "outputs": [
    {
     "name": "stdout",
     "output_type": "stream",
     "text": [
      "Merged and sorted list: [1, 2, 3, 4, 5, 6, 7, 8, 9, 10]\n"
     ]
    }
   ],
   "source": [
    "def merge_sort_merge(left, right):\n",
    "    merged = []\n",
    "    left_index = right_index = 0\n",
    "\n",
    "    # Compare elements from left and right sublists and add them to the merged list\n",
    "    while left_index < len(left) and right_index < len(right):\n",
    "        if left[left_index] <= right[right_index]:\n",
    "            merged.append(left[left_index])\n",
    "            left_index += 1\n",
    "        else:\n",
    "            merged.append(right[right_index])\n",
    "            right_index += 1\n",
    "\n",
    "    # Add any remaining elements from the left or right sublist\n",
    "    merged.extend(left[left_index:])\n",
    "    merged.extend(right[right_index:])\n",
    "\n",
    "    return merged\n",
    "\n",
    "\n",
    "def merge_sort(lst):\n",
    "    if len(lst) <= 1:\n",
    "        return lst\n",
    "\n",
    "    # Split the list into two halves\n",
    "    mid = len(lst) // 2\n",
    "    left = lst[:mid]\n",
    "    right = lst[mid:]\n",
    "\n",
    "    # Recursive calls to merge_sort for the left and right sublists\n",
    "    left = merge_sort(left)\n",
    "    right = merge_sort(right)\n",
    "\n",
    "    # Merge the sorted left and right sublists\n",
    "    merged = merge_sort_merge(left, right)\n",
    "\n",
    "    return merged\n",
    "\n",
    "# Example usage\n",
    "list1 = [7, 2, 9, 1, 5]\n",
    "list2 = [3, 6, 4, 8, 10]\n",
    "merged_list = merge_sort(list1 + list2)\n",
    "print(\"Merged and sorted list:\", merged_list)\n"
   ]
  },
  {
   "cell_type": "markdown",
   "id": "b064db44",
   "metadata": {},
   "source": [
    "The merge_sort function implements the merge sort algorithm recursively. "
   ]
  },
  {
   "cell_type": "markdown",
   "id": "411e8243",
   "metadata": {},
   "source": [
    "* The merge_sort_merge function takes two sorted sublists (left and right) as input and merges them into a single sorted list. It compares elements from both sublists and appends them to the merged list in the correct order.\n",
    "\n",
    "* The merge_sort function takes a list (lst) as input and recursively divides it into halves until the base case is reached (when the list has 0 or 1 element). It then merges the sorted left and right sublists using the merge_sort_merge function.\n",
    "\n",
    "* In the example usage, two unsorted lists (list1 and list2) are combined (list1 + list2), and the resulting list is sorted using the merge_sort function. The merged and sorted list is then printed."
   ]
  },
  {
   "cell_type": "markdown",
   "id": "2ba192b8",
   "metadata": {},
   "source": [
    "## 7. Write a Python program to find the GCD (Greatest Common Divisor) of two\n",
    "numbers."
   ]
  },
  {
   "cell_type": "markdown",
   "id": "2e447fe3",
   "metadata": {},
   "source": [
    "Ans:-Here's a Python program to find the Greatest Common Divisor (GCD) of two numbers:"
   ]
  },
  {
   "cell_type": "code",
   "execution_count": 8,
   "id": "91c265b6",
   "metadata": {},
   "outputs": [
    {
     "name": "stdout",
     "output_type": "stream",
     "text": [
      "The GCD of 24 and 36 is 12.\n"
     ]
    }
   ],
   "source": [
    "def find_gcd(num1, num2):\n",
    "    while num2:\n",
    "        num1, num2 = num2, num1 % num2\n",
    "    return num1\n",
    "\n",
    "# Example usage\n",
    "num1 = 24\n",
    "num2 = 36\n",
    "gcd = find_gcd(num1, num2)\n",
    "print(f\"The GCD of {num1} and {num2} is {gcd}.\")\n"
   ]
  },
  {
   "cell_type": "markdown",
   "id": "dfac2f9a",
   "metadata": {},
   "source": [
    "In this program, the find_gcd function takes two numbers (num1 and num2) as input and calculates their Greatest Common Divisor (GCD) using the Euclidean algorithm. The function performs the following steps:"
   ]
  },
  {
   "cell_type": "raw",
   "id": "dd10a58b",
   "metadata": {},
   "source": [
    "1.In a while loop, it repeatedly updates num1 to num2 and num2 to the remainder of num1 divided by num2.\n",
    "2.The loop continues until num2 becomes zero, indicating that num1 is the GCD.\n",
    "3.Finally, the function returns num1, which is the GCD of the two numbers."
   ]
  },
  {
   "cell_type": "markdown",
   "id": "08aae106",
   "metadata": {},
   "source": [
    "## 8. Write a Python program to find the second-largest element in a list."
   ]
  },
  {
   "cell_type": "markdown",
   "id": "b1bf6a1c",
   "metadata": {},
   "source": [
    "Ans:-Here's a Python program to find the second-largest element in a list:"
   ]
  },
  {
   "cell_type": "code",
   "execution_count": 9,
   "id": "6ba654a4",
   "metadata": {},
   "outputs": [
    {
     "name": "stdout",
     "output_type": "stream",
     "text": [
      "The second-largest element in the list is: 8\n"
     ]
    }
   ],
   "source": [
    "def find_second_largest(lst):\n",
    "    if len(lst) < 2:\n",
    "        print(\"List has less than two elements.\")\n",
    "        return None\n",
    "\n",
    "    largest = second_largest = float('-inf')\n",
    "\n",
    "    for num in lst:\n",
    "        if num > largest:\n",
    "            second_largest = largest\n",
    "            largest = num\n",
    "        elif num > second_largest and num < largest:\n",
    "            second_largest = num\n",
    "\n",
    "    return second_largest\n",
    "\n",
    "# Example usage\n",
    "my_list = [5, 10, 2, 8, 7]\n",
    "result = find_second_largest(my_list)\n",
    "\n",
    "if result is not None:\n",
    "    print(f\"The second-largest element in the list is: {result}\")\n"
   ]
  },
  {
   "cell_type": "raw",
   "id": "dd25f103",
   "metadata": {},
   "source": [
    "1.Checks if the list has less than two elements. If it does, it prints a message and returns None.\n",
    "2.Initializes largest and second_largest variables to negative infinity (float('-inf')) to handle cases where the largest or second-largest values are negative.\n",
    "3.Iterates through each number in the list.\n",
    "4.Updates largest and second_largest accordingly:\n",
    "* If the current number is greater than largest, it becomes the new largest, and the previous largest becomes the new second_largest.\n",
    "* If the current number is greater than second_largest but less than largest, it becomes the new second_largest.\n",
    "5.Returns the second_largest value."
   ]
  },
  {
   "cell_type": "markdown",
   "id": "bdb60db7",
   "metadata": {},
   "source": [
    "## 9. Write a Python program to find the longest common subsequence between two\n",
    "strings using dynamic programming."
   ]
  },
  {
   "cell_type": "markdown",
   "id": "4fe94bfb",
   "metadata": {},
   "source": [
    "Ans:- Here's a Python program that uses dynamic programming to find the longest common subsequence between two string\n"
   ]
  },
  {
   "cell_type": "code",
   "execution_count": 10,
   "id": "981eff73",
   "metadata": {},
   "outputs": [
    {
     "name": "stdout",
     "output_type": "stream",
     "text": [
      "Longest Common Subsequence: ADH\n"
     ]
    }
   ],
   "source": [
    "def longest_common_subsequence(str1, str2):\n",
    "    m = len(str1)\n",
    "    n = len(str2)\n",
    "\n",
    "    # Create a matrix to store the lengths of longest common subsequences\n",
    "    # The matrix has dimensions (m+1) x (n+1) to account for empty strings\n",
    "    dp = [[0] * (n+1) for _ in range(m+1)]\n",
    "\n",
    "    # Fill the matrix using dynamic programming\n",
    "    for i in range(1, m+1):\n",
    "        for j in range(1, n+1):\n",
    "            if str1[i-1] == str2[j-1]:\n",
    "                dp[i][j] = dp[i-1][j-1] + 1\n",
    "            else:\n",
    "                dp[i][j] = max(dp[i-1][j], dp[i][j-1])\n",
    "\n",
    "    # Traverse the matrix to reconstruct the longest common subsequence\n",
    "    lcs = \"\"\n",
    "    i = m\n",
    "    j = n\n",
    "    while i > 0 and j > 0:\n",
    "        if str1[i-1] == str2[j-1]:\n",
    "            lcs = str1[i-1] + lcs\n",
    "            i -= 1\n",
    "            j -= 1\n",
    "        elif dp[i-1][j] > dp[i][j-1]:\n",
    "            i -= 1\n",
    "        else:\n",
    "            j -= 1\n",
    "\n",
    "    return lcs\n",
    "\n",
    "# Example usage\n",
    "str1 = \"ABCDGH\"\n",
    "str2 = \"AEDFHR\"\n",
    "lcs = longest_common_subsequence(str1, str2)\n",
    "print(\"Longest Common Subsequence:\", lcs)\n"
   ]
  },
  {
   "cell_type": "markdown",
   "id": "7cde467b",
   "metadata": {},
   "source": [
    "In this program, the longest_common_subsequence function takes two strings (str1 and str2) as input and uses dynamic programming to find the longest common subsequence between the two strings. The function performs the following steps:"
   ]
  },
  {
   "cell_type": "raw",
   "id": "e161e0a0",
   "metadata": {},
   "source": [
    "1.Create a matrix (dp) of dimensions (m+1) x (n+1), where m and n are the lengths of str1 and str2 respectively. This matrix will store the lengths of the longest common subsequences.\n",
    "\n",
    "2.Iterate through the matrix using nested loops. For each position (i, j) in the matrix, compare the characters of str1 and str2 at positions (i-1) and (j-1). If the characters are the same, increment the value in the matrix by 1. Otherwise, take the maximum of the values above and to the left of the current position.\n",
    "\n",
    "3.After filling the matrix, traverse it from the bottom-right corner to the top-left corner to reconstruct the longest common subsequence. Start from the last position (m, n) and check if the characters match. If they do, append the character to the lcs string and move diagonally up-left. If they don't match, move either up or left depending on the larger adjacent value in the matrix.\n",
    "\n",
    "4.Finally, return the lcs, which represents the longest common subsequence of str1 and str2."
   ]
  },
  {
   "cell_type": "code",
   "execution_count": null,
   "id": "440ba296",
   "metadata": {},
   "outputs": [],
   "source": []
  }
 ],
 "metadata": {
  "kernelspec": {
   "display_name": "Python 3 (ipykernel)",
   "language": "python",
   "name": "python3"
  },
  "language_info": {
   "codemirror_mode": {
    "name": "ipython",
    "version": 3
   },
   "file_extension": ".py",
   "mimetype": "text/x-python",
   "name": "python",
   "nbconvert_exporter": "python",
   "pygments_lexer": "ipython3",
   "version": "3.10.7"
  }
 },
 "nbformat": 4,
 "nbformat_minor": 5
}
