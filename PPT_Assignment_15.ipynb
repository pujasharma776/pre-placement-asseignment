{
 "cells": [
  {
   "cell_type": "markdown",
   "id": "c403fadb",
   "metadata": {},
   "source": [
    "# PPT_Assignment_15"
   ]
  },
  {
   "cell_type": "markdown",
   "id": "41f89872",
   "metadata": {},
   "source": [
    "## <aside>\n",
    "💡 **Question 1**\n",
    "\n",
    "Given an array **arr[ ]** of size **N** having elements, the task is to find the next greater element for each element of the array in order of their appearance in the array.Next greater element of an element in the array is the nearest element on the right which is greater than the current element.If there does not exist next greater of current element, then next greater element for current element is -1. For example, next greater of the last element is always -1.\n",
    "\n",
    "</aside>"
   ]
  },
  {
   "cell_type": "markdown",
   "id": "8ffec062",
   "metadata": {},
   "source": [
    "Example 1:"
   ]
  },
  {
   "cell_type": "raw",
   "id": "84b91476",
   "metadata": {},
   "source": [
    "Input:\n",
    "N = 4, arr[] = [1 3 2 4]\n",
    "Output:\n",
    "3 4 4 -1\n",
    "Explanation:\n",
    "In the array, the next larger element\n",
    "to 1 is 3 , 3 is 4 , 2 is 4 and for 4 ?\n",
    "since it doesn't exist, it is -1.\n"
   ]
  },
  {
   "cell_type": "markdown",
   "id": "f8a1fe84",
   "metadata": {},
   "source": [
    "Example 2:"
   ]
  },
  {
   "cell_type": "raw",
   "id": "0398c83e",
   "metadata": {},
   "source": [
    "Input:\n",
    "N = 5, arr[] [6 8 0 1 3]\n",
    "Output:\n",
    "8 -1 1 3 -1\n",
    "Explanation:\n",
    "In the array, the next larger element to\n",
    "6 is 8, for 8 there is no larger elements\n",
    "hence it is -1, for 0 it is 1 , for 1 it\n",
    "is 3 and then for 3 there is no larger\n",
    "element on right and hence -1."
   ]
  },
  {
   "cell_type": "code",
   "execution_count": 3,
   "id": "9405155b",
   "metadata": {},
   "outputs": [
    {
     "name": "stdout",
     "output_type": "stream",
     "text": [
      "[3, 4, 4, -1]\n"
     ]
    }
   ],
   "source": [
    "def findNextGreaterElements(arr):\n",
    "    stack = []\n",
    "    result = []\n",
    "    n = len(arr)\n",
    "    \n",
    "    # Iterate from right to left\n",
    "    for i in range(n-1, -1, -1):\n",
    "        # Pop elements from stack while they are smaller than or equal to arr[i]\n",
    "        while stack and stack[-1] <= arr[i]:\n",
    "            stack.pop()\n",
    "        \n",
    "        # If stack is empty, set next greater element as -1\n",
    "        # Otherwise, stack[-1] is the next greater element\n",
    "        result.append(stack[-1] if stack else -1)\n",
    "        \n",
    "        # Push arr[i] onto the stack\n",
    "        stack.append(arr[i])\n",
    "    \n",
    "    # Reverse the result array to get elements in the original order\n",
    "    result.reverse()\n",
    "    \n",
    "    return result\n",
    "\n",
    "# Example usage\n",
    "arr = [1, 3, 2, 4]\n",
    "nextGreater = findNextGreaterElements(arr)\n",
    "print(nextGreater)  \n"
   ]
  },
  {
   "cell_type": "code",
   "execution_count": 4,
   "id": "97c9f26d",
   "metadata": {},
   "outputs": [
    {
     "name": "stdout",
     "output_type": "stream",
     "text": [
      "[8, -1, 1, 3, -1]\n"
     ]
    }
   ],
   "source": [
    "def findNextGreaterElements(arr):\n",
    "    stack = []\n",
    "    result = []\n",
    "    n = len(arr)\n",
    "    \n",
    "    # Iterate from right to left\n",
    "    for i in range(n-1, -1, -1):\n",
    "        # Pop elements from stack while they are smaller than or equal to arr[i]\n",
    "        while stack and stack[-1] <= arr[i]:\n",
    "            stack.pop()\n",
    "        \n",
    "        # If stack is empty, set next greater element as -1\n",
    "        # Otherwise, stack[-1] is the next greater element\n",
    "        result.append(stack[-1] if stack else -1)\n",
    "        \n",
    "        # Push arr[i] onto the stack\n",
    "        stack.append(arr[i])\n",
    "    \n",
    "    # Reverse the result array to get elements in the original order\n",
    "    result.reverse()\n",
    "    \n",
    "    return result\n",
    "\n",
    "# Example usage\n",
    "arr = [6, 8, 0, 1, 3]\n",
    "nextGreater = findNextGreaterElements(arr)\n",
    "print(nextGreater)  \n"
   ]
  },
  {
   "cell_type": "markdown",
   "id": "32fd4605",
   "metadata": {},
   "source": [
    "## <aside>\n",
    "💡 **Question 2**\n",
    "\n",
    "Given an array **a** of integers of length **n**, find the nearest smaller number for every element such that the smaller element is on left side.If no small element present on the left print -1.\n",
    "\n",
    "**Example 1:**\n",
    "\n",
    "</aside>"
   ]
  },
  {
   "cell_type": "raw",
   "id": "49c57f64",
   "metadata": {},
   "source": [
    "Input: n = 3\n",
    "a = {1, 6, 2}\n",
    "Output: -1 1 1\n",
    "Explaination: There is no number at the\n",
    "left of 1. Smaller number than 6 and 2 is 1."
   ]
  },
  {
   "cell_type": "markdown",
   "id": "1e8894ca",
   "metadata": {},
   "source": [
    "Example 2:"
   ]
  },
  {
   "cell_type": "raw",
   "id": "9e13fac0",
   "metadata": {},
   "source": [
    "Input: n = 6\n",
    "a = {1, 5, 0, 3, 4, 5}\n",
    "Output: -1 1 -1 0 3 4\n",
    "Explaination: Upto 3 it is easy to see\n",
    "the smaller numbers. But for 4 the smaller\n",
    "numbers are 1, 0 and 3. But among them 3\n",
    "is closest. Similary for 5 it is 4."
   ]
  },
  {
   "cell_type": "code",
   "execution_count": 10,
   "id": "ef45c9e3",
   "metadata": {},
   "outputs": [
    {
     "name": "stdout",
     "output_type": "stream",
     "text": [
      "[-1, 1, 1]\n"
     ]
    }
   ],
   "source": [
    "def findNearestSmallerElements(arr):\n",
    "    stack = []\n",
    "    result = []\n",
    "    \n",
    "    \n",
    "    for i in range(len(arr)):\n",
    "        \n",
    "        while stack and stack[-1] >= arr[i]:\n",
    "            stack.pop()\n",
    "        \n",
    "        \n",
    "        result.append(stack[-1] if stack else -1)\n",
    "        \n",
    "        \n",
    "        stack.append(arr[i])\n",
    "    \n",
    "    return result\n",
    "\n",
    "# Example usage\n",
    "arr = [1, 6, 2]\n",
    "nearestSmaller = findNearestSmallerElements(arr)\n",
    "print(nearestSmaller)  \n"
   ]
  },
  {
   "cell_type": "code",
   "execution_count": 2,
   "id": "501592a3",
   "metadata": {},
   "outputs": [
    {
     "name": "stdout",
     "output_type": "stream",
     "text": [
      "[-1, 1, -1, 0, 3, 4]\n"
     ]
    }
   ],
   "source": [
    "def find_nearest_smaller(n, a):\n",
    "    stack = []\n",
    "    nearestSmaller = [-1] * n\n",
    "\n",
    "    for i in range(n):\n",
    "        num = a[i]\n",
    "        while stack and stack[-1] >= num:\n",
    "            stack.pop()\n",
    "\n",
    "        if stack:\n",
    "            nearestSmaller[i] = stack[-1]\n",
    "\n",
    "        stack.append(num)\n",
    "\n",
    "    return nearestSmaller\n",
    "\n",
    "\n",
    "n = 6\n",
    "a = [1, 5, 0, 3, 4, 5]\n",
    "result = find_nearest_smaller(n, a)\n",
    "print(result) \n"
   ]
  },
  {
   "cell_type": "markdown",
   "id": "9790fbe4",
   "metadata": {},
   "source": [
    "## <aside>\n",
    "💡 **Question 3**\n",
    "\n",
    "Implement a Stack using two queues **q1** and **q2**.\n",
    "\n",
    "**Example 1:**\n",
    "\n",
    "</aside>"
   ]
  },
  {
   "cell_type": "raw",
   "id": "f75b11c7",
   "metadata": {},
   "source": [
    "Input:\n",
    "push(2)\n",
    "push(3)\n",
    "pop()\n",
    "push(4)\n",
    "pop()\n",
    "Output:3 4\n",
    "Explanation:\n",
    "push(2) the stack will be {2}\n",
    "push(3) the stack will be {2 3}\n",
    "pop()   poped element will be 3 the\n",
    "        stack will be {2}\n",
    "push(4) the stack will be {2 4}\n",
    "pop()   poped element will be 4\n"
   ]
  },
  {
   "cell_type": "markdown",
   "id": "416fefd2",
   "metadata": {},
   "source": [
    "Example 2:"
   ]
  },
  {
   "cell_type": "raw",
   "id": "b980102b",
   "metadata": {},
   "source": [
    "Input:\n",
    "push(2)\n",
    "pop()\n",
    "pop()\n",
    "push(3)\n",
    "Output:2 -1"
   ]
  },
  {
   "cell_type": "code",
   "execution_count": 8,
   "id": "bb22609d",
   "metadata": {},
   "outputs": [
    {
     "name": "stdout",
     "output_type": "stream",
     "text": [
      "3\n",
      "4\n"
     ]
    }
   ],
   "source": [
    "from queue import Queue\n",
    "\n",
    "class Stack:\n",
    "    def __init__(self):\n",
    "        self.q1 = Queue()\n",
    "        self.q2 = Queue()\n",
    "\n",
    "    def push(self, val):\n",
    "        self.q1.put(val)\n",
    "\n",
    "    def pop(self):\n",
    "        if self.empty():\n",
    "            return None\n",
    "\n",
    "        # Move all elements from q1 to q2 except the last one\n",
    "        while self.q1.qsize() > 1:\n",
    "            self.q2.put(self.q1.get())\n",
    "\n",
    "        # Remove and return the last element from q1\n",
    "        popped = self.q1.get()\n",
    "\n",
    "        # Swap the names of q1 and q2\n",
    "        self.q1, self.q2 = self.q2, self.q1\n",
    "\n",
    "        return popped\n",
    "\n",
    "    def top(self):\n",
    "        if self.empty():\n",
    "            return None\n",
    "\n",
    "        # Move all elements from q1 to q2 except the last one\n",
    "        while self.q1.qsize() > 1:\n",
    "            self.q2.put(self.q1.get())\n",
    "\n",
    "        # Get the last element from q1\n",
    "        top_element = self.q1.queue[0]\n",
    "\n",
    "        # Enqueue the last element back into q1\n",
    "        self.q2.put(self.q1.get())\n",
    "\n",
    "        # Swap the names of q1 and q2\n",
    "        self.q1, self.q2 = self.q2, self.q1\n",
    "\n",
    "        return top_element\n",
    "\n",
    "    def empty(self):\n",
    "        return self.q1.empty() and self.q2.empty()\n",
    "\n",
    "# Example usage\n",
    "stack = Stack()\n",
    "stack.push(2)\n",
    "stack.push(3)\n",
    "print(stack.pop()) \n",
    "stack.push(4)\n",
    "print(stack.pop())  \n"
   ]
  },
  {
   "cell_type": "code",
   "execution_count": 9,
   "id": "ca434e29",
   "metadata": {},
   "outputs": [
    {
     "name": "stdout",
     "output_type": "stream",
     "text": [
      "2\n",
      "-1\n",
      "3\n"
     ]
    }
   ],
   "source": [
    "from queue import Queue\n",
    "\n",
    "class Stack:\n",
    "    def __init__(self):\n",
    "        self.q1 = Queue()\n",
    "\n",
    "    def push(self, val):\n",
    "        # Get the current size of q1\n",
    "        size = self.q1.qsize()\n",
    "\n",
    "        # Enqueue the new element into q1\n",
    "        self.q1.put(val)\n",
    "\n",
    "        # Rotate the elements in q1 to bring the newly added element to the front\n",
    "        for _ in range(size):\n",
    "            self.q1.put(self.q1.get())\n",
    "\n",
    "    def pop(self):\n",
    "        if self.empty():\n",
    "            return -1\n",
    "\n",
    "        # Remove and return the front element from q1\n",
    "        return self.q1.get()\n",
    "\n",
    "    def top(self):\n",
    "        if self.empty():\n",
    "            return -1\n",
    "\n",
    "        # Get the front element from q1 without removing it\n",
    "        return self.q1.queue[0]\n",
    "\n",
    "    def empty(self):\n",
    "        return self.q1.empty()\n",
    "\n",
    "# Example usage\n",
    "stack = Stack()\n",
    "stack.push(2)\n",
    "print(stack.pop())  \n",
    "print(stack.pop()) \n",
    "stack.push(3)\n",
    "print(stack.top())  \n"
   ]
  },
  {
   "cell_type": "markdown",
   "id": "0f7fd182",
   "metadata": {},
   "source": [
    "## <aside>\n",
    "💡 **Question 4**\n",
    "\n",
    "You are given a stack **St**. You have to reverse the stack using recursion.\n",
    "\n",
    "**Example 1:**\n",
    "\n",
    "</aside>"
   ]
  },
  {
   "cell_type": "raw",
   "id": "e5f9c61e",
   "metadata": {},
   "source": [
    "Input:St = {3,2,1,7,6}\n",
    "Output:{6,7,1,2,3}"
   ]
  },
  {
   "cell_type": "markdown",
   "id": "5f9f41b1",
   "metadata": {},
   "source": [
    "Example 2:"
   ]
  },
  {
   "cell_type": "raw",
   "id": "24d43fb9",
   "metadata": {},
   "source": [
    "Input:St = {4,3,9,6}\n",
    "Output:{6,9,3,4}"
   ]
  },
  {
   "cell_type": "code",
   "execution_count": 3,
   "id": "582cf1bb",
   "metadata": {},
   "outputs": [
    {
     "name": "stdout",
     "output_type": "stream",
     "text": [
      "[6, 7, 1, 2, 3]\n"
     ]
    }
   ],
   "source": [
    "def reverseStack(stack):\n",
    "    if len(stack) <= 1:\n",
    "        return\n",
    "\n",
    "    topElement = stack.pop()\n",
    "    reverseStack(stack)\n",
    "    insertAtBottom(stack, topElement)\n",
    "\n",
    "def insertAtBottom(stack, element):\n",
    "    if len(stack) == 0:\n",
    "        stack.append(element)\n",
    "        return\n",
    "\n",
    "    temp = stack.pop()\n",
    "    insertAtBottom(stack, element)\n",
    "    stack.append(temp)\n",
    "\n",
    "\n",
    "St = [3, 2, 1, 7, 6]\n",
    "reverseStack(St)\n",
    "print(St)  \n"
   ]
  },
  {
   "cell_type": "code",
   "execution_count": 4,
   "id": "29beed95",
   "metadata": {},
   "outputs": [
    {
     "name": "stdout",
     "output_type": "stream",
     "text": [
      "[6, 9, 3, 4]\n"
     ]
    }
   ],
   "source": [
    "def reverseStack(stack):\n",
    "    if len(stack) <= 1:\n",
    "        return\n",
    "\n",
    "    topElement = stack.pop()\n",
    "    reverseStack(stack)\n",
    "    insertAtBottom(stack, topElement)\n",
    "\n",
    "def insertAtBottom(stack, element):\n",
    "    if len(stack) == 0:\n",
    "        stack.append(element)\n",
    "        return\n",
    "\n",
    "    temp = stack.pop()\n",
    "    insertAtBottom(stack, element)\n",
    "    stack.append(temp)\n",
    "\n",
    "# example usage\n",
    "St = [4, 3, 9, 6]\n",
    "reverseStack(St)\n",
    "print(St)  \n"
   ]
  },
  {
   "cell_type": "markdown",
   "id": "7919a44c",
   "metadata": {},
   "source": [
    "## <aside>\n",
    "💡 **Question 5**\n",
    "\n",
    "You are given a string **S**, the task is to reverse the string using stack.\n",
    "\n",
    "**Example 1:**\n",
    "\n",
    "</aside>"
   ]
  },
  {
   "cell_type": "raw",
   "id": "6b287645",
   "metadata": {},
   "source": [
    "Input: S=\"GeeksforGeeks\"\n",
    "Output: skeeGrofskeeG"
   ]
  },
  {
   "cell_type": "raw",
   "id": "960d6285",
   "metadata": {},
   "source": [
    "Ans:- the following algorithm:\n",
    "\n",
    "Create an empty stack.\n",
    "\n",
    "Iterate through each character in the input string \"S\" from left to right.\n",
    "\n",
    "Push each character onto the stack.\n",
    "\n",
    "Create an empty result string.\n",
    "\n",
    "Pop each character from the stack and append it to the result string.\n",
    "\n",
    "The result string will be the reversed string.\n"
   ]
  },
  {
   "cell_type": "code",
   "execution_count": 5,
   "id": "31afd626",
   "metadata": {},
   "outputs": [
    {
     "name": "stdout",
     "output_type": "stream",
     "text": [
      "skeeGrofskeeG\n"
     ]
    }
   ],
   "source": [
    "def reverseString(S):\n",
    "    stack = []\n",
    "    for char in S:\n",
    "        stack.append(char)\n",
    "\n",
    "    reversedString = \"\"\n",
    "    while stack:\n",
    "        reversedString += stack.pop()\n",
    "\n",
    "    return reversedString\n",
    "\n",
    "# Test the function\n",
    "S = \"GeeksforGeeks\"\n",
    "reversedS = reverseString(S)\n",
    "print(reversedS)  \n"
   ]
  },
  {
   "cell_type": "markdown",
   "id": "1c23386d",
   "metadata": {},
   "source": [
    "## <aside>\n",
    "💡 **Question 6**\n",
    "\n",
    "Given string **S** representing a postfix expression, the task is to evaluate the expression and find the final value. Operators will only include the basic arithmetic operators like ***, /, + and -**.\n",
    "\n",
    "**Example 1:**\n",
    "\n",
    "```\n",
    "Input: S = \"231*+9-\"\n",
    "Output: -4\n",
    "Explanation:\n",
    "After solving the given expression,\n",
    "we have -4 as result.\n",
    "\n",
    "```\n",
    "\n",
    "**Example 2:**\n",
    "\n",
    "</aside>"
   ]
  },
  {
   "cell_type": "raw",
   "id": "aa97cc21",
   "metadata": {},
   "source": [
    "Input: S = \"123+*8-\"\n",
    "Output: -3\n",
    "Explanation:\n",
    "After solving the given postfix\n",
    "expression, we have -3 as result."
   ]
  },
  {
   "cell_type": "raw",
   "id": "f012c2f1",
   "metadata": {},
   "source": [
    "1.Create an empty stack.\n",
    "\n",
    "2.Iterate through each character in the input string \"S\" from left to right.\n",
    "\n",
    "3.If the current character is an operand (a digit), convert it to an integer and push it onto the stack.\n",
    "\n",
    "4.If the current character is an operator, pop the top two elements from the stack and perform the corresponding operation.\n",
    "\n",
    "5.Push the result of the operation back onto the stack.\n",
    "\n",
    "6.After iterating through all the characters in the string, the stack will contain the final result.\n",
    "\n",
    "7.Pop the final result from the stack and return it."
   ]
  },
  {
   "cell_type": "code",
   "execution_count": 6,
   "id": "08c92bd6",
   "metadata": {},
   "outputs": [
    {
     "name": "stdout",
     "output_type": "stream",
     "text": [
      "-4\n"
     ]
    }
   ],
   "source": [
    "def evaluatePostfix(S):\n",
    "    stack = []\n",
    "\n",
    "    for char in S:\n",
    "        if char.isdigit():\n",
    "            stack.append(int(char))\n",
    "        else:\n",
    "            operand2 = stack.pop()\n",
    "            operand1 = stack.pop()\n",
    "\n",
    "            if char == '*':\n",
    "                result = operand1 * operand2\n",
    "            elif char == '/':\n",
    "                result = operand1 / operand2\n",
    "            elif char == '+':\n",
    "                result = operand1 + operand2\n",
    "            elif char == '-':\n",
    "                result = operand1 - operand2\n",
    "\n",
    "            stack.append(result)\n",
    "\n",
    "    return stack.pop()\n",
    "\n",
    "# Test the function\n",
    "S = \"231*+9-\"\n",
    "result = evaluatePostfix(S)\n",
    "print(result)  \n"
   ]
  },
  {
   "cell_type": "code",
   "execution_count": 7,
   "id": "c93251bc",
   "metadata": {},
   "outputs": [
    {
     "name": "stdout",
     "output_type": "stream",
     "text": [
      "-3\n"
     ]
    }
   ],
   "source": [
    "def evaluatePostfix(S):\n",
    "    stack = []\n",
    "\n",
    "    for char in S:\n",
    "        if char.isdigit():\n",
    "            stack.append(int(char))\n",
    "        else:\n",
    "            operand2 = stack.pop()\n",
    "            operand1 = stack.pop()\n",
    "\n",
    "            if char == '*':\n",
    "                result = operand1 * operand2\n",
    "            elif char == '/':\n",
    "                result = operand1 / operand2\n",
    "            elif char == '+':\n",
    "                result = operand1 + operand2\n",
    "            elif char == '-':\n",
    "                result = operand1 - operand2\n",
    "\n",
    "            stack.append(result)\n",
    "\n",
    "    return stack.pop()\n",
    "\n",
    "# Test the function\n",
    "S = \"123+*8-\"\n",
    "result = evaluatePostfix(S)\n",
    "print(result)  \n"
   ]
  },
  {
   "cell_type": "code",
   "execution_count": null,
   "id": "8c982d78",
   "metadata": {},
   "outputs": [],
   "source": []
  }
 ],
 "metadata": {
  "kernelspec": {
   "display_name": "Python 3 (ipykernel)",
   "language": "python",
   "name": "python3"
  },
  "language_info": {
   "codemirror_mode": {
    "name": "ipython",
    "version": 3
   },
   "file_extension": ".py",
   "mimetype": "text/x-python",
   "name": "python",
   "nbconvert_exporter": "python",
   "pygments_lexer": "ipython3",
   "version": "3.10.7"
  }
 },
 "nbformat": 4,
 "nbformat_minor": 5
}
