{
 "cells": [
  {
   "cell_type": "markdown",
   "id": "531f5c11",
   "metadata": {},
   "source": [
    "# PPT_JAVA_Assignment_1"
   ]
  },
  {
   "cell_type": "markdown",
   "id": "71d07c05",
   "metadata": {},
   "source": [
    "## Q1.What is the difference between Compiler and Interpreter"
   ]
  },
  {
   "cell_type": "markdown",
   "id": "194e0871",
   "metadata": {},
   "source": [
    "Ans:-To convert source code into machine code, we use either a compiler or an interpreter.\n",
    "\n",
    "Both compilers and interpreters are used to convert a program written in a high-level language into machine code understood by computers. However, there are differences between how an interpreter and a compiler works.\n",
    "\n"
   ]
  },
  {
   "cell_type": "markdown",
   "id": "7c03e72f",
   "metadata": {},
   "source": [
    "## 1.Compiler "
   ]
  },
  {
   "cell_type": "markdown",
   "id": "460d24a6",
   "metadata": {},
   "source": [
    "* Scans the entire program and translates it as a whole into machine code.\n",
    "* Compilers usually take a large amount of time to analyze the source code. However, the overall execution time is comparatively faster than interpreters.\n",
    "* Generates Object Code which further requires linking, hence requires more memory.\n",
    "* Programming languages like C, C++, Java use compilers."
   ]
  },
  {
   "cell_type": "markdown",
   "id": "d1cc8797",
   "metadata": {},
   "source": [
    "## 2.Interpreter"
   ]
  },
  {
   "cell_type": "markdown",
   "id": "b522bc43",
   "metadata": {},
   "source": [
    "* Translates program one statement at a time.\n",
    "* Interpreters usually take less amount of time to analyze the source code. However, the overall execution time is comparatively slower than compilers.\n",
    "* No Object Code is generated, hence are memory efficient.\n",
    "* Programming languages like JavaScript, Python, Ruby use interpreters."
   ]
  },
  {
   "cell_type": "markdown",
   "id": "60cb3762",
   "metadata": {},
   "source": [
    "## Q2.What is the difference between JDK, JRE, and JVM?"
   ]
  },
  {
   "cell_type": "markdown",
   "id": "e5dd0600",
   "metadata": {},
   "source": [
    "Ans:-JDK, JRE, and JVM are the differences between them:"
   ]
  },
  {
   "cell_type": "markdown",
   "id": "47b734c2",
   "metadata": {},
   "source": [
    "## 1.JDK (Java Development Kit):"
   ]
  },
  {
   "cell_type": "markdown",
   "id": "9b654196",
   "metadata": {},
   "source": [
    "* The JDK is a software development kit that provides tools, libraries, and utilities necessary for Java development.\n",
    "* It includes the Java compiler (javac), which translates Java source code into bytecode, and other development tools such as the debugger, profiler, and documentation generator.\n",
    "* The JDK is required for developing Java applications, as it provides the necessary tools for writing, compiling, and packaging Java code.\n"
   ]
  },
  {
   "cell_type": "markdown",
   "id": "467a713e",
   "metadata": {},
   "source": [
    "## 2.JRE (Java Runtime Environment):"
   ]
  },
  {
   "cell_type": "markdown",
   "id": "910724dd",
   "metadata": {},
   "source": [
    "* The JRE is a software package that provides the runtime environment for executing Java applications.\n",
    "* It includes the Java Virtual Machine (JVM), the Java class libraries, and other supporting files.\n",
    "* The JRE is required for running Java applications on end-user machines. It does not include the development tools provided by the JDK."
   ]
  },
  {
   "cell_type": "markdown",
   "id": "0018c6f4",
   "metadata": {},
   "source": [
    "## 3.JVM (Java Virtual Machine):"
   ]
  },
  {
   "cell_type": "markdown",
   "id": "fdf46a3c",
   "metadata": {},
   "source": [
    "* The JVM is an integral part of both the JDK and JRE. It is a virtual machine that executes Java bytecode.\n",
    "* It provides a runtime environment where Java applications can run regardless of the underlying operating system and hardware architecture.\n",
    "* The JVM is responsible for translating bytecode into machine code, managing memory, handling exceptions, and providing other runtime services.\n",
    "* It provides a level of abstraction that allows Java programs to be platform-independent."
   ]
  },
  {
   "cell_type": "markdown",
   "id": "6b7a79bc",
   "metadata": {},
   "source": [
    "## Q3.How many types of memory areas are allocated by JVM?"
   ]
  },
  {
   "cell_type": "markdown",
   "id": "6fc3df21",
   "metadata": {},
   "source": [
    "Ans:-Types of Memory Areas Allocated By the JVM:\n",
    "* Class(Method) Area.\n",
    "* Heap.\n",
    "* Program Counter Register.\n",
    "* Native Method Stack.\n"
   ]
  },
  {
   "cell_type": "markdown",
   "id": "32223302",
   "metadata": {},
   "source": [
    "## Q4.What is JIT compiler?"
   ]
  },
  {
   "cell_type": "markdown",
   "id": "13900680",
   "metadata": {},
   "source": [
    "Ans:-The Just-In-Time (JIT) compiler is a component of the runtime environment that improves the performance of Java™ applications by compiling bytecodes to native machine code at run time."
   ]
  },
  {
   "cell_type": "markdown",
   "id": "b0caa334",
   "metadata": {},
   "source": [
    "## Q5.What are the various access specifiers in Java?"
   ]
  },
  {
   "cell_type": "markdown",
   "id": "d2e37221",
   "metadata": {},
   "source": [
    "Ans:-The four access modifiers in Java are public, protected, default, and private."
   ]
  },
  {
   "cell_type": "markdown",
   "id": "be73fa6e",
   "metadata": {},
   "source": [
    "## Q6.What is a compiler in Java?"
   ]
  },
  {
   "cell_type": "markdown",
   "id": "7944df4f",
   "metadata": {},
   "source": [
    "Ans:-A Java compiler is a program that takes the text file work of a developer and compiles it into a platform-independent Java file. Java compilers include the Java Programming Language Compiler (javac), the GNU Compiler for Java (GCJ), the Eclipse Compiler for Java (ECJ) and Jikes."
   ]
  },
  {
   "cell_type": "markdown",
   "id": "ac882675",
   "metadata": {},
   "source": [
    "## Q7.Explain the types of variables in Java?"
   ]
  },
  {
   "cell_type": "markdown",
   "id": "82d7e83e",
   "metadata": {},
   "source": [
    "Ans:-Java Variables:-\n",
    "* String - stores text, such as \"Hello\". ...\n",
    "* int - stores integers (whole numbers), without decimals, such as 123 or -123.\n",
    "* float - stores floating point numbers, with decimals, such as 19.99 or -19.99.\n",
    "* char - stores single characters, such as 'a' or 'B'. ...\n",
    "* boolean - stores values with two states: true or false.\n"
   ]
  },
  {
   "cell_type": "markdown",
   "id": "d80b3910",
   "metadata": {},
   "source": [
    "## Q8.What are the Datatypes in Java?"
   ]
  },
  {
   "cell_type": "markdown",
   "id": "e182fa5e",
   "metadata": {},
   "source": [
    "Ans:-Data types are divided into two groups:\n",
    "* Primitive data types - includes byte , short , int , long , float , double , boolean and char.\n",
    "* Non-primitive data types - such as String , Arrays and Classes (you will learn more about these in a later chapter)\n"
   ]
  },
  {
   "cell_type": "markdown",
   "id": "8f9ee2a7",
   "metadata": {},
   "source": [
    "# Q9.What are the identifiers in java?"
   ]
  },
  {
   "cell_type": "markdown",
   "id": "1d1257ce",
   "metadata": {},
   "source": [
    "Ans:-identifiers in Java are a sequence of characters to identify something in a program. They are names given to a class, variable, package, method, or interface and allow the programmer to refer to the specific item from any place in the program."
   ]
  },
  {
   "cell_type": "markdown",
   "id": "e2fe50ba",
   "metadata": {},
   "source": [
    "## Q10.Explain the architecture of JVM "
   ]
  },
  {
   "cell_type": "markdown",
   "id": "ee2c5d90",
   "metadata": {},
   "source": [
    "Ans:- JVM is the engine that drives the Java Code. It converts Java bytecode into machine language. JVM architecture in Java contains classloader, memory area, execution engine, etc."
   ]
  },
  {
   "cell_type": "code",
   "execution_count": null,
   "id": "fa3cfdbf",
   "metadata": {},
   "outputs": [],
   "source": []
  }
 ],
 "metadata": {
  "kernelspec": {
   "display_name": "Python 3 (ipykernel)",
   "language": "python",
   "name": "python3"
  },
  "language_info": {
   "codemirror_mode": {
    "name": "ipython",
    "version": 3
   },
   "file_extension": ".py",
   "mimetype": "text/x-python",
   "name": "python",
   "nbconvert_exporter": "python",
   "pygments_lexer": "ipython3",
   "version": "3.10.7"
  }
 },
 "nbformat": 4,
 "nbformat_minor": 5
}
