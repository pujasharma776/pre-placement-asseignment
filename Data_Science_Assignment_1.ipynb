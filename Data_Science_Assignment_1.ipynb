{
 "cells": [
  {
   "cell_type": "markdown",
   "id": "1fd0193e",
   "metadata": {},
   "source": [
    "# Data_Science_Assignment_1"
   ]
  },
  {
   "cell_type": "markdown",
   "id": "e6ce513c",
   "metadata": {},
   "source": [
    "## 1. Write a Python program to reverse a string without using any built-in string reversal functions.\n"
   ]
  },
  {
   "cell_type": "markdown",
   "id": "0b575237",
   "metadata": {},
   "source": [
    "Ans:-Here's a Python program that reverses a string without using any built-in string reversal functions:"
   ]
  },
  {
   "cell_type": "code",
   "execution_count": 1,
   "id": "ef8d9bbc",
   "metadata": {},
   "outputs": [
    {
     "name": "stdout",
     "output_type": "stream",
     "text": [
      "!dlroW ,olleH\n"
     ]
    }
   ],
   "source": [
    "def reverse_string(string):\n",
    "    reversed_string = \"\"\n",
    "    for i in range(len(string) - 1, -1, -1):\n",
    "        reversed_string += string[i]\n",
    "    return reversed_string\n",
    "\n",
    "# Example usage\n",
    "input_string = \"Hello, World!\"\n",
    "reversed_string = reverse_string(input_string)\n",
    "print(reversed_string)\n"
   ]
  },
  {
   "cell_type": "markdown",
   "id": "b89d5584",
   "metadata": {},
   "source": [
    "## 2. Implement a function to check if a given string is a palindrome.\n"
   ]
  },
  {
   "cell_type": "markdown",
   "id": "d892840b",
   "metadata": {},
   "source": [
    "Ans:-Here's a Python function to check if a given string is a palindrome:"
   ]
  },
  {
   "cell_type": "code",
   "execution_count": 2,
   "id": "4ba38839",
   "metadata": {},
   "outputs": [
    {
     "name": "stdout",
     "output_type": "stream",
     "text": [
      "The string is a palindrome.\n"
     ]
    }
   ],
   "source": [
    "def is_palindrome(string):\n",
    "    # Remove any non-alphanumeric characters and convert to lowercase\n",
    "    cleaned_string = ''.join(char.lower() for char in string if char.isalnum())\n",
    "    \n",
    "    # Check if the cleaned string is equal to its reverse\n",
    "    return cleaned_string == cleaned_string[::-1]\n",
    "\n",
    "# Example usage\n",
    "input_string = \"A man, a plan, a canal, Panama!\"\n",
    "if is_palindrome(input_string):\n",
    "    print(\"The string is a palindrome.\")\n",
    "else:\n",
    "    print(\"The string is not a palindrome.\")\n"
   ]
  },
  {
   "cell_type": "markdown",
   "id": "0d382be8",
   "metadata": {},
   "source": [
    "## 3. Write a program to find the largest element in a given list.\n"
   ]
  },
  {
   "cell_type": "markdown",
   "id": "46a35740",
   "metadata": {},
   "source": [
    "Ans:-Here's a Python program to find the largest element in a given list:"
   ]
  },
  {
   "cell_type": "code",
   "execution_count": 3,
   "id": "298ad814",
   "metadata": {},
   "outputs": [
    {
     "name": "stdout",
     "output_type": "stream",
     "text": [
      "The largest element in the list is: 17\n"
     ]
    }
   ],
   "source": [
    "def find_largest_element(lst):\n",
    "    if len(lst) == 0:\n",
    "        return None\n",
    "    else:\n",
    "        largest = lst[0]\n",
    "        for num in lst:\n",
    "            if num > largest:\n",
    "                largest = num\n",
    "        return largest\n",
    "\n",
    "# Example usage\n",
    "my_list = [5, 9, 2, 17, 1, 3]\n",
    "largest_element = find_largest_element(my_list)\n",
    "print(\"The largest element in the list is:\", largest_element)\n"
   ]
  },
  {
   "cell_type": "markdown",
   "id": "bbdc9506",
   "metadata": {},
   "source": [
    "## 4. Implement a function to count the occurrence of each element in a list.\n"
   ]
  },
  {
   "cell_type": "markdown",
   "id": "d8a37d9c",
   "metadata": {},
   "source": [
    "Ans:-Here's a Python function to count the occurrence of each element in a list:"
   ]
  },
  {
   "cell_type": "code",
   "execution_count": 4,
   "id": "29cf4f63",
   "metadata": {},
   "outputs": [
    {
     "name": "stdout",
     "output_type": "stream",
     "text": [
      "Occurrences of each element in the list:\n",
      "1: 2\n",
      "2: 3\n",
      "3: 2\n",
      "4: 1\n",
      "5: 1\n"
     ]
    }
   ],
   "source": [
    "def count_occurrences(lst):\n",
    "    occurrences = {}\n",
    "    for item in lst:\n",
    "        occurrences[item] = occurrences.get(item, 0) + 1\n",
    "    return occurrences\n",
    "\n",
    "# Example usage\n",
    "my_list = [1, 2, 3, 2, 1, 4, 2, 3, 5]\n",
    "occurrences_dict = count_occurrences(my_list)\n",
    "print(\"Occurrences of each element in the list:\")\n",
    "for item, count in occurrences_dict.items():\n",
    "    print(f\"{item}: {count}\")\n"
   ]
  },
  {
   "cell_type": "markdown",
   "id": "1efe0baf",
   "metadata": {},
   "source": [
    "## 5. Write a Python program to find the second largest number in a list.\n"
   ]
  },
  {
   "cell_type": "markdown",
   "id": "7d8859b7",
   "metadata": {},
   "source": [
    "Ans:-Here's a Python program to find the second largest number in a list:"
   ]
  },
  {
   "cell_type": "code",
   "execution_count": 5,
   "id": "a15f548c",
   "metadata": {},
   "outputs": [
    {
     "name": "stdout",
     "output_type": "stream",
     "text": [
      "The second largest number in the list is: 9\n"
     ]
    }
   ],
   "source": [
    "def find_second_largest(lst):\n",
    "    if len(lst) < 2:\n",
    "        return None\n",
    "\n",
    "    largest = float('-inf')\n",
    "    second_largest = float('-inf')\n",
    "\n",
    "    for num in lst:\n",
    "        if num > largest:\n",
    "            second_largest = largest\n",
    "            largest = num\n",
    "        elif num > second_largest and num != largest:\n",
    "            second_largest = num\n",
    "\n",
    "    if second_largest == float('-inf'):\n",
    "        return None\n",
    "    else:\n",
    "        return second_largest\n",
    "\n",
    "# Example usage\n",
    "my_list = [5, 9, 2, 17, 1, 3]\n",
    "second_largest_num = find_second_largest(my_list)\n",
    "\n",
    "if second_largest_num is None:\n",
    "    print(\"There is no second largest number.\")\n",
    "else:\n",
    "    print(\"The second largest number in the list is:\", second_largest_num)\n"
   ]
  },
  {
   "cell_type": "markdown",
   "id": "15e8985e",
   "metadata": {},
   "source": [
    "## 6. Implement a function to remove duplicate elements from a list."
   ]
  },
  {
   "cell_type": "markdown",
   "id": "d00a7c58",
   "metadata": {},
   "source": [
    "Ans:- Here's a Python function to remove duplicate elements from a list:\n",
    "\n",
    "\n"
   ]
  },
  {
   "cell_type": "code",
   "execution_count": 6,
   "id": "8e50fd6d",
   "metadata": {},
   "outputs": [
    {
     "name": "stdout",
     "output_type": "stream",
     "text": [
      "List after removing duplicates: [1, 2, 3, 4, 5]\n"
     ]
    }
   ],
   "source": [
    "def remove_duplicates(lst):\n",
    "    return list(set(lst))\n",
    "\n",
    "# Example usage\n",
    "my_list = [1, 2, 3, 2, 1, 4, 2, 3, 5]\n",
    "new_list = remove_duplicates(my_list)\n",
    "print(\"List after removing duplicates:\", new_list)\n"
   ]
  },
  {
   "cell_type": "markdown",
   "id": "5a0861bc",
   "metadata": {},
   "source": [
    "## 7. Write a program to calculate the factorial of a given number.\n"
   ]
  },
  {
   "cell_type": "markdown",
   "id": "12593459",
   "metadata": {},
   "source": [
    "Ans:-Here's a Python program to calculate the factorial of a given number"
   ]
  },
  {
   "cell_type": "code",
   "execution_count": 7,
   "id": "91eac3b9",
   "metadata": {},
   "outputs": [
    {
     "name": "stdout",
     "output_type": "stream",
     "text": [
      "Factorial of 5 is 120\n"
     ]
    }
   ],
   "source": [
    "def factorial(n):\n",
    "    if n == 0:\n",
    "        return 1\n",
    "    else:\n",
    "        return n * factorial(n - 1)\n",
    "\n",
    "# Example usage\n",
    "number = 5\n",
    "fact = factorial(number)\n",
    "print(\"Factorial of\", number, \"is\", fact)\n"
   ]
  },
  {
   "cell_type": "markdown",
   "id": "7cffde5e",
   "metadata": {},
   "source": [
    "## 8. Implement a function to check if a given number is prime.\n"
   ]
  },
  {
   "cell_type": "markdown",
   "id": "5de88acd",
   "metadata": {},
   "source": [
    "Ans:- Here's a Python function to check if a given number is prime:"
   ]
  },
  {
   "cell_type": "code",
   "execution_count": 8,
   "id": "1c96eb1c",
   "metadata": {},
   "outputs": [
    {
     "name": "stdout",
     "output_type": "stream",
     "text": [
      "17 is a prime number\n"
     ]
    }
   ],
   "source": [
    "def is_prime(n):\n",
    "    if n <= 1:\n",
    "        return False\n",
    "    elif n <= 3:\n",
    "        return True\n",
    "    elif n % 2 == 0 or n % 3 == 0:\n",
    "        return False\n",
    "    i = 5\n",
    "    while i * i <= n:\n",
    "        if n % i == 0 or n % (i + 2) == 0:\n",
    "            return False\n",
    "        i += 6\n",
    "    return True\n",
    "\n",
    "# Example usage\n",
    "number = 17\n",
    "if is_prime(number):\n",
    "    print(number, \"is a prime number\")\n",
    "else:\n",
    "    print(number, \"is not a prime number\")\n"
   ]
  },
  {
   "cell_type": "markdown",
   "id": "88ccaf5b",
   "metadata": {},
   "source": [
    "## 9. Write a Python program to sort a list of integers in ascending order.\n"
   ]
  },
  {
   "cell_type": "markdown",
   "id": "f8db48fc",
   "metadata": {},
   "source": [
    "Ans:- Here's a Python program to sort a list of integers in ascending order:"
   ]
  },
  {
   "cell_type": "code",
   "execution_count": 9,
   "id": "f7c6b945",
   "metadata": {},
   "outputs": [
    {
     "name": "stdout",
     "output_type": "stream",
     "text": [
      "Sorted list: [1, 2, 5, 6, 8]\n"
     ]
    }
   ],
   "source": [
    "def sort_list(lst):\n",
    "    return sorted(lst)\n",
    "\n",
    "# Example usage\n",
    "my_list = [5, 2, 8, 1, 6]\n",
    "sorted_list = sort_list(my_list)\n",
    "print(\"Sorted list:\", sorted_list)\n"
   ]
  },
  {
   "cell_type": "markdown",
   "id": "27965c0a",
   "metadata": {},
   "source": [
    "## 10. Implement a function to find the sum of all numbers in a list.\n"
   ]
  },
  {
   "cell_type": "markdown",
   "id": "57a84783",
   "metadata": {},
   "source": [
    "Ans:- Here's a Python function to find the sum of all numbers in a list:"
   ]
  },
  {
   "cell_type": "code",
   "execution_count": 10,
   "id": "d2208eac",
   "metadata": {},
   "outputs": [
    {
     "name": "stdout",
     "output_type": "stream",
     "text": [
      "Sum of numbers: 15\n"
     ]
    }
   ],
   "source": [
    "def sum_of_numbers(lst):\n",
    "    return sum(lst)\n",
    "\n",
    "# Example usage\n",
    "my_list = [1, 2, 3, 4, 5]\n",
    "total_sum = sum_of_numbers(my_list)\n",
    "print(\"Sum of numbers:\", total_sum)\n"
   ]
  },
  {
   "cell_type": "markdown",
   "id": "5742ad2a",
   "metadata": {},
   "source": [
    "## 11. Write a program to find the common elements between two lists.\n"
   ]
  },
  {
   "cell_type": "markdown",
   "id": "7338cdb9",
   "metadata": {},
   "source": [
    "Ans:-Here's a Python program to find the common elements between two lists:"
   ]
  },
  {
   "cell_type": "code",
   "execution_count": 11,
   "id": "a035114a",
   "metadata": {},
   "outputs": [
    {
     "name": "stdout",
     "output_type": "stream",
     "text": [
      "Common elements: [4, 5]\n"
     ]
    }
   ],
   "source": [
    "def find_common_elements(list1, list2):\n",
    "    return list(set(list1) & set(list2))\n",
    "\n",
    "# Example usage\n",
    "list1 = [1, 2, 3, 4, 5]\n",
    "list2 = [4, 5, 6, 7, 8]\n",
    "common_elements = find_common_elements(list1, list2)\n",
    "print(\"Common elements:\", common_elements)\n"
   ]
  },
  {
   "cell_type": "markdown",
   "id": "419ac795",
   "metadata": {},
   "source": [
    "## 12. Implement a function to check if a given string is an anagram of another string."
   ]
  },
  {
   "cell_type": "markdown",
   "id": "9ef3cbf5",
   "metadata": {},
   "source": [
    "Ans:-Here's a Python function to check if a given string is an anagram of another string:"
   ]
  },
  {
   "cell_type": "code",
   "execution_count": 12,
   "id": "d89b3dd1",
   "metadata": {
    "scrolled": true
   },
   "outputs": [
    {
     "name": "stdout",
     "output_type": "stream",
     "text": [
      "The strings are anagrams.\n"
     ]
    }
   ],
   "source": [
    "def is_anagram(string1, string2):\n",
    "    return sorted(string1.lower()) == sorted(string2.lower())\n",
    "\n",
    "# Example usage\n",
    "string1 = \"listen\"\n",
    "string2 = \"silent\"\n",
    "if is_anagram(string1, string2):\n",
    "    print(\"The strings are anagrams.\")\n",
    "else:\n",
    "    print(\"The strings are not anagrams.\")\n"
   ]
  },
  {
   "cell_type": "markdown",
   "id": "ae8e2f22",
   "metadata": {},
   "source": [
    "## 13. Write a Python program to generate all permutations of a given string.\n"
   ]
  },
  {
   "cell_type": "code",
   "execution_count": 14,
   "id": "e1ba8cf6",
   "metadata": {},
   "outputs": [
    {
     "name": "stdout",
     "output_type": "stream",
     "text": [
      "abc\n",
      "acb\n",
      "bac\n",
      "bca\n",
      "cba\n",
      "cab\n"
     ]
    }
   ],
   "source": [
    "def generate_permutations(string):\n",
    "    def backtrack(start, end):\n",
    "        if start == end:\n",
    "            print(''.join(string))\n",
    "        else:\n",
    "            for i in range(start, end + 1):\n",
    "                string[start], string[i] = string[i], string[start]\n",
    "                backtrack(start + 1, end)\n",
    "                string[start], string[i] = string[i], string[start]  # Backtrack\n",
    "\n",
    "    n = len(string)\n",
    "    if n == 0:\n",
    "        print(\"The string is empty.\")\n",
    "    else:\n",
    "        backtrack(0, n - 1)\n",
    "\n",
    "# Example usage\n",
    "my_string = \"abc\"\n",
    "generate_permutations(list(my_string))\n"
   ]
  },
  {
   "cell_type": "markdown",
   "id": "e2378f43",
   "metadata": {},
   "source": [
    "## 14. Implement a function to calculate the Fibonacci sequence up to a given number of terms.\n"
   ]
  },
  {
   "cell_type": "markdown",
   "id": "e8391e15",
   "metadata": {},
   "source": [
    "Ans:-Here's a Python function to calculate the Fibonacci sequence up to a given number of terms:"
   ]
  },
  {
   "cell_type": "code",
   "execution_count": 15,
   "id": "b39eab4a",
   "metadata": {},
   "outputs": [
    {
     "name": "stdout",
     "output_type": "stream",
     "text": [
      "[0, 1, 1, 2, 3, 5, 8, 13, 21, 34]\n"
     ]
    }
   ],
   "source": [
    "def fibonacci_sequence(n):\n",
    "    sequence = [0, 1]\n",
    "    if n <= 2:\n",
    "        return sequence[:n]\n",
    "    else:\n",
    "        for _ in range(2, n):\n",
    "            next_term = sequence[-1] + sequence[-2]\n",
    "            sequence.append(next_term)\n",
    "        return sequence\n",
    "\n",
    "# Example usage\n",
    "num_terms = 10\n",
    "fib_seq = fibonacci_sequence(num_terms)\n",
    "print(fib_seq)\n"
   ]
  },
  {
   "cell_type": "markdown",
   "id": "53531734",
   "metadata": {},
   "source": [
    "## 15. Write a program to find the median of a list of numbers.\n"
   ]
  },
  {
   "cell_type": "code",
   "execution_count": 16,
   "id": "69449553",
   "metadata": {},
   "outputs": [
    {
     "name": "stdout",
     "output_type": "stream",
     "text": [
      "Median: 5.5\n"
     ]
    }
   ],
   "source": [
    "def find_median(numbers):\n",
    "    sorted_numbers = sorted(numbers)\n",
    "    n = len(sorted_numbers)\n",
    "    if n % 2 == 0:\n",
    "        mid1 = n // 2\n",
    "        mid2 = mid1 - 1\n",
    "        median = (sorted_numbers[mid1] + sorted_numbers[mid2]) / 2\n",
    "    else:\n",
    "        mid = n // 2\n",
    "        median = sorted_numbers[mid]\n",
    "    return median\n",
    "\n",
    "# Example usage\n",
    "my_list = [5, 2, 9, 1, 7, 6]\n",
    "median_value = find_median(my_list)\n",
    "print(\"Median:\", median_value)\n"
   ]
  },
  {
   "cell_type": "markdown",
   "id": "ed839a1e",
   "metadata": {},
   "source": [
    "## 16. Implement a function to check if a given list is sorted in non-decreasing order.\n"
   ]
  },
  {
   "cell_type": "code",
   "execution_count": 17,
   "id": "91151b17",
   "metadata": {},
   "outputs": [
    {
     "name": "stdout",
     "output_type": "stream",
     "text": [
      "Is the list sorted? True\n"
     ]
    }
   ],
   "source": [
    "def is_sorted(numbers):\n",
    "    for i in range(len(numbers) - 1):\n",
    "        if numbers[i] > numbers[i+1]:\n",
    "            return False\n",
    "    return True\n",
    "\n",
    "# Example usage\n",
    "my_list = [1, 2, 3, 4, 5]\n",
    "is_sorted_result = is_sorted(my_list)\n",
    "print(\"Is the list sorted?\", is_sorted_result)\n"
   ]
  },
  {
   "cell_type": "markdown",
   "id": "5f4cc6ba",
   "metadata": {},
   "source": [
    "## 17. Write a Python program to find the intersection of two lists.\n"
   ]
  },
  {
   "cell_type": "code",
   "execution_count": 18,
   "id": "f8f8dd16",
   "metadata": {},
   "outputs": [
    {
     "name": "stdout",
     "output_type": "stream",
     "text": [
      "Intersection: [4, 5]\n"
     ]
    }
   ],
   "source": [
    "def find_intersection(list1, list2):\n",
    "    intersection = list(set(list1) & set(list2))\n",
    "    return intersection\n",
    "\n",
    "# Example usage\n",
    "list1 = [1, 2, 3, 4, 5]\n",
    "list2 = [4, 5, 6, 7, 8]\n",
    "intersection_list = find_intersection(list1, list2)\n",
    "print(\"Intersection:\", intersection_list)\n"
   ]
  },
  {
   "cell_type": "markdown",
   "id": "8d8d8b34",
   "metadata": {},
   "source": [
    "## 18. Implement a function to find the maximum subarray sum in a given list.\n"
   ]
  },
  {
   "cell_type": "code",
   "execution_count": 19,
   "id": "eb14162a",
   "metadata": {},
   "outputs": [
    {
     "name": "stdout",
     "output_type": "stream",
     "text": [
      "Maximum subarray sum: 6\n"
     ]
    }
   ],
   "source": [
    "def find_max_subarray_sum(nums):\n",
    "    max_sum = float('-inf')\n",
    "    current_sum = 0\n",
    "\n",
    "    for num in nums:\n",
    "        current_sum += num\n",
    "        if current_sum > max_sum:\n",
    "            max_sum = current_sum\n",
    "        if current_sum < 0:\n",
    "            current_sum = 0\n",
    "\n",
    "    return max_sum\n",
    "\n",
    "# Example usage\n",
    "my_list = [-2, 1, -3, 4, -1, 2, 1, -5, 4]\n",
    "max_sum = find_max_subarray_sum(my_list)\n",
    "print(\"Maximum subarray sum:\", max_sum)\n"
   ]
  },
  {
   "cell_type": "markdown",
   "id": "d5c6838c",
   "metadata": {},
   "source": [
    "## 19. Write a program to remove all vowels from a given string.\n"
   ]
  },
  {
   "cell_type": "code",
   "execution_count": 20,
   "id": "f682e20e",
   "metadata": {},
   "outputs": [
    {
     "name": "stdout",
     "output_type": "stream",
     "text": [
      "Result: Hll, Wrld!\n"
     ]
    }
   ],
   "source": [
    "def remove_vowels(string):\n",
    "    vowels = 'aeiouAEIOU'\n",
    "    result = ''\n",
    "    \n",
    "    for char in string:\n",
    "        if char not in vowels:\n",
    "            result += char\n",
    "    \n",
    "    return result\n",
    "\n",
    "# Example usage\n",
    "my_string = \"Hello, World!\"\n",
    "result_string = remove_vowels(my_string)\n",
    "print(\"Result:\", result_string)\n"
   ]
  },
  {
   "cell_type": "markdown",
   "id": "d5c5253f",
   "metadata": {},
   "source": [
    "## 20. Implement a function to reverse the order of words in a given sentence.\n"
   ]
  },
  {
   "cell_type": "code",
   "execution_count": 21,
   "id": "9f2943e3",
   "metadata": {},
   "outputs": [
    {
     "name": "stdout",
     "output_type": "stream",
     "text": [
      "Reversed sentence: you? are How World! Hello,\n"
     ]
    }
   ],
   "source": [
    "def reverse_words(sentence):\n",
    "    words = sentence.split()\n",
    "    reversed_words = words[::-1]\n",
    "    reversed_sentence = ' '.join(reversed_words)\n",
    "    \n",
    "    return reversed_sentence\n",
    "\n",
    "# Example usage\n",
    "my_sentence = \"Hello, World! How are you?\"\n",
    "reversed_sentence = reverse_words(my_sentence)\n",
    "print(\"Reversed sentence:\", reversed_sentence)\n"
   ]
  },
  {
   "cell_type": "markdown",
   "id": "6671f24c",
   "metadata": {},
   "source": [
    "## 21. Write a Python program to check if two strings are anagrams of each other.\n"
   ]
  },
  {
   "cell_type": "code",
   "execution_count": 22,
   "id": "cf35e380",
   "metadata": {},
   "outputs": [
    {
     "name": "stdout",
     "output_type": "stream",
     "text": [
      "The strings are anagrams.\n"
     ]
    }
   ],
   "source": [
    "def is_anagram(str1, str2):\n",
    "    str1 = str1.lower()\n",
    "    str2 = str2.lower()\n",
    "\n",
    "    # Remove spaces and punctuation\n",
    "    str1 = ''.join(char for char in str1 if char.isalnum())\n",
    "    str2 = ''.join(char for char in str2 if char.isalnum())\n",
    "\n",
    "    # Sort the characters in both strings\n",
    "    sorted_str1 = sorted(str1)\n",
    "    sorted_str2 = sorted(str2)\n",
    "\n",
    "    # Compare the sorted strings\n",
    "    return sorted_str1 == sorted_str2\n",
    "\n",
    "# Example usage\n",
    "string1 = \"listen\"\n",
    "string2 = \"silent\"\n",
    "if is_anagram(string1, string2):\n",
    "    print(\"The strings are anagrams.\")\n",
    "else:\n",
    "    print(\"The strings are not anagrams.\")\n"
   ]
  },
  {
   "cell_type": "markdown",
   "id": "49785d35",
   "metadata": {},
   "source": [
    "## 22. Implement a function to find the first non-repeating character in a string.\n"
   ]
  },
  {
   "cell_type": "code",
   "execution_count": 23,
   "id": "d84c4e03",
   "metadata": {},
   "outputs": [
    {
     "name": "stdout",
     "output_type": "stream",
     "text": [
      "The first non-repeating character is: c\n"
     ]
    }
   ],
   "source": [
    "def find_first_non_repeating_char(string):\n",
    "    char_count = {}\n",
    "\n",
    "    # Count the occurrences of each character in the string\n",
    "    for char in string:\n",
    "        if char in char_count:\n",
    "            char_count[char] += 1\n",
    "        else:\n",
    "            char_count[char] = 1\n",
    "\n",
    "    # Find the first non-repeating character\n",
    "    for char in string:\n",
    "        if char_count[char] == 1:\n",
    "            return char\n",
    "\n",
    "    # Return None if there are no non-repeating characters\n",
    "    return None\n",
    "\n",
    "# Example usage\n",
    "my_string = \"aabbcde\"\n",
    "result = find_first_non_repeating_char(my_string)\n",
    "if result:\n",
    "    print(\"The first non-repeating character is:\", result)\n",
    "else:\n",
    "    print(\"There are no non-repeating characters in the string.\")\n"
   ]
  },
  {
   "cell_type": "markdown",
   "id": "020f4293",
   "metadata": {},
   "source": [
    "## 23. Write a program to find the prime factors of a given number.\n"
   ]
  },
  {
   "cell_type": "code",
   "execution_count": 24,
   "id": "621640aa",
   "metadata": {},
   "outputs": [
    {
     "name": "stdout",
     "output_type": "stream",
     "text": [
      "The prime factors of 56 are: [2, 2, 2, 7]\n"
     ]
    }
   ],
   "source": [
    "def find_prime_factors(num):\n",
    "    factors = []\n",
    "\n",
    "    # Check if the number is divisible by 2\n",
    "    while num % 2 == 0:\n",
    "        factors.append(2)\n",
    "        num = num // 2\n",
    "\n",
    "    # Check for factors starting from 3\n",
    "    for i in range(3, int(num**0.5) + 1, 2):\n",
    "        while num % i == 0:\n",
    "            factors.append(i)\n",
    "            num = num // i\n",
    "\n",
    "    # If the number is prime\n",
    "    if num > 2:\n",
    "        factors.append(num)\n",
    "\n",
    "    return factors\n",
    "\n",
    "# Example usage\n",
    "number = 56\n",
    "prime_factors = find_prime_factors(number)\n",
    "print(\"The prime factors of\", number, \"are:\", prime_factors)\n"
   ]
  },
  {
   "cell_type": "markdown",
   "id": "5b052c3e",
   "metadata": {},
   "source": [
    "## 24. Implement a function to check if a given number is a power of two.\n"
   ]
  },
  {
   "cell_type": "code",
   "execution_count": 25,
   "id": "6adb8e8e",
   "metadata": {},
   "outputs": [
    {
     "name": "stdout",
     "output_type": "stream",
     "text": [
      "16 is a power of two.\n"
     ]
    }
   ],
   "source": [
    "def is_power_of_two(num):\n",
    "    if num <= 0:\n",
    "        return False\n",
    "    return (num & (num - 1)) == 0\n",
    "\n",
    "# Example usage\n",
    "number = 16\n",
    "if is_power_of_two(number):\n",
    "    print(number, \"is a power of two.\")\n",
    "else:\n",
    "    print(number, \"is not a power of two.\")\n"
   ]
  },
  {
   "cell_type": "markdown",
   "id": "c77e63d5",
   "metadata": {},
   "source": [
    "## 25. Write a Python program to merge two sorted lists into a single sorted list.\n"
   ]
  },
  {
   "cell_type": "code",
   "execution_count": 26,
   "id": "0e5a379f",
   "metadata": {},
   "outputs": [
    {
     "name": "stdout",
     "output_type": "stream",
     "text": [
      "Merged List: [1, 2, 3, 4, 5, 6, 7, 8]\n"
     ]
    }
   ],
   "source": [
    "def merge_sorted_lists(list1, list2):\n",
    "    merged_list = []\n",
    "    i = 0\n",
    "    j = 0\n",
    "\n",
    "    while i < len(list1) and j < len(list2):\n",
    "        if list1[i] < list2[j]:\n",
    "            merged_list.append(list1[i])\n",
    "            i += 1\n",
    "        else:\n",
    "            merged_list.append(list2[j])\n",
    "            j += 1\n",
    "\n",
    "    # Append remaining elements from list1\n",
    "    while i < len(list1):\n",
    "        merged_list.append(list1[i])\n",
    "        i += 1\n",
    "\n",
    "    # Append remaining elements from list2\n",
    "    while j < len(list2):\n",
    "        merged_list.append(list2[j])\n",
    "        j += 1\n",
    "\n",
    "    return merged_list\n",
    "\n",
    "# Example usage\n",
    "list1 = [1, 3, 5, 7]\n",
    "list2 = [2, 4, 6, 8]\n",
    "merged_list = merge_sorted_lists(list1, list2)\n",
    "print(\"Merged List:\", merged_list)\n"
   ]
  },
  {
   "cell_type": "markdown",
   "id": "480699b4",
   "metadata": {},
   "source": [
    "## 26. Implement a function to find the mode of a list of numbers."
   ]
  },
  {
   "cell_type": "code",
   "execution_count": 27,
   "id": "4e94303a",
   "metadata": {},
   "outputs": [
    {
     "name": "stdout",
     "output_type": "stream",
     "text": [
      "Mode(s): [3]\n"
     ]
    }
   ],
   "source": [
    "from collections import Counter\n",
    "\n",
    "def find_mode(numbers):\n",
    "    # Count the occurrences of each number\n",
    "    counts = Counter(numbers)\n",
    "\n",
    "    # Find the maximum count\n",
    "    max_count = max(counts.values())\n",
    "\n",
    "    # Find all numbers with the maximum count (modes)\n",
    "    modes = [number for number, count in counts.items() if count == max_count]\n",
    "\n",
    "    return modes\n",
    "\n",
    "# Example usage\n",
    "numbers = [1, 2, 3, 2, 4, 3, 5, 3]\n",
    "modes = find_mode(numbers)\n",
    "print(\"Mode(s):\", modes)\n"
   ]
  },
  {
   "cell_type": "markdown",
   "id": "d49440ca",
   "metadata": {},
   "source": [
    "## 27. Write a program to find the greatest common divisor (GCD) of two numbers.\n"
   ]
  },
  {
   "cell_type": "code",
   "execution_count": 28,
   "id": "11b81603",
   "metadata": {},
   "outputs": [
    {
     "name": "stdout",
     "output_type": "stream",
     "text": [
      "GCD: 12\n"
     ]
    }
   ],
   "source": [
    "def gcd(a, b):\n",
    "    while b != 0:\n",
    "        a, b = b, a % b\n",
    "    return a\n",
    "\n",
    "# Example usage\n",
    "num1 = 36\n",
    "num2 = 48\n",
    "result = gcd(num1, num2)\n",
    "print(\"GCD:\", result)\n"
   ]
  },
  {
   "cell_type": "markdown",
   "id": "719634d2",
   "metadata": {},
   "source": [
    "## 28. Implement a function to calculate the square root of a given number.\n"
   ]
  },
  {
   "cell_type": "markdown",
   "id": "7495003e",
   "metadata": {},
   "source": [
    "Ans:-Here's an example of a function that calculates the square root:"
   ]
  },
  {
   "cell_type": "markdown",
   "id": "0218a696",
   "metadata": {},
   "source": [
    "Using the ** operator:"
   ]
  },
  {
   "cell_type": "code",
   "execution_count": 29,
   "id": "4b1bf752",
   "metadata": {},
   "outputs": [],
   "source": [
    "def square_root(n):\n",
    "    return n ** 0.5\n"
   ]
  },
  {
   "cell_type": "markdown",
   "id": "abd94c00",
   "metadata": {},
   "source": [
    "Using the math.sqrt() function:"
   ]
  },
  {
   "cell_type": "code",
   "execution_count": 30,
   "id": "fecef116",
   "metadata": {},
   "outputs": [],
   "source": [
    "import math\n",
    "\n",
    "def square_root(n):\n",
    "    return math.sqrt(n)\n"
   ]
  },
  {
   "cell_type": "markdown",
   "id": "0f1dda23",
   "metadata": {},
   "source": [
    "Both implementations are correct and will give you the square root of the given number n.\n",
    "\n",
    "Example usage:"
   ]
  },
  {
   "cell_type": "code",
   "execution_count": 31,
   "id": "033a296e",
   "metadata": {},
   "outputs": [
    {
     "name": "stdout",
     "output_type": "stream",
     "text": [
      "Square root: 4.0\n"
     ]
    }
   ],
   "source": [
    "number = 16\n",
    "result = square_root(number)\n",
    "print(\"Square root:\", result)\n"
   ]
  },
  {
   "cell_type": "markdown",
   "id": "58e36c3a",
   "metadata": {},
   "source": [
    "## 29. Write a Python program to check if a given string is a valid palindrome ignoring non-alphanumeric characters.\n"
   ]
  },
  {
   "cell_type": "code",
   "execution_count": 32,
   "id": "c7c0f980",
   "metadata": {},
   "outputs": [
    {
     "name": "stdout",
     "output_type": "stream",
     "text": [
      "Is valid palindrome? True\n"
     ]
    }
   ],
   "source": [
    "def is_valid_palindrome(s):\n",
    "    # Convert string to lowercase\n",
    "    s = s.lower()\n",
    "\n",
    "    # Remove non-alphanumeric characters\n",
    "    s = ''.join(c for c in s if c.isalnum())\n",
    "\n",
    "    # Check if the modified string is equal to its reverse\n",
    "    return s == s[::-1]\n",
    "\n",
    "# Example usage\n",
    "string = \"A man, a plan, a canal: Panama!\"\n",
    "result = is_valid_palindrome(string)\n",
    "print(\"Is valid palindrome?\", result)\n"
   ]
  },
  {
   "cell_type": "markdown",
   "id": "833410da",
   "metadata": {},
   "source": [
    "## 30. Implement a function to find the minimum element in a rotated sorted list.\n"
   ]
  },
  {
   "cell_type": "code",
   "execution_count": 33,
   "id": "24b00e62",
   "metadata": {},
   "outputs": [
    {
     "name": "stdout",
     "output_type": "stream",
     "text": [
      "Minimum element: 0\n"
     ]
    }
   ],
   "source": [
    "def find_minimum(nums):\n",
    "    left = 0\n",
    "    right = len(nums) - 1\n",
    "\n",
    "    while left < right:\n",
    "        mid = left + (right - left) // 2\n",
    "\n",
    "        # Check if mid element is greater than the rightmost element\n",
    "        if nums[mid] > nums[right]:\n",
    "            left = mid + 1\n",
    "        else:\n",
    "            right = mid\n",
    "\n",
    "    # At the end of the loop, left and right will be pointing to the minimum element\n",
    "    return nums[left]\n",
    "\n",
    "# Example usage\n",
    "nums = [4, 5, 6, 7, 0, 1, 2]\n",
    "result = find_minimum(nums)\n",
    "print(\"Minimum element:\", result)\n",
    "\n"
   ]
  },
  {
   "cell_type": "markdown",
   "id": "3f02c7b6",
   "metadata": {},
   "source": [
    "## 31. Write a program to find the sum of all even numbers in a list.\n"
   ]
  },
  {
   "cell_type": "code",
   "execution_count": 34,
   "id": "1043f0f7",
   "metadata": {},
   "outputs": [
    {
     "name": "stdout",
     "output_type": "stream",
     "text": [
      "Sum of even numbers: 30\n"
     ]
    }
   ],
   "source": [
    "def sum_of_even_numbers(numbers):\n",
    "    total = 0\n",
    "\n",
    "    for num in numbers:\n",
    "        if num % 2 == 0:\n",
    "            total += num\n",
    "\n",
    "    return total\n",
    "\n",
    "# Example usage\n",
    "numbers = [1, 2, 3, 4, 5, 6, 7, 8, 9, 10]\n",
    "result = sum_of_even_numbers(numbers)\n",
    "print(\"Sum of even numbers:\", result)\n",
    "\n"
   ]
  },
  {
   "cell_type": "markdown",
   "id": "352d2231",
   "metadata": {},
   "source": [
    "## 32. Implement a function to calculate the power of a number using recursion."
   ]
  },
  {
   "cell_type": "code",
   "execution_count": 35,
   "id": "b7866496",
   "metadata": {},
   "outputs": [
    {
     "name": "stdout",
     "output_type": "stream",
     "text": [
      "2 raised to the power of 3 is: 8\n"
     ]
    }
   ],
   "source": [
    "def power(base, exponent):\n",
    "    if exponent == 0:\n",
    "        return 1\n",
    "    elif exponent > 0:\n",
    "        return base * power(base, exponent - 1)\n",
    "    else:\n",
    "        return 1 / (base * power(base, -exponent - 1))\n",
    "\n",
    "# Example usage\n",
    "result = power(2, 3)\n",
    "print(\"2 raised to the power of 3 is:\", result)\n"
   ]
  },
  {
   "cell_type": "markdown",
   "id": "24aa269c",
   "metadata": {},
   "source": [
    "## 33. Write a Python program to remove duplicates from a list while preserving the order.\n"
   ]
  },
  {
   "cell_type": "code",
   "execution_count": 36,
   "id": "1215301a",
   "metadata": {},
   "outputs": [
    {
     "name": "stdout",
     "output_type": "stream",
     "text": [
      "Original list: [1, 2, 3, 2, 4, 3, 5]\n",
      "List without duplicates: [1, 2, 3, 4, 5]\n"
     ]
    }
   ],
   "source": [
    "def remove_duplicates(lst):\n",
    "    seen = set()\n",
    "    return [x for x in lst if not (x in seen or seen.add(x))]\n",
    "\n",
    "# Example usage\n",
    "my_list = [1, 2, 3, 2, 4, 3, 5]\n",
    "result = remove_duplicates(my_list)\n",
    "print(\"Original list:\", my_list)\n",
    "print(\"List without duplicates:\", result)\n"
   ]
  },
  {
   "cell_type": "markdown",
   "id": "18327874",
   "metadata": {},
   "source": [
    "## 34. Implement a function to find the longest common prefix among a list of strings.\n"
   ]
  },
  {
   "cell_type": "code",
   "execution_count": 37,
   "id": "983e9a00",
   "metadata": {},
   "outputs": [
    {
     "name": "stdout",
     "output_type": "stream",
     "text": [
      "Longest common prefix: fl\n"
     ]
    }
   ],
   "source": [
    "def longest_common_prefix(strs):\n",
    "    if not strs:\n",
    "        return \"\"\n",
    "    \n",
    "    prefix = \"\"\n",
    "    for i in range(len(strs[0])):\n",
    "        char = strs[0][i]\n",
    "        for j in range(1, len(strs)):\n",
    "            if i >= len(strs[j]) or strs[j][i] != char:\n",
    "                return prefix\n",
    "        prefix += char\n",
    "    \n",
    "    return prefix\n",
    "\n",
    "# Example usage\n",
    "words = [\"flower\", \"flow\", \"flight\"]\n",
    "result = longest_common_prefix(words)\n",
    "print(\"Longest common prefix:\", result)\n",
    "\n"
   ]
  },
  {
   "cell_type": "markdown",
   "id": "e1943f11",
   "metadata": {},
   "source": [
    "## 35. Write a program to check if a given number is a perfect square."
   ]
  },
  {
   "cell_type": "code",
   "execution_count": 38,
   "id": "2bb55557",
   "metadata": {},
   "outputs": [
    {
     "name": "stdout",
     "output_type": "stream",
     "text": [
      "25 is a perfect square: True\n"
     ]
    }
   ],
   "source": [
    "import math\n",
    "\n",
    "def is_perfect_square(num):\n",
    "    if num < 0:\n",
    "        return False\n",
    "    \n",
    "    sqrt = int(math.sqrt(num))\n",
    "    return sqrt * sqrt == num\n",
    "\n",
    "# Example usage\n",
    "number = 25\n",
    "result = is_perfect_square(number)\n",
    "print(f\"{number} is a perfect square:\", result)\n"
   ]
  },
  {
   "cell_type": "markdown",
   "id": "a72d9c0f",
   "metadata": {},
   "source": [
    "## 36. Implement a function to calculate the product of all elements in a list.\n"
   ]
  },
  {
   "cell_type": "code",
   "execution_count": 39,
   "id": "13412a84",
   "metadata": {},
   "outputs": [
    {
     "name": "stdout",
     "output_type": "stream",
     "text": [
      "Product: 120\n"
     ]
    }
   ],
   "source": [
    "def calculate_product(lst):\n",
    "    if not lst:\n",
    "        return None\n",
    "    \n",
    "    product = 1\n",
    "    for num in lst:\n",
    "        product *= num\n",
    "    \n",
    "    return product\n",
    "\n",
    "# Example usage\n",
    "numbers = [2, 3, 4, 5]\n",
    "result = calculate_product(numbers)\n",
    "print(\"Product:\", result)\n"
   ]
  },
  {
   "cell_type": "markdown",
   "id": "ef4e97f2",
   "metadata": {},
   "source": [
    "## 37. Write a Python program to reverse the order of words in a sentence while preserving the word order."
   ]
  },
  {
   "cell_type": "code",
   "execution_count": 40,
   "id": "e193a525",
   "metadata": {},
   "outputs": [
    {
     "name": "stdout",
     "output_type": "stream",
     "text": [
      "Reversed sentence: today? you are how Hello,\n"
     ]
    }
   ],
   "source": [
    "def reverse_sentence(sentence):\n",
    "    words = sentence.split()\n",
    "    reversed_words = words[::-1]\n",
    "    reversed_sentence = ' '.join(reversed_words)\n",
    "    return reversed_sentence\n",
    "\n",
    "# Example usage\n",
    "input_sentence = \"Hello, how are you today?\"\n",
    "reversed_sentence = reverse_sentence(input_sentence)\n",
    "print(\"Reversed sentence:\", reversed_sentence)\n"
   ]
  },
  {
   "cell_type": "markdown",
   "id": "a90bd63e",
   "metadata": {},
   "source": [
    "## 38. Implement a function to find the missing number in a given list of consecutive numbers.\n"
   ]
  },
  {
   "cell_type": "code",
   "execution_count": 41,
   "id": "e2424620",
   "metadata": {},
   "outputs": [
    {
     "name": "stdout",
     "output_type": "stream",
     "text": [
      "Missing number: 4\n"
     ]
    }
   ],
   "source": [
    "def find_missing_number(numbers):\n",
    "    n = len(numbers) + 1  # Total number of elements including the missing number\n",
    "    expected_sum = (n * (n + 1)) // 2  # Sum of expected sequence of numbers\n",
    "    actual_sum = sum(numbers)  # Sum of given list of numbers\n",
    "    missing_number = expected_sum - actual_sum\n",
    "    return missing_number\n",
    "\n",
    "# Example usage\n",
    "input_list = [1, 2, 3, 5, 6, 7, 8, 9]\n",
    "missing_number = find_missing_number(input_list)\n",
    "print(\"Missing number:\", missing_number)\n"
   ]
  },
  {
   "cell_type": "markdown",
   "id": "5ff114cb",
   "metadata": {},
   "source": [
    "## 39. Write a program to find the sum of digits of a given number.\n"
   ]
  },
  {
   "cell_type": "code",
   "execution_count": 42,
   "id": "d3ac22a8",
   "metadata": {},
   "outputs": [
    {
     "name": "stdout",
     "output_type": "stream",
     "text": [
      "Sum of digits: 15\n"
     ]
    }
   ],
   "source": [
    "def sum_of_digits(number):\n",
    "    # Convert the number to a string to iterate over its digits\n",
    "    number_str = str(number)\n",
    "    \n",
    "    # Initialize the sum variable\n",
    "    digit_sum = 0\n",
    "    \n",
    "    # Iterate over each digit in the number string\n",
    "    for digit in number_str:\n",
    "        # Convert the digit back to an integer and add it to the sum\n",
    "        digit_sum += int(digit)\n",
    "    \n",
    "    return digit_sum\n",
    "\n",
    "# Example usage\n",
    "input_number = 12345\n",
    "digit_sum = sum_of_digits(input_number)\n",
    "print(\"Sum of digits:\", digit_sum)\n"
   ]
  },
  {
   "cell_type": "markdown",
   "id": "cbb88719",
   "metadata": {},
   "source": [
    "## 40. Implement a function to check if a given string is a valid palindrome considering case sensitivity."
   ]
  },
  {
   "cell_type": "code",
   "execution_count": 43,
   "id": "132618da",
   "metadata": {},
   "outputs": [
    {
     "name": "stdout",
     "output_type": "stream",
     "text": [
      "Is Palindrome: False\n"
     ]
    }
   ],
   "source": [
    "def is_palindrome(string):\n",
    "    # Remove spaces and convert to lowercase\n",
    "    string = string.replace(\" \", \"\").lower()\n",
    "    \n",
    "    # Compare the string with its reversed version\n",
    "    return string == string[::-1]\n",
    "\n",
    "# Example usage\n",
    "input_string = \"Madam Arora teaches malayalam\"\n",
    "is_palindrome_flag = is_palindrome(input_string)\n",
    "print(\"Is Palindrome:\", is_palindrome_flag)\n"
   ]
  },
  {
   "cell_type": "markdown",
   "id": "43cd4626",
   "metadata": {},
   "source": [
    "## 41. Write a Python program to find the smallest missing positive integer in a list.\n"
   ]
  },
  {
   "cell_type": "code",
   "execution_count": 44,
   "id": "aa4db333",
   "metadata": {},
   "outputs": [
    {
     "name": "stdout",
     "output_type": "stream",
     "text": [
      "Smallest missing positive integer: 4\n"
     ]
    }
   ],
   "source": [
    "def smallest_missing_positive(nums):\n",
    "    # Create a set to store positive integers\n",
    "    positive_nums = set()\n",
    "\n",
    "    # Add positive integers to the set\n",
    "    for num in nums:\n",
    "        if num > 0:\n",
    "            positive_nums.add(num)\n",
    "\n",
    "    # Check for the smallest missing positive integer\n",
    "    smallest_missing = 1\n",
    "    while smallest_missing in positive_nums:\n",
    "        smallest_missing += 1\n",
    "\n",
    "    return smallest_missing\n",
    "\n",
    "# Example usage\n",
    "numbers = [3, 1, -1, 5, 2]\n",
    "result = smallest_missing_positive(numbers)\n",
    "print(\"Smallest missing positive integer:\", result)\n"
   ]
  },
  {
   "cell_type": "markdown",
   "id": "4d002735",
   "metadata": {},
   "source": [
    "## 42. Implement a function to find the longest palindrome substring in a given string."
   ]
  },
  {
   "cell_type": "code",
   "execution_count": 45,
   "id": "61e7782c",
   "metadata": {},
   "outputs": [
    {
     "name": "stdout",
     "output_type": "stream",
     "text": [
      "Longest palindrome substring: bab\n"
     ]
    }
   ],
   "source": [
    "def longest_palindrome_substring(s):\n",
    "    longest = \"\"\n",
    "    for i in range(len(s)):\n",
    "        # Check for odd length palindromes\n",
    "        l, r = i, i\n",
    "        while l >= 0 and r < len(s) and s[l] == s[r]:\n",
    "            substring = s[l:r + 1]\n",
    "            if len(substring) > len(longest):\n",
    "                longest = substring\n",
    "            l -= 1\n",
    "            r += 1\n",
    "        \n",
    "        # Check for even length palindromes\n",
    "        l, r = i, i + 1\n",
    "        while l >= 0 and r < len(s) and s[l] == s[r]:\n",
    "            substring = s[l:r + 1]\n",
    "            if len(substring) > len(longest):\n",
    "                longest = substring\n",
    "            l -= 1\n",
    "            r += 1\n",
    "    \n",
    "    return longest\n",
    "\n",
    "# Example usage\n",
    "s = \"babad\"\n",
    "print(\"Longest palindrome substring:\", longest_palindrome_substring(s))\n"
   ]
  },
  {
   "cell_type": "markdown",
   "id": "b398236c",
   "metadata": {},
   "source": [
    "## 43. Write a program to find the number of occurrences of a given element in a list."
   ]
  },
  {
   "cell_type": "code",
   "execution_count": 46,
   "id": "cffa268d",
   "metadata": {},
   "outputs": [
    {
     "name": "stdout",
     "output_type": "stream",
     "text": [
      "Number of occurrences: 3\n"
     ]
    }
   ],
   "source": [
    "def count_occurrences(lst, element):\n",
    "    count = 0\n",
    "    for item in lst:\n",
    "        if item == element:\n",
    "            count += 1\n",
    "    return count\n",
    "\n",
    "# Example usage\n",
    "my_list = [1, 2, 3, 2, 4, 2, 5]\n",
    "element = 2\n",
    "print(\"Number of occurrences:\", count_occurrences(my_list, element))\n"
   ]
  },
  {
   "cell_type": "markdown",
   "id": "2e709383",
   "metadata": {},
   "source": [
    "## 44. Implement a function to check if a given number is a perfect number."
   ]
  },
  {
   "cell_type": "code",
   "execution_count": 47,
   "id": "2c21a5b9",
   "metadata": {},
   "outputs": [
    {
     "name": "stdout",
     "output_type": "stream",
     "text": [
      "28 is a perfect number.\n"
     ]
    }
   ],
   "source": [
    "def is_perfect_number(num):\n",
    "    if num <= 0:\n",
    "        return False\n",
    "    divisors = []\n",
    "    for i in range(1, num):\n",
    "        if num % i == 0:\n",
    "            divisors.append(i)\n",
    "    if sum(divisors) == num:\n",
    "        return True\n",
    "    return False\n",
    "\n",
    "# Example usage\n",
    "number = 28\n",
    "if is_perfect_number(number):\n",
    "    print(number, \"is a perfect number.\")\n",
    "else:\n",
    "    print(number, \"is not a perfect number.\")\n"
   ]
  },
  {
   "cell_type": "markdown",
   "id": "917fba2b",
   "metadata": {},
   "source": [
    "## 45. Write a Python program to remove all duplicates from a string.\n"
   ]
  },
  {
   "cell_type": "code",
   "execution_count": 48,
   "id": "42343693",
   "metadata": {},
   "outputs": [
    {
     "name": "stdout",
     "output_type": "stream",
     "text": [
      "Helo Wrd\n"
     ]
    }
   ],
   "source": [
    "def remove_duplicates(string):\n",
    "    # Create an empty set to store unique characters\n",
    "    unique_chars = set()\n",
    "    # Create an empty string to store the result\n",
    "    result = \"\"\n",
    "    # Iterate over each character in the string\n",
    "    for char in string:\n",
    "        # Check if the character is not already in the set\n",
    "        if char not in unique_chars:\n",
    "            # Add the character to the set\n",
    "            unique_chars.add(char)\n",
    "            # Append the character to the result string\n",
    "            result += char\n",
    "    # Return the final result string without duplicates\n",
    "    return result\n",
    "\n",
    "# Example usage\n",
    "string = \"Hello World\"\n",
    "print(remove_duplicates(string))\n"
   ]
  },
  {
   "cell_type": "markdown",
   "id": "526209d4",
   "metadata": {},
   "source": [
    "## 46. Implement a function to find the first missing positive\n",
    "\n"
   ]
  },
  {
   "cell_type": "code",
   "execution_count": 49,
   "id": "2a5dfc0b",
   "metadata": {},
   "outputs": [
    {
     "name": "stdout",
     "output_type": "stream",
     "text": [
      "2\n"
     ]
    }
   ],
   "source": [
    "def first_missing_positive(nums):\n",
    "    n = len(nums)\n",
    "\n",
    "    # Step 1: Mark non-positive and numbers greater than n as n+1\n",
    "    for i in range(n):\n",
    "        if nums[i] <= 0 or nums[i] > n:\n",
    "            nums[i] = n + 1\n",
    "\n",
    "    # Step 2: Use the array index as a marker for presence of positive numbers\n",
    "    for i in range(n):\n",
    "        num = abs(nums[i])\n",
    "        if num <= n:\n",
    "            nums[num - 1] = -abs(nums[num - 1])\n",
    "\n",
    "    # Step 3: Find the first unmarked index (i.e., positive number)\n",
    "    for i in range(n):\n",
    "        if nums[i] > 0:\n",
    "            return i + 1\n",
    "\n",
    "    # If all indices are marked, then the first missing positive is n+1\n",
    "    return n + 1\n",
    "\n",
    "# Example usage\n",
    "nums = [3, 4, -1, 1]\n",
    "print(first_missing_positive(nums))  # Output: 2\n"
   ]
  },
  {
   "cell_type": "code",
   "execution_count": null,
   "id": "1e89c7c5",
   "metadata": {},
   "outputs": [],
   "source": []
  }
 ],
 "metadata": {
  "kernelspec": {
   "display_name": "Python 3 (ipykernel)",
   "language": "python",
   "name": "python3"
  },
  "language_info": {
   "codemirror_mode": {
    "name": "ipython",
    "version": 3
   },
   "file_extension": ".py",
   "mimetype": "text/x-python",
   "name": "python",
   "nbconvert_exporter": "python",
   "pygments_lexer": "ipython3",
   "version": "3.10.7"
  }
 },
 "nbformat": 4,
 "nbformat_minor": 5
}
