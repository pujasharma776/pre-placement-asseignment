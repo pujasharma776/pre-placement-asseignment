{
 "cells": [
  {
   "cell_type": "markdown",
   "id": "65d49613",
   "metadata": {},
   "source": [
    "# Assignment 4"
   ]
  },
  {
   "cell_type": "markdown",
   "id": "403736be",
   "metadata": {},
   "source": [
    "## <aside>\n",
    "💡 **Question 1**\n",
    "Given three integer arrays arr1, arr2 and arr3 **sorted** in **strictly increasing** order, return a sorted array of **only** the integers that appeared in **all** three arrays.\n",
    "\n",
    "**Example 1:**\n",
    "\n",
    "Input: arr1 = [1,2,3,4,5], arr2 = [1,2,5,7,9], arr3 = [1,3,4,5,8]\n",
    "\n",
    "Output: [1,5]\n",
    "\n",
    "**Explanation:** Only 1 and 5 appeared in the three arrays.\n",
    "\n",
    "</aside>"
   ]
  },
  {
   "cell_type": "code",
   "execution_count": 2,
   "id": "62fff703",
   "metadata": {},
   "outputs": [
    {
     "name": "stdout",
     "output_type": "stream",
     "text": [
      "[1, 5]\n"
     ]
    }
   ],
   "source": [
    "def arraysIntersection(arr1, arr2, arr3):\n",
    "    p1 = p2 = p3 = 0\n",
    "    result = []\n",
    "\n",
    "    while p1 < len(arr1) and p2 < len(arr2) and p3 < len(arr3):\n",
    "        if arr1[p1] == arr2[p2] == arr3[p3]:\n",
    "            result.append(arr1[p1])\n",
    "            p1 += 1\n",
    "            p2 += 1\n",
    "            p3 += 1\n",
    "        elif arr1[p1] <= arr2[p2] and arr1[p1] <= arr3[p3]:\n",
    "            p1 += 1\n",
    "        elif arr2[p2] <= arr1[p1] and arr2[p2] <= arr3[p3]:\n",
    "            p2 += 1\n",
    "        else:\n",
    "            p3 += 1\n",
    "\n",
    "    return result\n",
    "#EXAMPLE USAGE\n",
    "arr1 = [1, 2, 3, 4, 5]\n",
    "arr2 = [1, 2, 5, 7, 9]\n",
    "arr3 = [1, 3, 4, 5, 8]\n",
    "result = arraysIntersection(arr1, arr2, arr3)\n",
    "print(result)  \n"
   ]
  },
  {
   "cell_type": "raw",
   "id": "690ae394",
   "metadata": {},
   "source": [
    "Here's the algorithm to find the common elements in three sorted arrays:\n",
    "\n",
    "1.Initialize three pointers, p1, p2, and p3, to 0, pointing to the start of each array (arr1, arr2, and arr3)...111\n",
    "2.Initialize an empty list, result, to store the common elements.\n",
    "3.While p1, p2, and p3 are within the bounds of their respective arrays:\n",
    "If arr1[p1], arr2[p2], and arr3[p3] are equal, add the element to result, and increment all three pointers.\n",
    "If arr1[p1] is less than either arr2[p2] or arr3[p3], increment p1.\n",
    "If arr2[p2] is less than either arr1[p1] or arr3[p3], increment p2.\n",
    "If arr3[p3] is less than either arr1[p1] or arr2[p2], increment p3.\n",
    "4.Return result as the sorted array of common elements."
   ]
  },
  {
   "cell_type": "markdown",
   "id": "1a297ec6",
   "metadata": {},
   "source": [
    "## <aside>\n",
    "💡 **Question 4**\n",
    "Given an integer array nums of 2n integers, group these integers into n pairs (a1, b1), (a2, b2), ..., (an, bn) such that the sum of min(ai, bi) for all i is **maximized**. Return *the maximized sum*.\n",
    "\n",
    "**Example 1:**\n",
    "\n",
    "Input: nums = [1,4,3,2]\n",
    "\n",
    "Output: 4\n",
    "\n",
    "**Explanation:** All possible pairings (ignoring the ordering of elements) are:\n",
    "\n",
    "1. (1, 4), (2, 3) -> min(1, 4) + min(2, 3) = 1 + 2 = 3\n",
    "\n",
    "2. (1, 3), (2, 4) -> min(1, 3) + min(2, 4) = 1 + 2 = 3\n",
    "\n",
    "3. (1, 2), (3, 4) -> min(1, 2) + min(3, 4) = 1 + 3 = 4\n",
    "\n",
    "So the maximum possible sum is 4.\n",
    "\n",
    "</aside>"
   ]
  },
  {
   "cell_type": "raw",
   "id": "0a36164d",
   "metadata": {},
   "source": [
    "Here's the step-by-step approach to solve this problem:\n",
    "\n",
    "1.Sort the given array nums in ascending order.\n",
    "\n",
    "nums = [1, 2, 3, 4]\n",
    "\n",
    "2.Initialize a variable max_sum to store the maximum sum and set it to 0.\n",
    "\n",
    "max_sum = 0\n",
    "\n",
    "3.Iterate over the array from index 0 to length - 1 with a step size of 2.\n",
    "\n",
    "1.In each iteration, add the element at the current index to max_sum.\n",
    "\n",
    "2.Since the array is sorted, the first element in each pair will be the minimum.\n",
    "\n",
    "i = 0\n",
    "max_sum += nums[0]  # max_sum = 0 + 1 = 1\n",
    "i = 2\n",
    "max_sum += nums[2]  # max_sum = 1 + 3 = 4\n",
    "\n",
    "4.Return the value of max_sum.\n",
    "return 4\n",
    "\n",
    "\n",
    "\n",
    "\n"
   ]
  },
  {
   "cell_type": "code",
   "execution_count": 4,
   "id": "873e6d2d",
   "metadata": {},
   "outputs": [
    {
     "name": "stdout",
     "output_type": "stream",
     "text": [
      "4\n"
     ]
    }
   ],
   "source": [
    "def array_pair_sum(nums):\n",
    "    nums.sort()\n",
    "    max_sum = 0\n",
    "    for i in range(0, len(nums), 2):\n",
    "        max_sum += nums[i]\n",
    "    return max_sum\n",
    "\n",
    "#EXAMPLE USAGE\n",
    "nums = [1, 4, 3, 2]\n",
    "result = array_pair_sum(nums)\n",
    "print(result)  \n",
    "\n"
   ]
  },
  {
   "cell_type": "markdown",
   "id": "e831ae53",
   "metadata": {},
   "source": [
    "## <aside>\n",
    "💡 **Question 6**\n",
    "Given an integer array nums sorted in **non-decreasing** order, return *an array of **the squares of each number** sorted in non-decreasing order*.\n",
    "\n",
    "**Example 1:**\n",
    "\n",
    "Input: nums = [-4,-1,0,3,10]\n",
    "\n",
    "Output: [0,1,9,16,100]\n",
    "\n",
    "**Explanation:** After squaring, the array becomes [16,1,0,9,100].\n",
    "After sorting, it becomes [0,1,9,16,100]\n",
    "\n",
    "</aside>"
   ]
  },
  {
   "cell_type": "raw",
   "id": "00b47373",
   "metadata": {},
   "source": [
    "Here's the step-by-step approach to solve this problem:\n",
    "\n",
    "1.Create an empty array called result to store the squared values.\n",
    "2.Initialize two pointers, left and right, pointing to the beginning and end of the given sorted array nums, respectively.\n",
    "3.While left is less than or equal to right, do the following:\n",
    "    .Compare the absolute values of nums[left] and nums[right].\n",
    "\n",
    "    .If abs(nums[left]) is greater than or equal to abs(nums[right]), square nums[left], append it to the front of result, and increment left by 1.\n",
    "\n",
    "    .Otherwise, square nums[right], append it to the front of result, and decrement right by 1.\n",
    "\n"
   ]
  },
  {
   "cell_type": "code",
   "execution_count": null,
   "id": "3c3e01a5",
   "metadata": {},
   "outputs": [],
   "source": [
    "nums = [-4,-1,0,3,10]\n",
    "result = []\n",
    "\n",
    "left = 0\n",
    "right = 4\n",
    "\n",
    "abs(nums[left]) = 4\n",
    "abs(nums[right]) = 10\n",
    "\n",
    "result = [100]\n",
    "\n",
    "left = 0\n",
    "right = 3\n",
    "\n",
    "abs(nums[left]) = 4\n",
    "abs(nums[right]) = 3\n",
    "\n",
    "result = [9, 100]\n",
    "\n",
    "left = 1\n",
    "right = 3\n",
    "\n",
    "abs(nums[left]) = 1\n",
    "abs(nums[right]) = 3\n",
    "\n",
    "result = [1, 9, 100]\n",
    "\n",
    "left = 2\n",
    "right = 3\n",
    "\n",
    "abs(nums[left]) = 0\n",
    "abs(nums[right]) = 3\n",
    "\n",
    "result = [0, 1, 9, 100]\n",
    "\n",
    "left = 2\n",
    "right = 2\n",
    "\n",
    "result = [0, 1, 9, 16, 100]\n"
   ]
  },
  {
   "cell_type": "code",
   "execution_count": null,
   "id": "41053ff0",
   "metadata": {},
   "outputs": [],
   "source": [
    "4.Return the result array"
   ]
  },
  {
   "cell_type": "code",
   "execution_count": 6,
   "id": "89b55c10",
   "metadata": {},
   "outputs": [
    {
     "name": "stdout",
     "output_type": "stream",
     "text": [
      "[0, 1, 9, 16, 100]\n"
     ]
    }
   ],
   "source": [
    "def sorted_squares(nums):\n",
    "    result = []\n",
    "    left = 0\n",
    "    right = len(nums) - 1\n",
    "\n",
    "    while left <= right:\n",
    "        if abs(nums[left]) >= abs(nums[right]):\n",
    "            result.insert(0, nums[left] ** 2)\n",
    "            left += 1\n",
    "        else:\n",
    "            result.insert(0, nums[right] ** 2)\n",
    "            right -= 1\n",
    "\n",
    "    return result\n",
    "#EXAMPLE USAGE\n",
    "nums = [-4, -1, 0, 3, 10]\n",
    "result = sorted_squares(nums)\n",
    "print(result)  \n"
   ]
  },
  {
   "cell_type": "markdown",
   "id": "ba01c872",
   "metadata": {},
   "source": [
    "## <aside>\n",
    "💡 **Question 8**\n",
    "\n",
    "Given the array nums consisting of 2n elements in the form [x1,x2,...,xn,y1,y2,...,yn].\n",
    "\n",
    "*Return the array in the form* [x1,y1,x2,y2,...,xn,yn].\n",
    "\n",
    "**Example 1:**\n",
    "\n",
    "**Input:** nums = [2,5,1,3,4,7], n = 3\n",
    "\n",
    "**Output:** [2,3,5,4,1,7]\n",
    "\n",
    "**Explanation:** Since x1=2, x2=5, x3=1, y1=3, y2=4, y3=7 then the answer is [2,3,5,4,1,7].\n",
    "\n",
    "</aside>"
   ]
  },
  {
   "cell_type": "raw",
   "id": "9fa41c34",
   "metadata": {},
   "source": [
    "the step-by-step approach to solve this problem:\n",
    "\n",
    "1.Create an empty array called result to store the reordered elements.\n",
    "2.Initialize two pointers, i and j, where i starts at index 0 and j starts at index n (the beginning of the second half).\n",
    "3.While i is less than n, do the following:\n",
    "\n",
    ".Append nums[i] to result.\n",
    "\n",
    ".Append nums[j] to result.\n",
    "\n",
    ".Increment i by 1.\n",
    "\n",
    ".Increment j by 1."
   ]
  },
  {
   "cell_type": "code",
   "execution_count": 8,
   "id": "1d622e7f",
   "metadata": {},
   "outputs": [],
   "source": [
    "nums = [2, 5, 1, 3, 4, 7]\n",
    "n = 3\n",
    "result = []\n",
    "\n",
    "i = 0\n",
    "j = 3\n",
    "\n",
    "result = [2, 3]\n",
    "\n",
    "i = 1\n",
    "j = 4\n",
    "\n",
    "result = [2, 3, 5, 4]\n",
    "\n",
    "i = 2\n",
    "j = 5\n",
    "\n",
    "result = [2, 3, 5, 4, 1, 7]\n"
   ]
  },
  {
   "cell_type": "markdown",
   "id": "aa8cb7d5",
   "metadata": {},
   "source": [
    "4.Return the result array.\n",
    "\n"
   ]
  },
  {
   "cell_type": "code",
   "execution_count": 11,
   "id": "2968dcb9",
   "metadata": {},
   "outputs": [
    {
     "name": "stdout",
     "output_type": "stream",
     "text": [
      "[2, 3, 5, 4, 1, 7]\n"
     ]
    }
   ],
   "source": [
    "def shuffle_array(nums, n):\n",
    "    result = []\n",
    "    i = 0\n",
    "    j = n\n",
    "\n",
    "    while i < n:\n",
    "        result.append(nums[i])\n",
    "        result.append(nums[j])\n",
    "        i += 1\n",
    "        j += 1\n",
    "\n",
    "    return result\n",
    "#EXAMPLE USAGE\n",
    "\n",
    "nums = [2, 5, 1, 3, 4, 7]\n",
    "n = 3\n",
    "result = shuffle_array(nums, n)\n",
    "print(result)\n"
   ]
  },
  {
   "cell_type": "code",
   "execution_count": null,
   "id": "598e4c42",
   "metadata": {},
   "outputs": [],
   "source": []
  }
 ],
 "metadata": {
  "kernelspec": {
   "display_name": "Python 3 (ipykernel)",
   "language": "python",
   "name": "python3"
  },
  "language_info": {
   "codemirror_mode": {
    "name": "ipython",
    "version": 3
   },
   "file_extension": ".py",
   "mimetype": "text/x-python",
   "name": "python",
   "nbconvert_exporter": "python",
   "pygments_lexer": "ipython3",
   "version": "3.10.7"
  }
 },
 "nbformat": 4,
 "nbformat_minor": 5
}
