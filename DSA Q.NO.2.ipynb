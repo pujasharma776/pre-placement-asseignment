{
 "cells": [
  {
   "cell_type": "markdown",
   "id": "d56d324d",
   "metadata": {},
   "source": [
    "# DSA Q.NO.2"
   ]
  },
  {
   "cell_type": "markdown",
   "id": "09c1018e",
   "metadata": {},
   "source": [
    "### Q.Implement a queue using a list in Python. Include the necessary methods such as enqueue, dequeue, and isEmpty."
   ]
  },
  {
   "cell_type": "markdown",
   "id": "5cbaa163",
   "metadata": {},
   "source": [
    "Ans:-Here's an implementation of a queue using a list in Python:"
   ]
  },
  {
   "cell_type": "code",
   "execution_count": 1,
   "id": "c5a22c01",
   "metadata": {},
   "outputs": [],
   "source": [
    "class Queue:\n",
    "    def __init__(self):\n",
    "        self.queue = []\n",
    "\n",
    "    def enqueue(self, item):\n",
    "        self.queue.append(item)\n",
    "\n",
    "    def dequeue(self):\n",
    "        if not self.isEmpty():\n",
    "            return self.queue.pop(0)\n",
    "        else:\n",
    "            raise IndexError(\"Queue is empty\")\n",
    "\n",
    "    def isEmpty(self):\n",
    "        return len(self.queue) == 0\n"
   ]
  },
  {
   "cell_type": "code",
   "execution_count": 2,
   "id": "5cdc5ff9",
   "metadata": {},
   "outputs": [
    {
     "name": "stdout",
     "output_type": "stream",
     "text": [
      "5\n",
      "10\n",
      "False\n",
      "15\n",
      "True\n"
     ]
    }
   ],
   "source": [
    "queue = Queue()\n",
    "queue.enqueue(5)\n",
    "queue.enqueue(10)\n",
    "queue.enqueue(15)\n",
    "\n",
    "print(queue.dequeue())  \n",
    "print(queue.dequeue())  \n",
    "print(queue.isEmpty())  \n",
    "print(queue.dequeue())  \n",
    "print(queue.isEmpty())  \n"
   ]
  },
  {
   "cell_type": "markdown",
   "id": "8e8f7e6a",
   "metadata": {},
   "source": [
    "This example demonstrates the usage of the enqueue, dequeue, and isEmpty methods on the queue object"
   ]
  },
  {
   "cell_type": "code",
   "execution_count": null,
   "id": "aae0867b",
   "metadata": {},
   "outputs": [],
   "source": []
  }
 ],
 "metadata": {
  "kernelspec": {
   "display_name": "Python 3 (ipykernel)",
   "language": "python",
   "name": "python3"
  },
  "language_info": {
   "codemirror_mode": {
    "name": "ipython",
    "version": 3
   },
   "file_extension": ".py",
   "mimetype": "text/x-python",
   "name": "python",
   "nbconvert_exporter": "python",
   "pygments_lexer": "ipython3",
   "version": "3.10.7"
  }
 },
 "nbformat": 4,
 "nbformat_minor": 5
}
