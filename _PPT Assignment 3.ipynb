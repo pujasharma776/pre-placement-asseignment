{
 "cells": [
  {
   "cell_type": "markdown",
   "id": "1202baf3",
   "metadata": {},
   "source": [
    "# Assignment 3"
   ]
  },
  {
   "cell_type": "markdown",
   "id": "d57f1e90",
   "metadata": {},
   "source": [
    "## Question 1\n",
    "Given an integer array nums of length n and an integer target, find three integers\n",
    "in nums such that the sum is closest to the target.\n",
    "Return the sum of the three integers.\n",
    "\n",
    "You may assume that each input would have exactly one solution.\n",
    "\n",
    "Example 1:\n",
    "Input: nums = [-1,2,1,-4], target = 1\n",
    "Output: 2\n",
    "\n",
    "Explanation: The sum that is closest to the target is 2. (-1 + 2 + 1 = 2)."
   ]
  },
  {
   "cell_type": "code",
   "execution_count": 1,
   "id": "d3fb2d9a",
   "metadata": {},
   "outputs": [
    {
     "name": "stdout",
     "output_type": "stream",
     "text": [
      "2\n"
     ]
    }
   ],
   "source": [
    "def threeSumClosest(nums, target):\n",
    "    nums.sort()\n",
    "    n = len(nums)\n",
    "    closestSum = float('inf')\n",
    "\n",
    "    for i in range(n - 2):\n",
    "        left = i + 1\n",
    "        right = n - 1\n",
    "\n",
    "        while left < right:\n",
    "            currentSum = nums[i] + nums[left] + nums[right]\n",
    "\n",
    "            if currentSum == target:\n",
    "                return target\n",
    "\n",
    "            if abs(currentSum - target) < abs(closestSum - target):\n",
    "                closestSum = currentSum\n",
    "\n",
    "            if currentSum < target:\n",
    "                left += 1\n",
    "            else:\n",
    "                right -= 1\n",
    "\n",
    "    return closestSum\n",
    "\n",
    "#EXAMPLE USAGE\n",
    "nums = [-1, 2, 1, -4]\n",
    "target = 1\n",
    "result = threeSumClosest(nums, target)\n",
    "print(result)  \n"
   ]
  },
  {
   "cell_type": "raw",
   "id": "52512c23",
   "metadata": {},
   "source": [
    " three integers in the given array nums whose sum is closest to the target, follow these steps:\n",
    "        \n",
    "1.Sort the array nums in ascending order.\n",
    "2.Initialize a variable closestSum to store the closest sum found so far. Set it to a large value, such as infinity.\n",
    "3.Iterate over the array nums from the first element to the second-to-last element (up to n-2).\n",
    ".For each element at index i, set two pointers, left and right, initially pointing to the elements at indices i+1 and n-1 respectively.\n",
    ".While left is less than right, calculate the current sum by adding nums[i], nums[left], and nums[right].\n",
    ".If the absolute difference between the current sum and the target is smaller than the absolute difference between closestSum and the target, update closestSum to the current sum.\n",
    ".If the current sum is less than the target, increment left to explore larger values.\n",
    ".If the current sum is greater than the target, decrement right to explore smaller values.\n",
    ".If the current sum is equal to the target, return the target sum since we found an exact match.\n",
    "4..After the loop ends, return closestSum as the sum of the three integers closest to the target."
   ]
  },
  {
   "cell_type": "markdown",
   "id": "1c500c12",
   "metadata": {},
   "source": [
    "## Question 4\n",
    "Given a sorted array of distinct integers and a target value, return the index if the\n",
    "target is found. If not, return the index where it would be if it were inserted in\n",
    "order.\n",
    "You must write an algorithm with O(log n) runtime complexity.\n",
    "\n",
    "Example 1:\n",
    "Input: nums = [1,3,5,6], target = 5\n",
    "Output: 2"
   ]
  },
  {
   "cell_type": "code",
   "execution_count": 3,
   "id": "b786185b",
   "metadata": {},
   "outputs": [
    {
     "name": "stdout",
     "output_type": "stream",
     "text": [
      "2\n"
     ]
    }
   ],
   "source": [
    "def searchInsert(nums, target):\n",
    "    left = 0\n",
    "    right = len(nums) - 1\n",
    "\n",
    "    while left <= right:\n",
    "        mid = left + (right - left) // 2\n",
    "\n",
    "        if nums[mid] == target:\n",
    "            return mid\n",
    "        elif nums[mid] > target:\n",
    "            right = mid - 1\n",
    "        else:\n",
    "            left = mid + 1\n",
    "\n",
    "    return left\n",
    "#EXAMPLE USAGE\n",
    "nums = [1, 3, 5, 6]\n",
    "target = 5\n",
    "result = searchInsert(nums, target)\n",
    "print(result)  \n"
   ]
  },
  {
   "cell_type": "raw",
   "id": "f3d45bac",
   "metadata": {},
   "source": [
    " algorithm to solve this problem with O(log n) runtime complexity:\n",
    "    \n",
    "1.Initialize two pointers, left and right, pointing to the start and end of the array nums respectively.\n",
    "2.While left is less than or equal to right:\n",
    ".Calculate the middle index as mid using the formula: mid = left + (right - left) // 2.\n",
    ".If the value at nums[mid] is equal to the target, return mid as the index where the target value should be inserted.\n",
    ".If the value at nums[mid] is greater than the target, update right to mid - 1 to search the left half of the array.\n",
    ".If the value at nums[mid] is less than the target, update left to mid + 1 to search the right half of the array.\n",
    "3.If the target is not found in the array, return left as the index where the target should be inserted to maintain the sorted order."
   ]
  },
  {
   "cell_type": "markdown",
   "id": "cd957a63",
   "metadata": {},
   "source": [
    "## <aside>\n",
    "💡 **Question 5**\n",
    "You are given a large integer represented as an integer array digits, where each\n",
    "digits[i] is the ith digit of the integer. The digits are ordered from most significant\n",
    "to least significant in left-to-right order. The large integer does not contain any\n",
    "leading 0's.\n",
    "\n",
    "Increment the large integer by one and return the resulting array of digits.\n",
    "\n",
    "**Example 1:**\n",
    "Input: digits = [1,2,3]\n",
    "Output: [1,2,4]\n",
    "\n",
    "**Explanation:** The array represents the integer 123.\n",
    "Incrementing by one gives 123 + 1 = 124.\n",
    "Thus, the result should be [1,2,4].\n",
    "\n",
    "</aside>"
   ]
  },
  {
   "cell_type": "code",
   "execution_count": 4,
   "id": "33e5663c",
   "metadata": {},
   "outputs": [
    {
     "name": "stdout",
     "output_type": "stream",
     "text": [
      "[1, 2, 4]\n"
     ]
    }
   ],
   "source": [
    "def plusOne(digits):\n",
    "    n = len(digits)\n",
    "\n",
    "    for i in range(n - 1, -1, -1):\n",
    "        digits[i] += 1\n",
    "\n",
    "        if digits[i] == 10:\n",
    "            digits[i] = 0\n",
    "        else:\n",
    "            return digits\n",
    "\n",
    "    digits.insert(0, 1)\n",
    "    return digits\n",
    "#EXAMPLE USAGE\n",
    "digits = [1, 2, 3]\n",
    "result = plusOne(digits)\n",
    "print(result)  # Output: [1, 2, 4]\n"
   ]
  },
  {
   "cell_type": "raw",
   "id": "1f44c43b",
   "metadata": {},
   "source": [
    "To increment a large integer represented as an array of digits, we can follow these steps:\n",
    "\n",
    "1.Start iterating from the rightmost digit in the digits array.\n",
    "2.Increment the rightmost digit by 1.\n",
    "3.If the digit becomes 10 after incrementing, set it to 0 and carry over the value of 1 to the next left digit.\n",
    "4.Repeat step 3 until either there are no more digits to process or the carried-over value becomes 0.\n",
    "5.If the carried-over value is still 1 after iterating through all the digits, insert it as a new digit at the beginning of the array.\n",
    "6.Return the updated digits array."
   ]
  },
  {
   "cell_type": "markdown",
   "id": "75d7be9a",
   "metadata": {},
   "source": [
    "## Question 6\n",
    "Given a non-empty array of integers nums, every element appears twice except\n",
    "for one. Find that single one.\n",
    "\n",
    "You must implement a solution with a linear runtime complexity and use only\n",
    "constant extra space.\n",
    "\n",
    "Example 1:\n",
    "Input: nums = [2,2,1]\n",
    "Output: 1"
   ]
  },
  {
   "cell_type": "code",
   "execution_count": 5,
   "id": "1b6aa3e1",
   "metadata": {},
   "outputs": [
    {
     "name": "stdout",
     "output_type": "stream",
     "text": [
      "1\n"
     ]
    }
   ],
   "source": [
    "def singleNumber(nums):\n",
    "    result = 0\n",
    "\n",
    "    for num in nums:\n",
    "        result ^= num\n",
    "\n",
    "    return result\n",
    "\n",
    "#EXAMPLE USAGE\n",
    "nums = [2, 2, 1]\n",
    "result = singleNumber(nums)\n",
    "print(result)  \n",
    "\n"
   ]
  },
  {
   "cell_type": "raw",
   "id": "817ae067",
   "metadata": {},
   "source": [
    " The algorithm to find the single element with linear runtime complexity and constant extra space:\n",
    "\n",
    "1.Initialize a variable result to 0.\n",
    "2.Iterate through the array nums and perform the XOR operation between result and each element in nums.\n",
    "3.After the loop ends, the value of result will be the element that appears only once.\n",
    "4.Return result."
   ]
  },
  {
   "cell_type": "markdown",
   "id": "0bf72753",
   "metadata": {},
   "source": [
    "## Question 8\n",
    "Given an array of meeting time intervals where intervals[i] = [starti, endi],\n",
    "determine if a person could attend all meetings.\n",
    "\n",
    "Example 1:\n",
    "Input: intervals = [[0,30],[5,10],[15,20]]\n",
    "Output: false"
   ]
  },
  {
   "cell_type": "code",
   "execution_count": 6,
   "id": "a4e2db75",
   "metadata": {},
   "outputs": [
    {
     "name": "stdout",
     "output_type": "stream",
     "text": [
      "False\n"
     ]
    }
   ],
   "source": [
    "def canAttendMeetings(intervals):\n",
    "    intervals.sort(key=lambda x: x[0])  # Sort intervals based on start time\n",
    "\n",
    "    for i in range(1, len(intervals)):\n",
    "        if intervals[i][0] < intervals[i - 1][1]:\n",
    "            return False\n",
    "\n",
    "    return True\n",
    "#EXAMPLE USAGE\n",
    "intervals = [[0, 30], [5, 10], [15, 20]]\n",
    "result = canAttendMeetings(intervals)\n",
    "print(result)  \n"
   ]
  },
  {
   "cell_type": "raw",
   "id": "d9f493a9",
   "metadata": {},
   "source": [
    " The algorithm to check for overlapping intervals:\n",
    "        \n",
    "1.Sort the intervals based on the start time in ascending order.\n",
    "2.Iterate through the sorted intervals starting from the second interval.\n",
    "3.For each interval, compare the start time with the end time of the previous interval.\n",
    "If the start time is less than or equal to the previous end time, there is an overlap, and the person cannot attend all meetings. Return False.\n",
    "If there is no overlap, continue to the next interval.\n",
    "4.If the loop completes without finding any overlaps, the person can attend all meetings. Return True."
   ]
  },
  {
   "cell_type": "code",
   "execution_count": null,
   "id": "88f73a77",
   "metadata": {},
   "outputs": [],
   "source": []
  }
 ],
 "metadata": {
  "kernelspec": {
   "display_name": "Python 3 (ipykernel)",
   "language": "python",
   "name": "python3"
  },
  "language_info": {
   "codemirror_mode": {
    "name": "ipython",
    "version": 3
   },
   "file_extension": ".py",
   "mimetype": "text/x-python",
   "name": "python",
   "nbconvert_exporter": "python",
   "pygments_lexer": "ipython3",
   "version": "3.10.7"
  }
 },
 "nbformat": 4,
 "nbformat_minor": 5
}
