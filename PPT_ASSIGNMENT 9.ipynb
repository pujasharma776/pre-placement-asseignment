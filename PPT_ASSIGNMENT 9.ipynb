{
 "cells": [
  {
   "cell_type": "markdown",
   "id": "0272e55f",
   "metadata": {},
   "source": [
    "# PPT_ASSIGNMENT 9"
   ]
  },
  {
   "cell_type": "markdown",
   "id": "127926ab",
   "metadata": {},
   "source": [
    "## <aside>\n",
    "💡 **Question 1**\n",
    "\n",
    "Given an integer `n`, return *`true` if it is a power of two. Otherwise, return `false`*.\n",
    "\n",
    "An integer `n` is a power of two, if there exists an integer `x` such that `n == 2x`.\n",
    "\n",
    "**Example 1:**\n",
    "Input: n = 1 \n",
    "\n",
    "Output: true\n",
    "\n",
    "**Example 2:**\n",
    "Input: n = 16 \n",
    "\n",
    "Output: true\n",
    "\n",
    "**Example 3:**\n",
    "Input: n = 3 \n",
    "\n",
    "Output: false\n",
    "\n",
    "</aside>"
   ]
  },
  {
   "cell_type": "raw",
   "id": "c89cad3c",
   "metadata": {},
   "source": [
    " Ans:-if an integer n is a power of two, we can check if n is positive\n",
    "Here's an approach:-\n",
    "1.Check if n is positive. If it is not, return False since negative numbers and zero are not powers of two.\n",
    "2.Check if n has only one bit set to 1. To do this, we can use the bitwise AND operation n & (n - 1). If the result is 0, it means n has only one bit set to 1.\n",
    "3.f the above conditions are satisfied, return True. Otherwise, return False.\n"
   ]
  },
  {
   "cell_type": "code",
   "execution_count": 3,
   "id": "6772c8ae",
   "metadata": {},
   "outputs": [],
   "source": [
    "def isPowerOfTwo(n):\n",
    "    if n <= 0:\n",
    "        return False\n",
    "    \n",
    "    return n & (n - 1) == 0\n",
    "\n"
   ]
  },
  {
   "cell_type": "raw",
   "id": "a6c9454a",
   "metadata": {},
   "source": [
    "Using the given examples:\n",
    "\n",
    "isPowerOfTwo(1) will return True as the output.\n",
    "isPowerOfTwo(16) will return True as the output.\n",
    "isPowerOfTwo(3) will return False as the output."
   ]
  },
  {
   "cell_type": "markdown",
   "id": "218532b8",
   "metadata": {},
   "source": [
    "## <aside>\n",
    "💡 **Question 2**\n",
    "\n",
    "Given a number n, find the sum of the first natural numbers.\n",
    "\n",
    "**Example 1:**\n",
    "\n",
    "Input: n = 3 \n",
    "\n",
    "Output: 6\n",
    "\n",
    "**Example 2:**\n",
    "\n",
    "Input  : 5 \n",
    "\n",
    "Output : 15\n",
    "\n",
    "</aside>"
   ]
  },
  {
   "cell_type": "raw",
   "id": "db12352e",
   "metadata": {},
   "source": [
    "Ans:-using the formula: sum = n * (n + 1) / 2.\n",
    "    Here's an approach :-\n",
    "    1.Calculate the sum using the formula sum = n * (n + 1) / 2.\n",
    "\n",
    "    2.Return the calculated sum.\n",
    "    "
   ]
  },
  {
   "cell_type": "code",
   "execution_count": 5,
   "id": "80255091",
   "metadata": {},
   "outputs": [],
   "source": [
    "def sumOfFirstNNumbers(n):\n",
    "    sum = n * (n + 1) // 2\n",
    "    return sum\n"
   ]
  },
  {
   "cell_type": "raw",
   "id": "1626c694",
   "metadata": {},
   "source": [
    "Using the given examples:\n",
    "\n",
    "sumOfFirstNNumbers(3) will return 6 as the output.\n",
    "sumOfFirstNNumbers(5) will return 15 as the output."
   ]
  },
  {
   "cell_type": "markdown",
   "id": "9c7985a8",
   "metadata": {},
   "source": [
    "## <aside>\n",
    "💡 **Question 3**\n",
    "\n",
    "****Given a positive integer, N. Find the factorial of N. \n",
    "\n",
    "**Example 1:**\n",
    "\n",
    "Input: N = 5 \n",
    "\n",
    "Output: 120\n",
    "\n",
    "**Example 2:**\n",
    "\n",
    "Input: N = 4\n",
    "\n",
    "Output: 24\n",
    "\n",
    "</aside>"
   ]
  },
  {
   "cell_type": "raw",
   "id": "ff84693d",
   "metadata": {},
   "source": [
    "Ans:-Here's an approach \n",
    "    \n",
    "1.Initialize a variable factorial with a value of 1.\n",
    "\n",
    "2.Iterate from 1 to N using a loop.\n",
    "\n",
    "3.Multiply factorial by the current number in each iteration.\n",
    "\n",
    "4.After the loop completes, the value of factorial will be the factorial of N.\n",
    "\n",
    "5.Return the value of factorial."
   ]
  },
  {
   "cell_type": "code",
   "execution_count": 8,
   "id": "0655f5d4",
   "metadata": {},
   "outputs": [],
   "source": [
    "def factorial(N):\n",
    "    factorial = 1\n",
    "    for i in range(1, N + 1):\n",
    "        factorial *= i\n",
    "    return factorial\n"
   ]
  },
  {
   "cell_type": "raw",
   "id": "42dba111",
   "metadata": {},
   "source": [
    "Using the given examples:\n",
    "\n",
    ".factorial(5) will return 120 as the output.\n",
    ".factorial(4) will return 24 as the output."
   ]
  },
  {
   "cell_type": "markdown",
   "id": "c806aacd",
   "metadata": {},
   "source": [
    "## <aside>\n",
    "💡 **Question 4**\n",
    "\n",
    "Given a number N and a power P, the task is to find the exponent of this number raised to the given power, i.e. N^P.\n",
    "\n",
    "**Example 1 :** \n",
    "\n",
    "Input: N = 5, P = 2\n",
    "\n",
    "Output: 25\n",
    "\n",
    "**Example 2 :**\n",
    "Input: N = 2, P = 5\n",
    "\n",
    "Output: 32\n",
    "\n",
    "</aside>"
   ]
  },
  {
   "cell_type": "raw",
   "id": "bdfeddf1",
   "metadata": {},
   "source": [
    "Ans:-Approach:-\n",
    "1.Initialize a variable result with a value of 1.\n",
    "\n",
    "2.Iterate P times using a loop.\n",
    "\n",
    "3.Multiply result by N in each iteration.\n",
    "\n",
    "4.After the loop completes, the value of result will be N raised to the power P.\n",
    "\n",
    "5.Return the value of result."
   ]
  },
  {
   "cell_type": "code",
   "execution_count": 11,
   "id": "2b537390",
   "metadata": {},
   "outputs": [],
   "source": [
    "def exponent(N, P):\n",
    "    result = 1\n",
    "    for _ in range(P):\n",
    "        result *= N\n",
    "    return result\n"
   ]
  },
  {
   "cell_type": "raw",
   "id": "0d3fd314",
   "metadata": {},
   "source": [
    "Using the given examples:\n",
    "\n",
    "exponent(5, 2) will return 25 as the output.\n",
    "exponent(2, 5) will return 32 as the output."
   ]
  },
  {
   "cell_type": "markdown",
   "id": "7690b9a7",
   "metadata": {},
   "source": [
    "## <aside>\n",
    "💡 **Question 5**\n",
    "\n",
    "Given an array of integers **arr**, the task is to find maximum element of that array using recursion.\n",
    "\n",
    "**Example 1:**\n",
    "\n",
    "Input: arr = {1, 4, 3, -5, -4, 8, 6};\n",
    "Output: 8\n",
    "\n",
    "**Example 2:**\n",
    "\n",
    "Input: arr = {1, 4, 45, 6, 10, -8};\n",
    "Output: 45\n",
    "\n",
    "</aside>"
   ]
  },
  {
   "cell_type": "raw",
   "id": "717deb38",
   "metadata": {},
   "source": [
    "Ans:-Here's an approach:-\n",
    "   1.If the length of arr is 1, return the single element as the maximum.\n",
    "\n",
    "   2.Divide the array arr into two halves, left and right.\n",
    "\n",
    "3.Recursively find the maximum element in the left half of the array by calling the function with arr[:mid], where mid is the midpoint of the array.\n",
    "\n",
    "4.Recursively find the maximum element in the right half of the array by calling the function with arr[mid:], where mid is the midpoint of the array.\n",
    "\n",
    "5.Compare the maximum elements of the left and right halves, and return the larger one as the maximum of the array."
   ]
  },
  {
   "cell_type": "code",
   "execution_count": 12,
   "id": "2ed8a92f",
   "metadata": {},
   "outputs": [],
   "source": [
    "def findMax(arr):\n",
    "    if len(arr) == 1:\n",
    "        return arr[0]\n",
    "    \n",
    "    mid = len(arr) // 2\n",
    "    left_max = findMax(arr[:mid])\n",
    "    right_max = findMax(arr[mid:])\n",
    "    \n",
    "    return max(left_max, right_max)\n"
   ]
  },
  {
   "cell_type": "raw",
   "id": "2cf34848",
   "metadata": {},
   "source": [
    "Using the given examples:\n",
    "\n",
    "findMax([1, 4, 3, -5, -4, 8, 6]) will return 8 as the output.\n",
    "findMax([1, 4, 45, 6, 10, -8]) will return 45 as the output."
   ]
  },
  {
   "cell_type": "markdown",
   "id": "9bda46b9",
   "metadata": {},
   "source": [
    "## <aside>\n",
    "💡 **Question 8**\n",
    "\n",
    "Given an array, find a product of all array elements.\n",
    "\n",
    "**Example 1:**\n",
    "\n",
    "Input  : arr[] = {1, 2, 3, 4, 5}\n",
    "Output : 120\n",
    "**Example 2:**\n",
    "\n",
    "Input  : arr[] = {1, 6, 3}\n",
    "Output : 18\n",
    "\n",
    "</aside>"
   ]
  },
  {
   "cell_type": "raw",
   "id": "ca2f876c",
   "metadata": {},
   "source": [
    "Ans:-Here's an approach\n",
    "1.Initialize a variable product with a value of 1.\n",
    "\n",
    "2.Iterate through each element in the array.\n",
    "\n",
    "3.Multiply the current element with the product and update the product value.\n",
    "\n",
    "4.After the loop completes, the value of product will be the product of all array elements.\n",
    "\n",
    "5.Return the value of product.\n",
    "\n"
   ]
  },
  {
   "cell_type": "code",
   "execution_count": 14,
   "id": "f59eea24",
   "metadata": {},
   "outputs": [],
   "source": [
    "def productOfArray(arr):\n",
    "    product = 1\n",
    "    for num in arr:\n",
    "        product *= num\n",
    "    return product\n"
   ]
  },
  {
   "cell_type": "raw",
   "id": "1c23969e",
   "metadata": {},
   "source": [
    "# Using the given examples:\n",
    "\n",
    "productOfArray([1, 2, 3, 4, 5]) will return 120 as the output.\n",
    "productOfArray([1, 6, 3]) will return 18 as the output."
   ]
  },
  {
   "cell_type": "code",
   "execution_count": null,
   "id": "e00406a6",
   "metadata": {},
   "outputs": [],
   "source": []
  }
 ],
 "metadata": {
  "kernelspec": {
   "display_name": "Python 3 (ipykernel)",
   "language": "python",
   "name": "python3"
  },
  "language_info": {
   "codemirror_mode": {
    "name": "ipython",
    "version": 3
   },
   "file_extension": ".py",
   "mimetype": "text/x-python",
   "name": "python",
   "nbconvert_exporter": "python",
   "pygments_lexer": "ipython3",
   "version": "3.10.7"
  }
 },
 "nbformat": 4,
 "nbformat_minor": 5
}
