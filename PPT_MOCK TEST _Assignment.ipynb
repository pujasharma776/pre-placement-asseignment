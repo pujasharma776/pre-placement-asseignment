{
 "cells": [
  {
   "cell_type": "markdown",
   "id": "7aca2a83",
   "metadata": {},
   "source": [
    "# PPT_MOCK TEST _Assignment"
   ]
  },
  {
   "cell_type": "markdown",
   "id": "ade82841",
   "metadata": {},
   "source": [
    "## 17. Write a function that takes a list of numbers as input and returns a new list containing only the even numbers from the input list. Use list comprehension to solve this problem.\n",
    "\n",
    "Example:\n",
    "\n",
    "Input: [1, 2, 3, 4, 5, 6, 7, 8, 9, 10]\n",
    "\n",
    "Output: [2, 4, 6, 8, 10]"
   ]
  },
  {
   "cell_type": "markdown",
   "id": "8b18caca",
   "metadata": {},
   "source": [
    "Ans:-Here's a Python function that takes a list of numbers as input and returns a new list containing only the even numbers using list comprehension\n"
   ]
  },
  {
   "cell_type": "code",
   "execution_count": 1,
   "id": "ef69780a",
   "metadata": {},
   "outputs": [],
   "source": [
    "def get_even_numbers(numbers):\n",
    "    return [num for num in numbers if num % 2 == 0]\n"
   ]
  },
  {
   "cell_type": "markdown",
   "id": "9731680e",
   "metadata": {},
   "source": [
    "Explanation:\n",
    "\n",
    "* The function get_even_numbers takes the input list numbers.\n",
    "* Inside the list comprehension, we iterate over each num in numbers.\n",
    "* The condition num % 2 == 0 checks if the number is even.\n",
    "* If the condition is True, the number is added to the new list.\n",
    "* Finally, the function returns the new list containing only the even numbers."
   ]
  },
  {
   "cell_type": "markdown",
   "id": "088aaf66",
   "metadata": {},
   "source": [
    "### Example usage:"
   ]
  },
  {
   "cell_type": "code",
   "execution_count": 2,
   "id": "0b1ea810",
   "metadata": {},
   "outputs": [
    {
     "name": "stdout",
     "output_type": "stream",
     "text": [
      "[2, 4, 6, 8, 10]\n"
     ]
    }
   ],
   "source": [
    "input_list = [1, 2, 3, 4, 5, 6, 7, 8, 9, 10]\n",
    "output_list = get_even_numbers(input_list)\n",
    "print(output_list)\n"
   ]
  },
  {
   "cell_type": "code",
   "execution_count": null,
   "id": "e34198d0",
   "metadata": {},
   "outputs": [],
   "source": []
  }
 ],
 "metadata": {
  "kernelspec": {
   "display_name": "Python 3 (ipykernel)",
   "language": "python",
   "name": "python3"
  },
  "language_info": {
   "codemirror_mode": {
    "name": "ipython",
    "version": 3
   },
   "file_extension": ".py",
   "mimetype": "text/x-python",
   "name": "python",
   "nbconvert_exporter": "python",
   "pygments_lexer": "ipython3",
   "version": "3.10.7"
  }
 },
 "nbformat": 4,
 "nbformat_minor": 5
}
