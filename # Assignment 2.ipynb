{
 "cells": [
  {
   "cell_type": "markdown",
   "id": "16df9680",
   "metadata": {},
   "source": [
    "# Assignment 2"
   ]
  },
  {
   "cell_type": "markdown",
   "id": "1f7d27c3",
   "metadata": {},
   "source": [
    "## <aside>\n",
    "💡 **Question 1**\n",
    "Given an integer array nums of 2n integers, group these integers into n pairs (a1, b1), (a2, b2),..., (an, bn) such that the sum of min(ai, bi) for all i is maximized. Return the maximized sum.\n",
    "\n",
    "**Example 1:**\n",
    "Input: nums = [1,4,3,2]\n",
    "Output: 4\n",
    "\n",
    "**Explanation:** All possible pairings (ignoring the ordering of elements) are:\n",
    "\n",
    "1. (1, 4), (2, 3) -> min(1, 4) + min(2, 3) = 1 + 2 = 3\n",
    "2. (1, 3), (2, 4) -> min(1, 3) + min(2, 4) = 1 + 2 = 3\n",
    "3. (1, 2), (3, 4) -> min(1, 2) + min(3, 4) = 1 + 3 = 4\n",
    "So the maximum possible sum is 4\n",
    "</aside>"
   ]
  },
  {
   "cell_type": "code",
   "execution_count": 1,
   "id": "4e5acc71",
   "metadata": {},
   "outputs": [
    {
     "name": "stdout",
     "output_type": "stream",
     "text": [
      "4\n"
     ]
    }
   ],
   "source": [
    "def arrayPairSum(nums):\n",
    "    nums.sort()  # Sort the array in ascending order\n",
    "    \n",
    "    max_sum = 0\n",
    "    \n",
    "    # Sum every alternate element starting from the first element\n",
    "    for i in range(0, len(nums), 2):\n",
    "        max_sum += nums[i]\n",
    "    \n",
    "    return max_sum\n",
    "#Example usage\n",
    "nums = [1, 4, 3, 2]\n",
    "\n",
    "result = arrayPairSum(nums)\n",
    "print(result)  # Output: 4\n"
   ]
  },
  {
   "cell_type": "markdown",
   "id": "cab83295",
   "metadata": {},
   "source": [
    " the function returns 4 because the maximum possible sum of the minimum values in pairs is achieved by pairing (1, 2) and (3, 4), resulting in min(1, 2) + min(3, 4) = 1 + 3 = 4."
   ]
  },
  {
   "cell_type": "markdown",
   "id": "46c5bfb7",
   "metadata": {},
   "source": [
    "## Question 2\n",
    "Alice has n candies, where the ith candy is of type candyType[i]. Alice noticed that she started to gain weight, so she visited a doctor. \n",
    "\n",
    "The doctor advised Alice to only eat n / 2 of the candies she has (n is always even). Alice likes her candies very much, and she wants to eat the maximum number of different types of candies while still following the doctor's advice. \n",
    "\n",
    "Given the integer array candyType of length n, return the maximum number of different types of candies she can eat if she only eats n / 2 of them.\n",
    "\n",
    "Example 1:\n",
    "Input: candyType = [1,1,2,2,3,3]\n",
    "Output: 3\n",
    "\n",
    "Explanation: Alice can only eat 6 / 2 = 3 candies. Since there are only 3 types, she can eat one of each type."
   ]
  },
  {
   "cell_type": "code",
   "execution_count": 2,
   "id": "c3795d7f",
   "metadata": {},
   "outputs": [
    {
     "name": "stdout",
     "output_type": "stream",
     "text": [
      "3\n"
     ]
    }
   ],
   "source": [
    "def distributeCandies(candyType):\n",
    "    # Count the number of unique candy types\n",
    "    unique_types = len(set(candyType))\n",
    "    \n",
    "    # Calculate the maximum number of different types Alice can eat\n",
    "    max_types = min(unique_types, len(candyType) // 2)\n",
    "    \n",
    "    return max_types\n",
    "\n",
    "#Example usage\n",
    "candyType = [1, 1, 2, 2, 3, 3]\n",
    "\n",
    "result = distributeCandies(candyType)\n",
    "print(result)  # Output: 3\n",
    "\n"
   ]
  },
  {
   "cell_type": "markdown",
   "id": "28a525b1",
   "metadata": {},
   "source": [
    "## Question 3\n",
    "We define a harmonious array as an array where the difference between its maximum value\n",
    "and its minimum value is exactly 1.\n",
    "\n",
    "Given an integer array nums, return the length of its longest harmonious subsequence\n",
    "among all its possible subsequences.\n",
    "\n",
    "A subsequence of an array is a sequence that can be derived from the array by deleting some or no elements without changing the order of the remaining elements.\n",
    "\n",
    "Example 1:\n",
    "Input: nums = [1,3,2,2,5,2,3,7]\n",
    "Output: 5\n",
    "\n",
    "Explanation: The longest harmonious subsequence is [3,2,2,2,3]."
   ]
  },
  {
   "cell_type": "code",
   "execution_count": 3,
   "id": "f1d0e0fd",
   "metadata": {},
   "outputs": [
    {
     "name": "stdout",
     "output_type": "stream",
     "text": [
      "5\n"
     ]
    }
   ],
   "source": [
    "def findLHS(nums):\n",
    "    num_freq = {}\n",
    "    max_length = 0\n",
    "    \n",
    "    # Count the frequency of each number\n",
    "    for num in nums:\n",
    "        num_freq[num] = num_freq.get(num, 0) + 1\n",
    "    \n",
    "    # Find the length of the longest harmonious subsequence\n",
    "    for num in num_freq:\n",
    "        if num + 1 in num_freq:\n",
    "            max_length = max(max_length, num_freq[num] + num_freq[num + 1])\n",
    "    \n",
    "    return max_length\n",
    "#Example usage\n",
    "nums = [1, 3, 2, 2, 5, 2, 3, 7]\n",
    "\n",
    "result = findLHS(nums)\n",
    "print(result)  # Output: 5\n"
   ]
  },
  {
   "cell_type": "markdown",
   "id": "77f1c288",
   "metadata": {},
   "source": [
    "## Question 4\n",
    "You have a long flowerbed in which some of the plots are planted, and some are not.\n",
    "However, flowers cannot be planted in adjacent plots.\n",
    "Given an integer array flowerbed containing 0's and 1's, where 0 means empty and 1 means not empty, and an integer n, return true if n new flowers can be planted in the flowerbed without violating the no-adjacent-flowers rule and false otherwise.\n",
    "\n",
    "Example 1:\n",
    "Input: flowerbed = [1,0,0,0,1], n = 1\n",
    "Output: true"
   ]
  },
  {
   "cell_type": "code",
   "execution_count": 4,
   "id": "c12eb3e2",
   "metadata": {},
   "outputs": [
    {
     "name": "stdout",
     "output_type": "stream",
     "text": [
      "True\n"
     ]
    }
   ],
   "source": [
    "def canPlaceFlowers(flowerbed, n):\n",
    "    count = 0\n",
    "    i = 0\n",
    "    while i < len(flowerbed):\n",
    "        # Check if the current plot is empty and its adjacent plots are also empty\n",
    "        if flowerbed[i] == 0 and (i == 0 or flowerbed[i - 1] == 0) and (i == len(flowerbed) - 1 or flowerbed[i + 1] == 0):\n",
    "            flowerbed[i] = 1  # Plant a flower in the current plot\n",
    "            count += 1\n",
    "            if count >= n:\n",
    "                return True\n",
    "        i += 1\n",
    "    \n",
    "    return count >= n\n",
    "\n",
    "#Example usage\n",
    "flowerbed = [1, 0, 0, 0, 1]\n",
    "n = 1\n",
    "\n",
    "result = canPlaceFlowers(flowerbed, n)\n",
    "print(result)  # Output: True\n"
   ]
  },
  {
   "cell_type": "markdown",
   "id": "72d33cd3",
   "metadata": {},
   "source": [
    "## Question 5\n",
    "Given an integer array nums, find three numbers whose product is maximum and return the maximum product.\n",
    "\n",
    "Example 1:\n",
    "Input: nums = [1,2,3]\n",
    "Output: 6"
   ]
  },
  {
   "cell_type": "code",
   "execution_count": 5,
   "id": "0ae56234",
   "metadata": {},
   "outputs": [
    {
     "name": "stdout",
     "output_type": "stream",
     "text": [
      "6\n"
     ]
    }
   ],
   "source": [
    "def maximumProduct(nums):\n",
    "    nums.sort()\n",
    "    n = len(nums)\n",
    "    \n",
    "    # Maximum product can be either the product of three largest numbers or two smallest numbers with the largest number\n",
    "    return max(nums[n-1] * nums[n-2] * nums[n-3], nums[0] * nums[1] * nums[n-1])\n",
    "\n",
    "#Example usage\n",
    "nums = [1, 2, 3]\n",
    "\n",
    "result = maximumProduct(nums)\n",
    "print(result)  # Output: 6\n"
   ]
  },
  {
   "cell_type": "markdown",
   "id": "6a3f1d2a",
   "metadata": {},
   "source": [
    "## Question 6\n",
    "Given an array of integers nums which is sorted in ascending order, and an integer target,\n",
    "write a function to search target in nums. If target exists, then return its index. Otherwise,\n",
    "return -1.\n",
    "\n",
    "You must write an algorithm with O(log n) runtime complexity.\n",
    "\n",
    "Input: nums = [-1,0,3,5,9,12], target = 9\n",
    "Output: 4"
   ]
  },
  {
   "cell_type": "code",
   "execution_count": 6,
   "id": "365f0d72",
   "metadata": {},
   "outputs": [
    {
     "name": "stdout",
     "output_type": "stream",
     "text": [
      "4\n"
     ]
    }
   ],
   "source": [
    "def search(nums, target):\n",
    "    left = 0\n",
    "    right = len(nums) - 1\n",
    "    \n",
    "    while left <= right:\n",
    "        mid = (left + right) // 2\n",
    "        \n",
    "        if nums[mid] == target:\n",
    "            return mid\n",
    "        elif nums[mid] < target:\n",
    "            left = mid + 1\n",
    "        else:\n",
    "            right = mid - 1\n",
    "    \n",
    "    return -1\n",
    "#Example usage\n",
    "nums = [-1, 0, 3, 5, 9, 12]\n",
    "target = 9\n",
    "\n",
    "result = search(nums, target)\n",
    "print(result)  # Output: 4\n",
    "\n"
   ]
  },
  {
   "cell_type": "markdown",
   "id": "474141db",
   "metadata": {},
   "source": [
    "## Question 7\n",
    "An array is monotonic if it is either monotone increasing or monotone decreasing.\n",
    "\n",
    "An array nums is monotone increasing if for all i <= j, nums[i] <= nums[j]. An array nums is\n",
    "monotone decreasing if for all i <= j, nums[i] >= nums[j].\n",
    "\n",
    "Given an integer array nums, return true if the given array is monotonic, or false otherwise.\n",
    "\n",
    "Example 1:\n",
    "Input: nums = [1,2,2,3]\n",
    "Output: true"
   ]
  },
  {
   "cell_type": "code",
   "execution_count": 7,
   "id": "f23afd27",
   "metadata": {},
   "outputs": [
    {
     "name": "stdout",
     "output_type": "stream",
     "text": [
      "True\n"
     ]
    }
   ],
   "source": [
    "def isMonotonic(nums):\n",
    "    n = len(nums)\n",
    "    is_increasing = True\n",
    "    is_decreasing = True\n",
    "    \n",
    "    for i in range(1, n):\n",
    "        if nums[i] < nums[i-1]:\n",
    "            is_increasing = False\n",
    "        if nums[i] > nums[i-1]:\n",
    "            is_decreasing = False\n",
    "    \n",
    "    return is_increasing or is_decreasing\n",
    "\n",
    "#Example usage\n",
    "nums = [1, 2, 2, 3]\n",
    "\n",
    "result = isMonotonic(nums)\n",
    "print(result)  # Output: True\n"
   ]
  },
  {
   "cell_type": "markdown",
   "id": "7e41c69f",
   "metadata": {},
   "source": [
    "## Question 8\n",
    "You are given an integer array nums and an integer k.\n",
    "\n",
    "In one operation, you can choose any index i where 0 <= i < nums.length and change nums[i] to nums[i] + x where x is an integer from the range [-k, k]. You can apply this operation at most once for each index i.\n",
    "\n",
    "The score of nums is the difference between the maximum and minimum elements in nums.\n",
    "\n",
    "Return the minimum score of nums after applying the mentioned operation at most once for each index in it.\n",
    "\n",
    "Example 1:\n",
    "Input: nums = [1], k = 0\n",
    "Output: 0\n",
    "\n",
    "Explanation: The score is max(nums) - min(nums) = 1 - 1 = 0."
   ]
  },
  {
   "cell_type": "raw",
   "id": "09f626d4",
   "metadata": {},
   "source": [
    "Ans:-The minimum score of the array nums after applying the mentioned operation at most once for each index, we can consider the following steps:\n",
    "    \n",
    "    \n",
    "1.Initialize max_val and min_val as the first element of nums.\n",
    "2.Iterate over the elements of nums starting from the second element.\n",
    "3.Update max_val if the current element plus k is greater than max_val.\n",
    "4.Update min_val if the current element minus k is smaller than min_val.\n",
    "5.After iterating over all elements, calculate and return the difference max_val - min_val."
   ]
  },
  {
   "cell_type": "code",
   "execution_count": 8,
   "id": "b34a9411",
   "metadata": {},
   "outputs": [
    {
     "name": "stdout",
     "output_type": "stream",
     "text": [
      "0\n"
     ]
    }
   ],
   "source": [
    "def minimumScore(nums, k):\n",
    "    n = len(nums)\n",
    "    max_val = min_val = nums[0]\n",
    "    \n",
    "    for i in range(1, n):\n",
    "        max_val = max(max_val, nums[i] + k)\n",
    "        min_val = min(min_val, nums[i] - k)\n",
    "    \n",
    "    return max_val - min_val\n",
    "#Example usage\n",
    "nums = [1]\n",
    "k = 0\n",
    "\n",
    "result = minimumScore(nums, k)\n",
    "print(result)  # Output: 0\n",
    "\n"
   ]
  },
  {
   "cell_type": "markdown",
   "id": "1454425a",
   "metadata": {},
   "source": [
    "In this case, the array nums has only one element, so the minimum score is 0 since there is no operation to be performed."
   ]
  },
  {
   "cell_type": "code",
   "execution_count": null,
   "id": "0d858b9a",
   "metadata": {},
   "outputs": [],
   "source": []
  }
 ],
 "metadata": {
  "kernelspec": {
   "display_name": "Python 3 (ipykernel)",
   "language": "python",
   "name": "python3"
  },
  "language_info": {
   "codemirror_mode": {
    "name": "ipython",
    "version": 3
   },
   "file_extension": ".py",
   "mimetype": "text/x-python",
   "name": "python",
   "nbconvert_exporter": "python",
   "pygments_lexer": "ipython3",
   "version": "3.10.7"
  }
 },
 "nbformat": 4,
 "nbformat_minor": 5
}
