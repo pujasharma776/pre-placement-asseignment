{
 "cells": [
  {
   "cell_type": "markdown",
   "id": "a31c86d2",
   "metadata": {},
   "source": [
    "# DSA Q.1"
   ]
  },
  {
   "cell_type": "markdown",
   "id": "7908ff3c",
   "metadata": {},
   "source": [
    "### Q.1.Implement a stack using a list in Python. Include the necessary methods such as push, pop, and isEmpty."
   ]
  },
  {
   "cell_type": "markdown",
   "id": "a4c7eddd",
   "metadata": {},
   "source": [
    "Ans:-Here's an implementation of a stack using a list in Python:"
   ]
  },
  {
   "cell_type": "code",
   "execution_count": 1,
   "id": "2510d41f",
   "metadata": {},
   "outputs": [],
   "source": [
    "class Stack:\n",
    "    def __init__(self):\n",
    "        self.stack = []\n",
    "\n",
    "    def push(self, item):\n",
    "        self.stack.append(item)\n",
    "\n",
    "    def pop(self):\n",
    "        if not self.isEmpty():\n",
    "            return self.stack.pop()\n",
    "        else:\n",
    "            raise IndexError(\"Stack is empty\")\n",
    "\n",
    "    def isEmpty(self):\n",
    "        return len(self.stack) == 0\n"
   ]
  },
  {
   "cell_type": "code",
   "execution_count": 2,
   "id": "3bc07f90",
   "metadata": {},
   "outputs": [
    {
     "name": "stdout",
     "output_type": "stream",
     "text": [
      "15\n",
      "10\n",
      "False\n",
      "5\n",
      "True\n"
     ]
    }
   ],
   "source": [
    "stack = Stack()\n",
    "stack.push(5)\n",
    "stack.push(10)\n",
    "stack.push(15)\n",
    "\n",
    "print(stack.pop())  \n",
    "print(stack.pop())  \n",
    "print(stack.isEmpty())  \n",
    "print(stack.pop())  \n",
    "print(stack.isEmpty())  \n"
   ]
  },
  {
   "cell_type": "code",
   "execution_count": null,
   "id": "f3f1161e",
   "metadata": {},
   "outputs": [],
   "source": []
  }
 ],
 "metadata": {
  "kernelspec": {
   "display_name": "Python 3 (ipykernel)",
   "language": "python",
   "name": "python3"
  },
  "language_info": {
   "codemirror_mode": {
    "name": "ipython",
    "version": 3
   },
   "file_extension": ".py",
   "mimetype": "text/x-python",
   "name": "python",
   "nbconvert_exporter": "python",
   "pygments_lexer": "ipython3",
   "version": "3.10.7"
  }
 },
 "nbformat": 4,
 "nbformat_minor": 5
}
